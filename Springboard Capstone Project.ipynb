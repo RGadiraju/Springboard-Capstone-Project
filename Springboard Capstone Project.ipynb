{
 "cells": [
  {
   "cell_type": "code",
   "execution_count": 1,
   "metadata": {},
   "outputs": [],
   "source": [
    "# Import Packages\n",
    "\n",
    "import numpy as np\n",
    "import pandas as pd\n",
    "import matplotlib.pyplot as plt\n",
    "import seaborn as sns\n",
    "import scipy.stats as stats\n",
    "import sklearn"
   ]
  },
  {
   "cell_type": "code",
   "execution_count": 2,
   "metadata": {},
   "outputs": [],
   "source": [
    "# Dataset used can be found at following kaggle link: https://www.kaggle.com/leonardopena/top-spotify-songs-from-20102019-by-year"
   ]
  },
  {
   "cell_type": "code",
   "execution_count": 3,
   "metadata": {},
   "outputs": [],
   "source": [
    "# Import excel file into pandas DataFrame \n",
    "\n",
    "song_ranks = pd.read_excel('top10s.xlsx', names = ['ID', 'title', 'artist', 'genre', 'year', 'beats_per_minute', 'energy', 'danceability', 'loudness', 'liveness', 'valence', 'length', 'acousticness', 'speechiness', 'popularity'], index_col = 0)"
   ]
  },
  {
   "cell_type": "code",
   "execution_count": 4,
   "metadata": {},
   "outputs": [
    {
     "data": {
      "text/html": [
       "<div>\n",
       "<style scoped>\n",
       "    .dataframe tbody tr th:only-of-type {\n",
       "        vertical-align: middle;\n",
       "    }\n",
       "\n",
       "    .dataframe tbody tr th {\n",
       "        vertical-align: top;\n",
       "    }\n",
       "\n",
       "    .dataframe thead th {\n",
       "        text-align: right;\n",
       "    }\n",
       "</style>\n",
       "<table border=\"1\" class=\"dataframe\">\n",
       "  <thead>\n",
       "    <tr style=\"text-align: right;\">\n",
       "      <th></th>\n",
       "      <th>title</th>\n",
       "      <th>artist</th>\n",
       "      <th>genre</th>\n",
       "      <th>year</th>\n",
       "      <th>beats_per_minute</th>\n",
       "      <th>energy</th>\n",
       "      <th>danceability</th>\n",
       "      <th>loudness</th>\n",
       "      <th>liveness</th>\n",
       "      <th>valence</th>\n",
       "      <th>length</th>\n",
       "      <th>acousticness</th>\n",
       "      <th>speechiness</th>\n",
       "      <th>popularity</th>\n",
       "    </tr>\n",
       "    <tr>\n",
       "      <th>ID</th>\n",
       "      <th></th>\n",
       "      <th></th>\n",
       "      <th></th>\n",
       "      <th></th>\n",
       "      <th></th>\n",
       "      <th></th>\n",
       "      <th></th>\n",
       "      <th></th>\n",
       "      <th></th>\n",
       "      <th></th>\n",
       "      <th></th>\n",
       "      <th></th>\n",
       "      <th></th>\n",
       "      <th></th>\n",
       "    </tr>\n",
       "  </thead>\n",
       "  <tbody>\n",
       "    <tr>\n",
       "      <td>1</td>\n",
       "      <td>Hey, Soul Sister</td>\n",
       "      <td>Train</td>\n",
       "      <td>neo mellow</td>\n",
       "      <td>2010</td>\n",
       "      <td>97</td>\n",
       "      <td>89</td>\n",
       "      <td>67</td>\n",
       "      <td>-4</td>\n",
       "      <td>8</td>\n",
       "      <td>80</td>\n",
       "      <td>217</td>\n",
       "      <td>19</td>\n",
       "      <td>4</td>\n",
       "      <td>83</td>\n",
       "    </tr>\n",
       "    <tr>\n",
       "      <td>2</td>\n",
       "      <td>Love The Way You Lie</td>\n",
       "      <td>Eminem</td>\n",
       "      <td>detroit hip hop</td>\n",
       "      <td>2010</td>\n",
       "      <td>87</td>\n",
       "      <td>93</td>\n",
       "      <td>75</td>\n",
       "      <td>-5</td>\n",
       "      <td>52</td>\n",
       "      <td>64</td>\n",
       "      <td>263</td>\n",
       "      <td>24</td>\n",
       "      <td>23</td>\n",
       "      <td>82</td>\n",
       "    </tr>\n",
       "    <tr>\n",
       "      <td>3</td>\n",
       "      <td>TiK ToK</td>\n",
       "      <td>Kesha</td>\n",
       "      <td>dance pop</td>\n",
       "      <td>2010</td>\n",
       "      <td>120</td>\n",
       "      <td>84</td>\n",
       "      <td>76</td>\n",
       "      <td>-3</td>\n",
       "      <td>29</td>\n",
       "      <td>71</td>\n",
       "      <td>200</td>\n",
       "      <td>10</td>\n",
       "      <td>14</td>\n",
       "      <td>80</td>\n",
       "    </tr>\n",
       "    <tr>\n",
       "      <td>4</td>\n",
       "      <td>Bad Romance</td>\n",
       "      <td>Lady Gaga</td>\n",
       "      <td>dance pop</td>\n",
       "      <td>2010</td>\n",
       "      <td>119</td>\n",
       "      <td>92</td>\n",
       "      <td>70</td>\n",
       "      <td>-4</td>\n",
       "      <td>8</td>\n",
       "      <td>71</td>\n",
       "      <td>295</td>\n",
       "      <td>0</td>\n",
       "      <td>4</td>\n",
       "      <td>79</td>\n",
       "    </tr>\n",
       "    <tr>\n",
       "      <td>5</td>\n",
       "      <td>Just the Way You Are</td>\n",
       "      <td>Bruno Mars</td>\n",
       "      <td>pop</td>\n",
       "      <td>2010</td>\n",
       "      <td>109</td>\n",
       "      <td>84</td>\n",
       "      <td>64</td>\n",
       "      <td>-5</td>\n",
       "      <td>9</td>\n",
       "      <td>43</td>\n",
       "      <td>221</td>\n",
       "      <td>2</td>\n",
       "      <td>4</td>\n",
       "      <td>78</td>\n",
       "    </tr>\n",
       "    <tr>\n",
       "      <td>...</td>\n",
       "      <td>...</td>\n",
       "      <td>...</td>\n",
       "      <td>...</td>\n",
       "      <td>...</td>\n",
       "      <td>...</td>\n",
       "      <td>...</td>\n",
       "      <td>...</td>\n",
       "      <td>...</td>\n",
       "      <td>...</td>\n",
       "      <td>...</td>\n",
       "      <td>...</td>\n",
       "      <td>...</td>\n",
       "      <td>...</td>\n",
       "      <td>...</td>\n",
       "    </tr>\n",
       "    <tr>\n",
       "      <td>599</td>\n",
       "      <td>Find U Again (feat. Camila Cabello)</td>\n",
       "      <td>Mark Ronson</td>\n",
       "      <td>dance pop</td>\n",
       "      <td>2019</td>\n",
       "      <td>104</td>\n",
       "      <td>66</td>\n",
       "      <td>61</td>\n",
       "      <td>-7</td>\n",
       "      <td>20</td>\n",
       "      <td>16</td>\n",
       "      <td>176</td>\n",
       "      <td>1</td>\n",
       "      <td>3</td>\n",
       "      <td>75</td>\n",
       "    </tr>\n",
       "    <tr>\n",
       "      <td>600</td>\n",
       "      <td>Cross Me (feat. Chance the Rapper &amp; PnB Rock)</td>\n",
       "      <td>Ed Sheeran</td>\n",
       "      <td>pop</td>\n",
       "      <td>2019</td>\n",
       "      <td>95</td>\n",
       "      <td>79</td>\n",
       "      <td>75</td>\n",
       "      <td>-6</td>\n",
       "      <td>7</td>\n",
       "      <td>61</td>\n",
       "      <td>206</td>\n",
       "      <td>21</td>\n",
       "      <td>12</td>\n",
       "      <td>75</td>\n",
       "    </tr>\n",
       "    <tr>\n",
       "      <td>601</td>\n",
       "      <td>No Brainer (feat. Justin Bieber, Chance the Ra...</td>\n",
       "      <td>DJ Khaled</td>\n",
       "      <td>dance pop</td>\n",
       "      <td>2019</td>\n",
       "      <td>136</td>\n",
       "      <td>76</td>\n",
       "      <td>53</td>\n",
       "      <td>-5</td>\n",
       "      <td>9</td>\n",
       "      <td>65</td>\n",
       "      <td>260</td>\n",
       "      <td>7</td>\n",
       "      <td>34</td>\n",
       "      <td>70</td>\n",
       "    </tr>\n",
       "    <tr>\n",
       "      <td>602</td>\n",
       "      <td>Nothing Breaks Like a Heart (feat. Miley Cyrus)</td>\n",
       "      <td>Mark Ronson</td>\n",
       "      <td>dance pop</td>\n",
       "      <td>2019</td>\n",
       "      <td>114</td>\n",
       "      <td>79</td>\n",
       "      <td>60</td>\n",
       "      <td>-6</td>\n",
       "      <td>42</td>\n",
       "      <td>24</td>\n",
       "      <td>217</td>\n",
       "      <td>1</td>\n",
       "      <td>7</td>\n",
       "      <td>69</td>\n",
       "    </tr>\n",
       "    <tr>\n",
       "      <td>603</td>\n",
       "      <td>Kills You Slowly</td>\n",
       "      <td>The Chainsmokers</td>\n",
       "      <td>electropop</td>\n",
       "      <td>2019</td>\n",
       "      <td>150</td>\n",
       "      <td>44</td>\n",
       "      <td>70</td>\n",
       "      <td>-9</td>\n",
       "      <td>13</td>\n",
       "      <td>23</td>\n",
       "      <td>213</td>\n",
       "      <td>6</td>\n",
       "      <td>6</td>\n",
       "      <td>67</td>\n",
       "    </tr>\n",
       "  </tbody>\n",
       "</table>\n",
       "<p>603 rows × 14 columns</p>\n",
       "</div>"
      ],
      "text/plain": [
       "                                                 title            artist  \\\n",
       "ID                                                                         \n",
       "1                                     Hey, Soul Sister             Train   \n",
       "2                                 Love The Way You Lie            Eminem   \n",
       "3                                              TiK ToK             Kesha   \n",
       "4                                          Bad Romance         Lady Gaga   \n",
       "5                                 Just the Way You Are        Bruno Mars   \n",
       "..                                                 ...               ...   \n",
       "599                Find U Again (feat. Camila Cabello)       Mark Ronson   \n",
       "600      Cross Me (feat. Chance the Rapper & PnB Rock)        Ed Sheeran   \n",
       "601  No Brainer (feat. Justin Bieber, Chance the Ra...         DJ Khaled   \n",
       "602    Nothing Breaks Like a Heart (feat. Miley Cyrus)       Mark Ronson   \n",
       "603                                   Kills You Slowly  The Chainsmokers   \n",
       "\n",
       "               genre  year  beats_per_minute  energy  danceability  loudness  \\\n",
       "ID                                                                             \n",
       "1         neo mellow  2010                97      89            67        -4   \n",
       "2    detroit hip hop  2010                87      93            75        -5   \n",
       "3          dance pop  2010               120      84            76        -3   \n",
       "4          dance pop  2010               119      92            70        -4   \n",
       "5                pop  2010               109      84            64        -5   \n",
       "..               ...   ...               ...     ...           ...       ...   \n",
       "599        dance pop  2019               104      66            61        -7   \n",
       "600              pop  2019                95      79            75        -6   \n",
       "601        dance pop  2019               136      76            53        -5   \n",
       "602        dance pop  2019               114      79            60        -6   \n",
       "603       electropop  2019               150      44            70        -9   \n",
       "\n",
       "     liveness  valence  length  acousticness  speechiness  popularity  \n",
       "ID                                                                     \n",
       "1           8       80     217            19            4          83  \n",
       "2          52       64     263            24           23          82  \n",
       "3          29       71     200            10           14          80  \n",
       "4           8       71     295             0            4          79  \n",
       "5           9       43     221             2            4          78  \n",
       "..        ...      ...     ...           ...          ...         ...  \n",
       "599        20       16     176             1            3          75  \n",
       "600         7       61     206            21           12          75  \n",
       "601         9       65     260             7           34          70  \n",
       "602        42       24     217             1            7          69  \n",
       "603        13       23     213             6            6          67  \n",
       "\n",
       "[603 rows x 14 columns]"
      ]
     },
     "execution_count": 4,
     "metadata": {},
     "output_type": "execute_result"
    }
   ],
   "source": [
    "song_ranks"
   ]
  },
  {
   "cell_type": "code",
   "execution_count": 5,
   "metadata": {
    "scrolled": true
   },
   "outputs": [
    {
     "name": "stdout",
     "output_type": "stream",
     "text": [
      "<class 'pandas.core.frame.DataFrame'>\n",
      "Int64Index: 603 entries, 1 to 603\n",
      "Data columns (total 14 columns):\n",
      "title               603 non-null object\n",
      "artist              603 non-null object\n",
      "genre               603 non-null object\n",
      "year                603 non-null int64\n",
      "beats_per_minute    603 non-null int64\n",
      "energy              603 non-null int64\n",
      "danceability        603 non-null int64\n",
      "loudness            603 non-null int64\n",
      "liveness            603 non-null int64\n",
      "valence             603 non-null int64\n",
      "length              603 non-null int64\n",
      "acousticness        603 non-null int64\n",
      "speechiness         603 non-null int64\n",
      "popularity          603 non-null int64\n",
      "dtypes: int64(11), object(3)\n",
      "memory usage: 70.7+ KB\n"
     ]
    }
   ],
   "source": [
    "song_ranks.info()"
   ]
  },
  {
   "cell_type": "code",
   "execution_count": 6,
   "metadata": {},
   "outputs": [
    {
     "name": "stdout",
     "output_type": "stream",
     "text": [
      "<class 'pandas.core.frame.DataFrame'>\n",
      "Int64Index: 603 entries, 1 to 603\n",
      "Data columns (total 14 columns):\n",
      "title               603 non-null object\n",
      "artist              603 non-null object\n",
      "genre               603 non-null category\n",
      "year                603 non-null object\n",
      "beats_per_minute    603 non-null int64\n",
      "energy              603 non-null int64\n",
      "danceability        603 non-null int64\n",
      "loudness            603 non-null int64\n",
      "liveness            603 non-null int64\n",
      "valence             603 non-null int64\n",
      "length              603 non-null int64\n",
      "acousticness        603 non-null int64\n",
      "speechiness         603 non-null int64\n",
      "popularity          603 non-null int64\n",
      "dtypes: category(1), int64(10), object(3)\n",
      "memory usage: 69.4+ KB\n"
     ]
    }
   ],
   "source": [
    "# Changing datatype of year from int to string & datatype of genre from string to categorical \n",
    "\n",
    "song_ranks.year = song_ranks.year.astype(str)\n",
    "song_ranks.genre = song_ranks.genre.astype('category')\n",
    "song_ranks.info()"
   ]
  },
  {
   "cell_type": "code",
   "execution_count": 7,
   "metadata": {},
   "outputs": [
    {
     "data": {
      "text/html": [
       "<div>\n",
       "<style scoped>\n",
       "    .dataframe tbody tr th:only-of-type {\n",
       "        vertical-align: middle;\n",
       "    }\n",
       "\n",
       "    .dataframe tbody tr th {\n",
       "        vertical-align: top;\n",
       "    }\n",
       "\n",
       "    .dataframe thead th {\n",
       "        text-align: right;\n",
       "    }\n",
       "</style>\n",
       "<table border=\"1\" class=\"dataframe\">\n",
       "  <thead>\n",
       "    <tr style=\"text-align: right;\">\n",
       "      <th></th>\n",
       "      <th>beats_per_minute</th>\n",
       "      <th>energy</th>\n",
       "      <th>danceability</th>\n",
       "      <th>loudness</th>\n",
       "      <th>liveness</th>\n",
       "      <th>valence</th>\n",
       "      <th>length</th>\n",
       "      <th>acousticness</th>\n",
       "      <th>speechiness</th>\n",
       "      <th>popularity</th>\n",
       "    </tr>\n",
       "  </thead>\n",
       "  <tbody>\n",
       "    <tr>\n",
       "      <td>count</td>\n",
       "      <td>603.000000</td>\n",
       "      <td>603.000000</td>\n",
       "      <td>603.000000</td>\n",
       "      <td>603.000000</td>\n",
       "      <td>603.000000</td>\n",
       "      <td>603.000000</td>\n",
       "      <td>603.000000</td>\n",
       "      <td>603.000000</td>\n",
       "      <td>603.000000</td>\n",
       "      <td>603.000000</td>\n",
       "    </tr>\n",
       "    <tr>\n",
       "      <td>mean</td>\n",
       "      <td>118.545605</td>\n",
       "      <td>70.504146</td>\n",
       "      <td>64.379768</td>\n",
       "      <td>-5.578773</td>\n",
       "      <td>17.774461</td>\n",
       "      <td>52.225539</td>\n",
       "      <td>224.674959</td>\n",
       "      <td>14.326700</td>\n",
       "      <td>8.358209</td>\n",
       "      <td>66.520730</td>\n",
       "    </tr>\n",
       "    <tr>\n",
       "      <td>std</td>\n",
       "      <td>24.795358</td>\n",
       "      <td>16.310664</td>\n",
       "      <td>13.378718</td>\n",
       "      <td>2.798020</td>\n",
       "      <td>13.102543</td>\n",
       "      <td>22.513020</td>\n",
       "      <td>34.130059</td>\n",
       "      <td>20.766165</td>\n",
       "      <td>7.483162</td>\n",
       "      <td>14.517746</td>\n",
       "    </tr>\n",
       "    <tr>\n",
       "      <td>min</td>\n",
       "      <td>0.000000</td>\n",
       "      <td>0.000000</td>\n",
       "      <td>0.000000</td>\n",
       "      <td>-60.000000</td>\n",
       "      <td>0.000000</td>\n",
       "      <td>0.000000</td>\n",
       "      <td>134.000000</td>\n",
       "      <td>0.000000</td>\n",
       "      <td>0.000000</td>\n",
       "      <td>0.000000</td>\n",
       "    </tr>\n",
       "    <tr>\n",
       "      <td>25%</td>\n",
       "      <td>100.000000</td>\n",
       "      <td>61.000000</td>\n",
       "      <td>57.000000</td>\n",
       "      <td>-6.000000</td>\n",
       "      <td>9.000000</td>\n",
       "      <td>35.000000</td>\n",
       "      <td>202.000000</td>\n",
       "      <td>2.000000</td>\n",
       "      <td>4.000000</td>\n",
       "      <td>60.000000</td>\n",
       "    </tr>\n",
       "    <tr>\n",
       "      <td>50%</td>\n",
       "      <td>120.000000</td>\n",
       "      <td>74.000000</td>\n",
       "      <td>66.000000</td>\n",
       "      <td>-5.000000</td>\n",
       "      <td>12.000000</td>\n",
       "      <td>52.000000</td>\n",
       "      <td>221.000000</td>\n",
       "      <td>6.000000</td>\n",
       "      <td>5.000000</td>\n",
       "      <td>69.000000</td>\n",
       "    </tr>\n",
       "    <tr>\n",
       "      <td>75%</td>\n",
       "      <td>129.000000</td>\n",
       "      <td>82.000000</td>\n",
       "      <td>73.000000</td>\n",
       "      <td>-4.000000</td>\n",
       "      <td>24.000000</td>\n",
       "      <td>69.000000</td>\n",
       "      <td>239.500000</td>\n",
       "      <td>17.000000</td>\n",
       "      <td>9.000000</td>\n",
       "      <td>76.000000</td>\n",
       "    </tr>\n",
       "    <tr>\n",
       "      <td>max</td>\n",
       "      <td>206.000000</td>\n",
       "      <td>98.000000</td>\n",
       "      <td>97.000000</td>\n",
       "      <td>-2.000000</td>\n",
       "      <td>74.000000</td>\n",
       "      <td>98.000000</td>\n",
       "      <td>424.000000</td>\n",
       "      <td>99.000000</td>\n",
       "      <td>48.000000</td>\n",
       "      <td>99.000000</td>\n",
       "    </tr>\n",
       "  </tbody>\n",
       "</table>\n",
       "</div>"
      ],
      "text/plain": [
       "       beats_per_minute      energy  danceability    loudness    liveness  \\\n",
       "count        603.000000  603.000000    603.000000  603.000000  603.000000   \n",
       "mean         118.545605   70.504146     64.379768   -5.578773   17.774461   \n",
       "std           24.795358   16.310664     13.378718    2.798020   13.102543   \n",
       "min            0.000000    0.000000      0.000000  -60.000000    0.000000   \n",
       "25%          100.000000   61.000000     57.000000   -6.000000    9.000000   \n",
       "50%          120.000000   74.000000     66.000000   -5.000000   12.000000   \n",
       "75%          129.000000   82.000000     73.000000   -4.000000   24.000000   \n",
       "max          206.000000   98.000000     97.000000   -2.000000   74.000000   \n",
       "\n",
       "          valence      length  acousticness  speechiness  popularity  \n",
       "count  603.000000  603.000000    603.000000   603.000000  603.000000  \n",
       "mean    52.225539  224.674959     14.326700     8.358209   66.520730  \n",
       "std     22.513020   34.130059     20.766165     7.483162   14.517746  \n",
       "min      0.000000  134.000000      0.000000     0.000000    0.000000  \n",
       "25%     35.000000  202.000000      2.000000     4.000000   60.000000  \n",
       "50%     52.000000  221.000000      6.000000     5.000000   69.000000  \n",
       "75%     69.000000  239.500000     17.000000     9.000000   76.000000  \n",
       "max     98.000000  424.000000     99.000000    48.000000   99.000000  "
      ]
     },
     "execution_count": 7,
     "metadata": {},
     "output_type": "execute_result"
    }
   ],
   "source": [
    "song_ranks.describe()"
   ]
  },
  {
   "cell_type": "code",
   "execution_count": 8,
   "metadata": {},
   "outputs": [
    {
     "data": {
      "text/html": [
       "<div>\n",
       "<style scoped>\n",
       "    .dataframe tbody tr th:only-of-type {\n",
       "        vertical-align: middle;\n",
       "    }\n",
       "\n",
       "    .dataframe tbody tr th {\n",
       "        vertical-align: top;\n",
       "    }\n",
       "\n",
       "    .dataframe thead th {\n",
       "        text-align: right;\n",
       "    }\n",
       "</style>\n",
       "<table border=\"1\" class=\"dataframe\">\n",
       "  <thead>\n",
       "    <tr style=\"text-align: right;\">\n",
       "      <th></th>\n",
       "      <th>title</th>\n",
       "      <th>artist</th>\n",
       "      <th>genre</th>\n",
       "      <th>year</th>\n",
       "      <th>beats_per_minute</th>\n",
       "      <th>energy</th>\n",
       "      <th>danceability</th>\n",
       "      <th>loudness</th>\n",
       "      <th>liveness</th>\n",
       "      <th>valence</th>\n",
       "      <th>length</th>\n",
       "      <th>acousticness</th>\n",
       "      <th>speechiness</th>\n",
       "      <th>popularity</th>\n",
       "    </tr>\n",
       "    <tr>\n",
       "      <th>ID</th>\n",
       "      <th></th>\n",
       "      <th></th>\n",
       "      <th></th>\n",
       "      <th></th>\n",
       "      <th></th>\n",
       "      <th></th>\n",
       "      <th></th>\n",
       "      <th></th>\n",
       "      <th></th>\n",
       "      <th></th>\n",
       "      <th></th>\n",
       "      <th></th>\n",
       "      <th></th>\n",
       "      <th></th>\n",
       "    </tr>\n",
       "  </thead>\n",
       "  <tbody>\n",
       "    <tr>\n",
       "      <td>443</td>\n",
       "      <td>Million Years Ago</td>\n",
       "      <td>Adele</td>\n",
       "      <td>british soul</td>\n",
       "      <td>2016</td>\n",
       "      <td>0</td>\n",
       "      <td>0</td>\n",
       "      <td>0</td>\n",
       "      <td>-60</td>\n",
       "      <td>0</td>\n",
       "      <td>0</td>\n",
       "      <td>227</td>\n",
       "      <td>0</td>\n",
       "      <td>0</td>\n",
       "      <td>0</td>\n",
       "    </tr>\n",
       "  </tbody>\n",
       "</table>\n",
       "</div>"
      ],
      "text/plain": [
       "                 title artist         genre  year  beats_per_minute  energy  \\\n",
       "ID                                                                            \n",
       "443  Million Years Ago  Adele  british soul  2016                 0       0   \n",
       "\n",
       "     danceability  loudness  liveness  valence  length  acousticness  \\\n",
       "ID                                                                     \n",
       "443             0       -60         0        0     227             0   \n",
       "\n",
       "     speechiness  popularity  \n",
       "ID                            \n",
       "443            0           0  "
      ]
     },
     "execution_count": 8,
     "metadata": {},
     "output_type": "execute_result"
    }
   ],
   "source": [
    "# Checking which song had beats_per_minute value of 0, song has value of 0 for almost all attributes \n",
    "\n",
    "song_ranks[song_ranks.beats_per_minute == 0]"
   ]
  },
  {
   "cell_type": "code",
   "execution_count": 9,
   "metadata": {},
   "outputs": [
    {
     "data": {
      "text/plain": [
       "title               Million Years Ago\n",
       "artist                          Adele\n",
       "genre                    british soul\n",
       "year                             2016\n",
       "beats_per_minute                    0\n",
       "energy                              0\n",
       "danceability                        0\n",
       "loudness                          -60\n",
       "liveness                            0\n",
       "valence                             0\n",
       "length                            227\n",
       "acousticness                        0\n",
       "speechiness                         0\n",
       "popularity                          0\n",
       "Name: 443, dtype: object"
      ]
     },
     "execution_count": 9,
     "metadata": {},
     "output_type": "execute_result"
    }
   ],
   "source": [
    "song_ranks.loc[443,:]"
   ]
  },
  {
   "cell_type": "code",
   "execution_count": 10,
   "metadata": {},
   "outputs": [],
   "source": [
    "# Removing above song \n",
    "\n",
    "song_ranks_1 = song_ranks.drop(443, axis=0)"
   ]
  },
  {
   "cell_type": "code",
   "execution_count": 11,
   "metadata": {},
   "outputs": [
    {
     "data": {
      "text/html": [
       "<div>\n",
       "<style scoped>\n",
       "    .dataframe tbody tr th:only-of-type {\n",
       "        vertical-align: middle;\n",
       "    }\n",
       "\n",
       "    .dataframe tbody tr th {\n",
       "        vertical-align: top;\n",
       "    }\n",
       "\n",
       "    .dataframe thead th {\n",
       "        text-align: right;\n",
       "    }\n",
       "</style>\n",
       "<table border=\"1\" class=\"dataframe\">\n",
       "  <thead>\n",
       "    <tr style=\"text-align: right;\">\n",
       "      <th></th>\n",
       "      <th>beats_per_minute</th>\n",
       "      <th>energy</th>\n",
       "      <th>danceability</th>\n",
       "      <th>loudness</th>\n",
       "      <th>liveness</th>\n",
       "      <th>valence</th>\n",
       "      <th>length</th>\n",
       "      <th>acousticness</th>\n",
       "      <th>speechiness</th>\n",
       "      <th>popularity</th>\n",
       "    </tr>\n",
       "  </thead>\n",
       "  <tbody>\n",
       "    <tr>\n",
       "      <td>count</td>\n",
       "      <td>602.000000</td>\n",
       "      <td>602.000000</td>\n",
       "      <td>602.000000</td>\n",
       "      <td>602.000000</td>\n",
       "      <td>602.000000</td>\n",
       "      <td>602.000000</td>\n",
       "      <td>602.000000</td>\n",
       "      <td>602.000000</td>\n",
       "      <td>602.000000</td>\n",
       "      <td>602.000000</td>\n",
       "    </tr>\n",
       "    <tr>\n",
       "      <td>mean</td>\n",
       "      <td>118.742525</td>\n",
       "      <td>70.621262</td>\n",
       "      <td>64.486711</td>\n",
       "      <td>-5.488372</td>\n",
       "      <td>17.803987</td>\n",
       "      <td>52.312292</td>\n",
       "      <td>224.671096</td>\n",
       "      <td>14.350498</td>\n",
       "      <td>8.372093</td>\n",
       "      <td>66.631229</td>\n",
       "    </tr>\n",
       "    <tr>\n",
       "      <td>std</td>\n",
       "      <td>24.339497</td>\n",
       "      <td>16.068471</td>\n",
       "      <td>13.129357</td>\n",
       "      <td>1.704657</td>\n",
       "      <td>13.093347</td>\n",
       "      <td>22.430640</td>\n",
       "      <td>34.158310</td>\n",
       "      <td>20.775203</td>\n",
       "      <td>7.481608</td>\n",
       "      <td>14.273775</td>\n",
       "    </tr>\n",
       "    <tr>\n",
       "      <td>min</td>\n",
       "      <td>43.000000</td>\n",
       "      <td>4.000000</td>\n",
       "      <td>23.000000</td>\n",
       "      <td>-15.000000</td>\n",
       "      <td>2.000000</td>\n",
       "      <td>4.000000</td>\n",
       "      <td>134.000000</td>\n",
       "      <td>0.000000</td>\n",
       "      <td>3.000000</td>\n",
       "      <td>0.000000</td>\n",
       "    </tr>\n",
       "    <tr>\n",
       "      <td>25%</td>\n",
       "      <td>100.000000</td>\n",
       "      <td>61.000000</td>\n",
       "      <td>57.000000</td>\n",
       "      <td>-6.000000</td>\n",
       "      <td>9.000000</td>\n",
       "      <td>35.000000</td>\n",
       "      <td>202.000000</td>\n",
       "      <td>2.000000</td>\n",
       "      <td>4.000000</td>\n",
       "      <td>60.000000</td>\n",
       "    </tr>\n",
       "    <tr>\n",
       "      <td>50%</td>\n",
       "      <td>120.000000</td>\n",
       "      <td>74.000000</td>\n",
       "      <td>66.000000</td>\n",
       "      <td>-5.000000</td>\n",
       "      <td>12.000000</td>\n",
       "      <td>52.000000</td>\n",
       "      <td>220.500000</td>\n",
       "      <td>6.000000</td>\n",
       "      <td>5.000000</td>\n",
       "      <td>69.000000</td>\n",
       "    </tr>\n",
       "    <tr>\n",
       "      <td>75%</td>\n",
       "      <td>129.000000</td>\n",
       "      <td>82.000000</td>\n",
       "      <td>73.000000</td>\n",
       "      <td>-4.000000</td>\n",
       "      <td>24.000000</td>\n",
       "      <td>69.000000</td>\n",
       "      <td>239.750000</td>\n",
       "      <td>17.000000</td>\n",
       "      <td>9.000000</td>\n",
       "      <td>76.000000</td>\n",
       "    </tr>\n",
       "    <tr>\n",
       "      <td>max</td>\n",
       "      <td>206.000000</td>\n",
       "      <td>98.000000</td>\n",
       "      <td>97.000000</td>\n",
       "      <td>-2.000000</td>\n",
       "      <td>74.000000</td>\n",
       "      <td>98.000000</td>\n",
       "      <td>424.000000</td>\n",
       "      <td>99.000000</td>\n",
       "      <td>48.000000</td>\n",
       "      <td>99.000000</td>\n",
       "    </tr>\n",
       "  </tbody>\n",
       "</table>\n",
       "</div>"
      ],
      "text/plain": [
       "       beats_per_minute      energy  danceability    loudness    liveness  \\\n",
       "count        602.000000  602.000000    602.000000  602.000000  602.000000   \n",
       "mean         118.742525   70.621262     64.486711   -5.488372   17.803987   \n",
       "std           24.339497   16.068471     13.129357    1.704657   13.093347   \n",
       "min           43.000000    4.000000     23.000000  -15.000000    2.000000   \n",
       "25%          100.000000   61.000000     57.000000   -6.000000    9.000000   \n",
       "50%          120.000000   74.000000     66.000000   -5.000000   12.000000   \n",
       "75%          129.000000   82.000000     73.000000   -4.000000   24.000000   \n",
       "max          206.000000   98.000000     97.000000   -2.000000   74.000000   \n",
       "\n",
       "          valence      length  acousticness  speechiness  popularity  \n",
       "count  602.000000  602.000000    602.000000   602.000000  602.000000  \n",
       "mean    52.312292  224.671096     14.350498     8.372093   66.631229  \n",
       "std     22.430640   34.158310     20.775203     7.481608   14.273775  \n",
       "min      4.000000  134.000000      0.000000     3.000000    0.000000  \n",
       "25%     35.000000  202.000000      2.000000     4.000000   60.000000  \n",
       "50%     52.000000  220.500000      6.000000     5.000000   69.000000  \n",
       "75%     69.000000  239.750000     17.000000     9.000000   76.000000  \n",
       "max     98.000000  424.000000     99.000000    48.000000   99.000000  "
      ]
     },
     "execution_count": 11,
     "metadata": {},
     "output_type": "execute_result"
    }
   ],
   "source": [
    "song_ranks_1.describe()"
   ]
  },
  {
   "cell_type": "code",
   "execution_count": 12,
   "metadata": {},
   "outputs": [
    {
     "data": {
      "text/html": [
       "<div>\n",
       "<style scoped>\n",
       "    .dataframe tbody tr th:only-of-type {\n",
       "        vertical-align: middle;\n",
       "    }\n",
       "\n",
       "    .dataframe tbody tr th {\n",
       "        vertical-align: top;\n",
       "    }\n",
       "\n",
       "    .dataframe thead th {\n",
       "        text-align: right;\n",
       "    }\n",
       "</style>\n",
       "<table border=\"1\" class=\"dataframe\">\n",
       "  <thead>\n",
       "    <tr style=\"text-align: right;\">\n",
       "      <th></th>\n",
       "      <th>title</th>\n",
       "      <th>artist</th>\n",
       "      <th>genre</th>\n",
       "      <th>year</th>\n",
       "      <th>beats_per_minute</th>\n",
       "      <th>energy</th>\n",
       "      <th>danceability</th>\n",
       "      <th>loudness</th>\n",
       "      <th>liveness</th>\n",
       "      <th>valence</th>\n",
       "      <th>length</th>\n",
       "      <th>acousticness</th>\n",
       "      <th>speechiness</th>\n",
       "      <th>popularity</th>\n",
       "    </tr>\n",
       "    <tr>\n",
       "      <th>ID</th>\n",
       "      <th></th>\n",
       "      <th></th>\n",
       "      <th></th>\n",
       "      <th></th>\n",
       "      <th></th>\n",
       "      <th></th>\n",
       "      <th></th>\n",
       "      <th></th>\n",
       "      <th></th>\n",
       "      <th></th>\n",
       "      <th></th>\n",
       "      <th></th>\n",
       "      <th></th>\n",
       "      <th></th>\n",
       "    </tr>\n",
       "  </thead>\n",
       "  <tbody>\n",
       "    <tr>\n",
       "      <td>4</td>\n",
       "      <td>Bad Romance</td>\n",
       "      <td>Lady Gaga</td>\n",
       "      <td>dance pop</td>\n",
       "      <td>2010</td>\n",
       "      <td>119</td>\n",
       "      <td>92</td>\n",
       "      <td>70</td>\n",
       "      <td>-4</td>\n",
       "      <td>8</td>\n",
       "      <td>71</td>\n",
       "      <td>295</td>\n",
       "      <td>0</td>\n",
       "      <td>4</td>\n",
       "      <td>79</td>\n",
       "    </tr>\n",
       "    <tr>\n",
       "      <td>7</td>\n",
       "      <td>Dynamite</td>\n",
       "      <td>Taio Cruz</td>\n",
       "      <td>dance pop</td>\n",
       "      <td>2010</td>\n",
       "      <td>120</td>\n",
       "      <td>78</td>\n",
       "      <td>75</td>\n",
       "      <td>-4</td>\n",
       "      <td>4</td>\n",
       "      <td>82</td>\n",
       "      <td>203</td>\n",
       "      <td>0</td>\n",
       "      <td>9</td>\n",
       "      <td>77</td>\n",
       "    </tr>\n",
       "    <tr>\n",
       "      <td>19</td>\n",
       "      <td>Alejandro</td>\n",
       "      <td>Lady Gaga</td>\n",
       "      <td>dance pop</td>\n",
       "      <td>2010</td>\n",
       "      <td>99</td>\n",
       "      <td>80</td>\n",
       "      <td>63</td>\n",
       "      <td>-7</td>\n",
       "      <td>36</td>\n",
       "      <td>37</td>\n",
       "      <td>274</td>\n",
       "      <td>0</td>\n",
       "      <td>5</td>\n",
       "      <td>69</td>\n",
       "    </tr>\n",
       "    <tr>\n",
       "      <td>21</td>\n",
       "      <td>Meet Me Halfway</td>\n",
       "      <td>The Black Eyed Peas</td>\n",
       "      <td>dance pop</td>\n",
       "      <td>2010</td>\n",
       "      <td>130</td>\n",
       "      <td>63</td>\n",
       "      <td>80</td>\n",
       "      <td>-7</td>\n",
       "      <td>32</td>\n",
       "      <td>40</td>\n",
       "      <td>284</td>\n",
       "      <td>0</td>\n",
       "      <td>7</td>\n",
       "      <td>68</td>\n",
       "    </tr>\n",
       "    <tr>\n",
       "      <td>23</td>\n",
       "      <td>Take It Off</td>\n",
       "      <td>Kesha</td>\n",
       "      <td>dance pop</td>\n",
       "      <td>2010</td>\n",
       "      <td>125</td>\n",
       "      <td>68</td>\n",
       "      <td>73</td>\n",
       "      <td>-5</td>\n",
       "      <td>9</td>\n",
       "      <td>74</td>\n",
       "      <td>215</td>\n",
       "      <td>0</td>\n",
       "      <td>3</td>\n",
       "      <td>66</td>\n",
       "    </tr>\n",
       "    <tr>\n",
       "      <td>...</td>\n",
       "      <td>...</td>\n",
       "      <td>...</td>\n",
       "      <td>...</td>\n",
       "      <td>...</td>\n",
       "      <td>...</td>\n",
       "      <td>...</td>\n",
       "      <td>...</td>\n",
       "      <td>...</td>\n",
       "      <td>...</td>\n",
       "      <td>...</td>\n",
       "      <td>...</td>\n",
       "      <td>...</td>\n",
       "      <td>...</td>\n",
       "      <td>...</td>\n",
       "    </tr>\n",
       "    <tr>\n",
       "      <td>512</td>\n",
       "      <td>New Rules</td>\n",
       "      <td>Dua Lipa</td>\n",
       "      <td>dance pop</td>\n",
       "      <td>2018</td>\n",
       "      <td>116</td>\n",
       "      <td>70</td>\n",
       "      <td>76</td>\n",
       "      <td>-6</td>\n",
       "      <td>15</td>\n",
       "      <td>61</td>\n",
       "      <td>209</td>\n",
       "      <td>0</td>\n",
       "      <td>7</td>\n",
       "      <td>84</td>\n",
       "    </tr>\n",
       "    <tr>\n",
       "      <td>532</td>\n",
       "      <td>Friends (with BloodPop®)</td>\n",
       "      <td>Justin Bieber</td>\n",
       "      <td>canadian pop</td>\n",
       "      <td>2018</td>\n",
       "      <td>105</td>\n",
       "      <td>73</td>\n",
       "      <td>74</td>\n",
       "      <td>-5</td>\n",
       "      <td>30</td>\n",
       "      <td>62</td>\n",
       "      <td>189</td>\n",
       "      <td>0</td>\n",
       "      <td>4</td>\n",
       "      <td>77</td>\n",
       "    </tr>\n",
       "    <tr>\n",
       "      <td>534</td>\n",
       "      <td>My My My!</td>\n",
       "      <td>Troye Sivan</td>\n",
       "      <td>dance pop</td>\n",
       "      <td>2018</td>\n",
       "      <td>103</td>\n",
       "      <td>46</td>\n",
       "      <td>70</td>\n",
       "      <td>-8</td>\n",
       "      <td>5</td>\n",
       "      <td>48</td>\n",
       "      <td>205</td>\n",
       "      <td>0</td>\n",
       "      <td>8</td>\n",
       "      <td>76</td>\n",
       "    </tr>\n",
       "    <tr>\n",
       "      <td>552</td>\n",
       "      <td>Lemon</td>\n",
       "      <td>N.E.R.D</td>\n",
       "      <td>hip hop</td>\n",
       "      <td>2018</td>\n",
       "      <td>95</td>\n",
       "      <td>73</td>\n",
       "      <td>92</td>\n",
       "      <td>-7</td>\n",
       "      <td>12</td>\n",
       "      <td>20</td>\n",
       "      <td>220</td>\n",
       "      <td>0</td>\n",
       "      <td>9</td>\n",
       "      <td>68</td>\n",
       "    </tr>\n",
       "    <tr>\n",
       "      <td>569</td>\n",
       "      <td>Boom Boom</td>\n",
       "      <td>RedOne</td>\n",
       "      <td>moroccan pop</td>\n",
       "      <td>2018</td>\n",
       "      <td>110</td>\n",
       "      <td>76</td>\n",
       "      <td>75</td>\n",
       "      <td>-8</td>\n",
       "      <td>20</td>\n",
       "      <td>58</td>\n",
       "      <td>248</td>\n",
       "      <td>0</td>\n",
       "      <td>5</td>\n",
       "      <td>53</td>\n",
       "    </tr>\n",
       "  </tbody>\n",
       "</table>\n",
       "<p>72 rows × 14 columns</p>\n",
       "</div>"
      ],
      "text/plain": [
       "                        title               artist         genre  year  \\\n",
       "ID                                                                       \n",
       "4                 Bad Romance            Lady Gaga     dance pop  2010   \n",
       "7                    Dynamite            Taio Cruz     dance pop  2010   \n",
       "19                  Alejandro            Lady Gaga     dance pop  2010   \n",
       "21            Meet Me Halfway  The Black Eyed Peas     dance pop  2010   \n",
       "23                Take It Off                Kesha     dance pop  2010   \n",
       "..                        ...                  ...           ...   ...   \n",
       "512                 New Rules             Dua Lipa     dance pop  2018   \n",
       "532  Friends (with BloodPop®)        Justin Bieber  canadian pop  2018   \n",
       "534                 My My My!          Troye Sivan     dance pop  2018   \n",
       "552                     Lemon              N.E.R.D       hip hop  2018   \n",
       "569                 Boom Boom               RedOne  moroccan pop  2018   \n",
       "\n",
       "     beats_per_minute  energy  danceability  loudness  liveness  valence  \\\n",
       "ID                                                                         \n",
       "4                 119      92            70        -4         8       71   \n",
       "7                 120      78            75        -4         4       82   \n",
       "19                 99      80            63        -7        36       37   \n",
       "21                130      63            80        -7        32       40   \n",
       "23                125      68            73        -5         9       74   \n",
       "..                ...     ...           ...       ...       ...      ...   \n",
       "512               116      70            76        -6        15       61   \n",
       "532               105      73            74        -5        30       62   \n",
       "534               103      46            70        -8         5       48   \n",
       "552                95      73            92        -7        12       20   \n",
       "569               110      76            75        -8        20       58   \n",
       "\n",
       "     length  acousticness  speechiness  popularity  \n",
       "ID                                                  \n",
       "4       295             0            4          79  \n",
       "7       203             0            9          77  \n",
       "19      274             0            5          69  \n",
       "21      284             0            7          68  \n",
       "23      215             0            3          66  \n",
       "..      ...           ...          ...         ...  \n",
       "512     209             0            7          84  \n",
       "532     189             0            4          77  \n",
       "534     205             0            8          76  \n",
       "552     220             0            9          68  \n",
       "569     248             0            5          53  \n",
       "\n",
       "[72 rows x 14 columns]"
      ]
     },
     "execution_count": 12,
     "metadata": {},
     "output_type": "execute_result"
    }
   ],
   "source": [
    "# Checking which songs have a acousticness value of 0, value is acceptable \n",
    "\n",
    "song_ranks_1[song_ranks_1.acousticness == 0]"
   ]
  },
  {
   "cell_type": "code",
   "execution_count": 13,
   "metadata": {},
   "outputs": [
    {
     "data": {
      "text/html": [
       "<div>\n",
       "<style scoped>\n",
       "    .dataframe tbody tr th:only-of-type {\n",
       "        vertical-align: middle;\n",
       "    }\n",
       "\n",
       "    .dataframe tbody tr th {\n",
       "        vertical-align: top;\n",
       "    }\n",
       "\n",
       "    .dataframe thead th {\n",
       "        text-align: right;\n",
       "    }\n",
       "</style>\n",
       "<table border=\"1\" class=\"dataframe\">\n",
       "  <thead>\n",
       "    <tr style=\"text-align: right;\">\n",
       "      <th></th>\n",
       "      <th>title</th>\n",
       "      <th>artist</th>\n",
       "      <th>genre</th>\n",
       "      <th>year</th>\n",
       "      <th>beats_per_minute</th>\n",
       "      <th>energy</th>\n",
       "      <th>danceability</th>\n",
       "      <th>loudness</th>\n",
       "      <th>liveness</th>\n",
       "      <th>valence</th>\n",
       "      <th>length</th>\n",
       "      <th>acousticness</th>\n",
       "      <th>speechiness</th>\n",
       "      <th>popularity</th>\n",
       "    </tr>\n",
       "    <tr>\n",
       "      <th>ID</th>\n",
       "      <th></th>\n",
       "      <th></th>\n",
       "      <th></th>\n",
       "      <th></th>\n",
       "      <th></th>\n",
       "      <th></th>\n",
       "      <th></th>\n",
       "      <th></th>\n",
       "      <th></th>\n",
       "      <th></th>\n",
       "      <th></th>\n",
       "      <th></th>\n",
       "      <th></th>\n",
       "      <th></th>\n",
       "    </tr>\n",
       "  </thead>\n",
       "  <tbody>\n",
       "    <tr>\n",
       "      <td>51</td>\n",
       "      <td>Hello</td>\n",
       "      <td>Martin Solveig</td>\n",
       "      <td>big room</td>\n",
       "      <td>2010</td>\n",
       "      <td>128</td>\n",
       "      <td>98</td>\n",
       "      <td>67</td>\n",
       "      <td>-3</td>\n",
       "      <td>10</td>\n",
       "      <td>45</td>\n",
       "      <td>191</td>\n",
       "      <td>1</td>\n",
       "      <td>3</td>\n",
       "      <td>0</td>\n",
       "    </tr>\n",
       "    <tr>\n",
       "      <td>139</td>\n",
       "      <td>Blow Me (One Last Kiss)</td>\n",
       "      <td>P!nk</td>\n",
       "      <td>dance pop</td>\n",
       "      <td>2012</td>\n",
       "      <td>114</td>\n",
       "      <td>92</td>\n",
       "      <td>60</td>\n",
       "      <td>-3</td>\n",
       "      <td>25</td>\n",
       "      <td>75</td>\n",
       "      <td>256</td>\n",
       "      <td>0</td>\n",
       "      <td>4</td>\n",
       "      <td>0</td>\n",
       "    </tr>\n",
       "    <tr>\n",
       "      <td>268</td>\n",
       "      <td>Not a Bad Thing</td>\n",
       "      <td>Justin Timberlake</td>\n",
       "      <td>dance pop</td>\n",
       "      <td>2014</td>\n",
       "      <td>86</td>\n",
       "      <td>73</td>\n",
       "      <td>59</td>\n",
       "      <td>-6</td>\n",
       "      <td>38</td>\n",
       "      <td>46</td>\n",
       "      <td>266</td>\n",
       "      <td>27</td>\n",
       "      <td>6</td>\n",
       "      <td>0</td>\n",
       "    </tr>\n",
       "    <tr>\n",
       "      <td>363</td>\n",
       "      <td>L.A.LOVE (la la)</td>\n",
       "      <td>Fergie</td>\n",
       "      <td>dance pop</td>\n",
       "      <td>2015</td>\n",
       "      <td>202</td>\n",
       "      <td>39</td>\n",
       "      <td>48</td>\n",
       "      <td>-8</td>\n",
       "      <td>26</td>\n",
       "      <td>27</td>\n",
       "      <td>193</td>\n",
       "      <td>2</td>\n",
       "      <td>9</td>\n",
       "      <td>0</td>\n",
       "    </tr>\n",
       "  </tbody>\n",
       "</table>\n",
       "</div>"
      ],
      "text/plain": [
       "                       title             artist      genre  year  \\\n",
       "ID                                                                 \n",
       "51                     Hello     Martin Solveig   big room  2010   \n",
       "139  Blow Me (One Last Kiss)               P!nk  dance pop  2012   \n",
       "268          Not a Bad Thing  Justin Timberlake  dance pop  2014   \n",
       "363         L.A.LOVE (la la)             Fergie  dance pop  2015   \n",
       "\n",
       "     beats_per_minute  energy  danceability  loudness  liveness  valence  \\\n",
       "ID                                                                         \n",
       "51                128      98            67        -3        10       45   \n",
       "139               114      92            60        -3        25       75   \n",
       "268                86      73            59        -6        38       46   \n",
       "363               202      39            48        -8        26       27   \n",
       "\n",
       "     length  acousticness  speechiness  popularity  \n",
       "ID                                                  \n",
       "51      191             1            3           0  \n",
       "139     256             0            4           0  \n",
       "268     266            27            6           0  \n",
       "363     193             2            9           0  "
      ]
     },
     "execution_count": 13,
     "metadata": {},
     "output_type": "execute_result"
    }
   ],
   "source": [
    "# Checking which songs have a popularity value of 0 as these songs should also be removed from the DataFrame\n",
    "\n",
    "song_ranks_1[song_ranks_1.popularity == 0]"
   ]
  },
  {
   "cell_type": "code",
   "execution_count": 14,
   "metadata": {},
   "outputs": [],
   "source": [
    "song_ranks_2 = song_ranks_1.drop([51,139,268,363], axis=0)"
   ]
  },
  {
   "cell_type": "code",
   "execution_count": 15,
   "metadata": {},
   "outputs": [
    {
     "data": {
      "text/html": [
       "<div>\n",
       "<style scoped>\n",
       "    .dataframe tbody tr th:only-of-type {\n",
       "        vertical-align: middle;\n",
       "    }\n",
       "\n",
       "    .dataframe tbody tr th {\n",
       "        vertical-align: top;\n",
       "    }\n",
       "\n",
       "    .dataframe thead th {\n",
       "        text-align: right;\n",
       "    }\n",
       "</style>\n",
       "<table border=\"1\" class=\"dataframe\">\n",
       "  <thead>\n",
       "    <tr style=\"text-align: right;\">\n",
       "      <th></th>\n",
       "      <th>beats_per_minute</th>\n",
       "      <th>energy</th>\n",
       "      <th>danceability</th>\n",
       "      <th>loudness</th>\n",
       "      <th>liveness</th>\n",
       "      <th>valence</th>\n",
       "      <th>length</th>\n",
       "      <th>acousticness</th>\n",
       "      <th>speechiness</th>\n",
       "      <th>popularity</th>\n",
       "    </tr>\n",
       "  </thead>\n",
       "  <tbody>\n",
       "    <tr>\n",
       "      <td>count</td>\n",
       "      <td>598.000000</td>\n",
       "      <td>598.000000</td>\n",
       "      <td>598.000000</td>\n",
       "      <td>598.000000</td>\n",
       "      <td>598.000000</td>\n",
       "      <td>598.000000</td>\n",
       "      <td>598.000000</td>\n",
       "      <td>598.000000</td>\n",
       "      <td>598.000000</td>\n",
       "      <td>598.000000</td>\n",
       "    </tr>\n",
       "    <tr>\n",
       "      <td>mean</td>\n",
       "      <td>118.650502</td>\n",
       "      <td>70.588629</td>\n",
       "      <td>64.526756</td>\n",
       "      <td>-5.491639</td>\n",
       "      <td>17.757525</td>\n",
       "      <td>52.339465</td>\n",
       "      <td>224.658863</td>\n",
       "      <td>14.396321</td>\n",
       "      <td>8.391304</td>\n",
       "      <td>67.076923</td>\n",
       "    </tr>\n",
       "    <tr>\n",
       "      <td>std</td>\n",
       "      <td>24.140916</td>\n",
       "      <td>16.006845</td>\n",
       "      <td>13.152314</td>\n",
       "      <td>1.701048</td>\n",
       "      <td>13.099531</td>\n",
       "      <td>22.459123</td>\n",
       "      <td>34.154404</td>\n",
       "      <td>20.816623</td>\n",
       "      <td>7.500579</td>\n",
       "      <td>13.234799</td>\n",
       "    </tr>\n",
       "    <tr>\n",
       "      <td>min</td>\n",
       "      <td>43.000000</td>\n",
       "      <td>4.000000</td>\n",
       "      <td>23.000000</td>\n",
       "      <td>-15.000000</td>\n",
       "      <td>2.000000</td>\n",
       "      <td>4.000000</td>\n",
       "      <td>134.000000</td>\n",
       "      <td>0.000000</td>\n",
       "      <td>3.000000</td>\n",
       "      <td>7.000000</td>\n",
       "    </tr>\n",
       "    <tr>\n",
       "      <td>25%</td>\n",
       "      <td>100.000000</td>\n",
       "      <td>61.000000</td>\n",
       "      <td>57.000000</td>\n",
       "      <td>-6.000000</td>\n",
       "      <td>9.000000</td>\n",
       "      <td>35.000000</td>\n",
       "      <td>202.000000</td>\n",
       "      <td>2.000000</td>\n",
       "      <td>4.000000</td>\n",
       "      <td>60.000000</td>\n",
       "    </tr>\n",
       "    <tr>\n",
       "      <td>50%</td>\n",
       "      <td>120.000000</td>\n",
       "      <td>74.000000</td>\n",
       "      <td>66.000000</td>\n",
       "      <td>-5.000000</td>\n",
       "      <td>12.000000</td>\n",
       "      <td>52.000000</td>\n",
       "      <td>220.500000</td>\n",
       "      <td>6.000000</td>\n",
       "      <td>5.000000</td>\n",
       "      <td>69.000000</td>\n",
       "    </tr>\n",
       "    <tr>\n",
       "      <td>75%</td>\n",
       "      <td>129.000000</td>\n",
       "      <td>82.000000</td>\n",
       "      <td>73.750000</td>\n",
       "      <td>-4.000000</td>\n",
       "      <td>24.000000</td>\n",
       "      <td>69.000000</td>\n",
       "      <td>239.000000</td>\n",
       "      <td>17.000000</td>\n",
       "      <td>9.000000</td>\n",
       "      <td>76.000000</td>\n",
       "    </tr>\n",
       "    <tr>\n",
       "      <td>max</td>\n",
       "      <td>206.000000</td>\n",
       "      <td>98.000000</td>\n",
       "      <td>97.000000</td>\n",
       "      <td>-2.000000</td>\n",
       "      <td>74.000000</td>\n",
       "      <td>98.000000</td>\n",
       "      <td>424.000000</td>\n",
       "      <td>99.000000</td>\n",
       "      <td>48.000000</td>\n",
       "      <td>99.000000</td>\n",
       "    </tr>\n",
       "  </tbody>\n",
       "</table>\n",
       "</div>"
      ],
      "text/plain": [
       "       beats_per_minute      energy  danceability    loudness    liveness  \\\n",
       "count        598.000000  598.000000    598.000000  598.000000  598.000000   \n",
       "mean         118.650502   70.588629     64.526756   -5.491639   17.757525   \n",
       "std           24.140916   16.006845     13.152314    1.701048   13.099531   \n",
       "min           43.000000    4.000000     23.000000  -15.000000    2.000000   \n",
       "25%          100.000000   61.000000     57.000000   -6.000000    9.000000   \n",
       "50%          120.000000   74.000000     66.000000   -5.000000   12.000000   \n",
       "75%          129.000000   82.000000     73.750000   -4.000000   24.000000   \n",
       "max          206.000000   98.000000     97.000000   -2.000000   74.000000   \n",
       "\n",
       "          valence      length  acousticness  speechiness  popularity  \n",
       "count  598.000000  598.000000    598.000000   598.000000  598.000000  \n",
       "mean    52.339465  224.658863     14.396321     8.391304   67.076923  \n",
       "std     22.459123   34.154404     20.816623     7.500579   13.234799  \n",
       "min      4.000000  134.000000      0.000000     3.000000    7.000000  \n",
       "25%     35.000000  202.000000      2.000000     4.000000   60.000000  \n",
       "50%     52.000000  220.500000      6.000000     5.000000   69.000000  \n",
       "75%     69.000000  239.000000     17.000000     9.000000   76.000000  \n",
       "max     98.000000  424.000000     99.000000    48.000000   99.000000  "
      ]
     },
     "execution_count": 15,
     "metadata": {},
     "output_type": "execute_result"
    }
   ],
   "source": [
    "song_ranks_2.describe()"
   ]
  },
  {
   "cell_type": "code",
   "execution_count": 16,
   "metadata": {
    "scrolled": true
   },
   "outputs": [
    {
     "data": {
      "text/plain": [
       "Castle Walls (feat. Christina Aguilera)            2\n",
       "All I Ask                                          2\n",
       "Runnin' (Lose It All)                              2\n",
       "Love Yourself                                      2\n",
       "Sugar                                              2\n",
       "Just the Way You Are                               2\n",
       "Say Something                                      2\n",
       "I Like It                                          2\n",
       "Marry You                                          2\n",
       "The Hills                                          2\n",
       "We Are Never Ever Getting Back Together            2\n",
       "Kissing Strangers                                  2\n",
       "First Time                                         2\n",
       "Written in the Stars (feat. Eric Turner)           2\n",
       "A Little Party Never Killed Nobody (All We Got)    2\n",
       "Stitches                                           2\n",
       "Here                                               2\n",
       "Company                                            2\n",
       "Roar                                               1\n",
       "Only Girl (In The World)                           1\n",
       "Name: title, dtype: int64"
      ]
     },
     "execution_count": 16,
     "metadata": {},
     "output_type": "execute_result"
    }
   ],
   "source": [
    "# Looking into if same songs are listed multiple times in the same year \n",
    "\n",
    "song_ranks_2.title.value_counts().head(20)"
   ]
  },
  {
   "cell_type": "code",
   "execution_count": 17,
   "metadata": {},
   "outputs": [],
   "source": [
    "repeat_titles = (\"All I Ask\", \"We Are Never Ever Getting Back Together\", \"Stitches\", \"Written in the Stars (feat. Eric Turner)\", \"First Time\", \"Castle Walls (feat. Christina Aguilera)\", \"Say Something\", \"Marry You\", \"Love Yourself\", \"I Like It\", \"Just the Way You Are\", \"The Hills\", \"Sugar\", \"Runnin' (Lost It All)\", \"Company\", \"A Little Party Never Killed Nobody (All We Got)\", \"Here\", \"Kissing Strangers\")"
   ]
  },
  {
   "cell_type": "code",
   "execution_count": 18,
   "metadata": {},
   "outputs": [
    {
     "data": {
      "text/html": [
       "<div>\n",
       "<style scoped>\n",
       "    .dataframe tbody tr th:only-of-type {\n",
       "        vertical-align: middle;\n",
       "    }\n",
       "\n",
       "    .dataframe tbody tr th {\n",
       "        vertical-align: top;\n",
       "    }\n",
       "\n",
       "    .dataframe thead th {\n",
       "        text-align: right;\n",
       "    }\n",
       "</style>\n",
       "<table border=\"1\" class=\"dataframe\">\n",
       "  <thead>\n",
       "    <tr style=\"text-align: right;\">\n",
       "      <th></th>\n",
       "      <th>title</th>\n",
       "      <th>artist</th>\n",
       "      <th>genre</th>\n",
       "      <th>year</th>\n",
       "      <th>beats_per_minute</th>\n",
       "      <th>energy</th>\n",
       "      <th>danceability</th>\n",
       "      <th>loudness</th>\n",
       "      <th>liveness</th>\n",
       "      <th>valence</th>\n",
       "      <th>length</th>\n",
       "      <th>acousticness</th>\n",
       "      <th>speechiness</th>\n",
       "      <th>popularity</th>\n",
       "    </tr>\n",
       "    <tr>\n",
       "      <th>ID</th>\n",
       "      <th></th>\n",
       "      <th></th>\n",
       "      <th></th>\n",
       "      <th></th>\n",
       "      <th></th>\n",
       "      <th></th>\n",
       "      <th></th>\n",
       "      <th></th>\n",
       "      <th></th>\n",
       "      <th></th>\n",
       "      <th></th>\n",
       "      <th></th>\n",
       "      <th></th>\n",
       "      <th></th>\n",
       "    </tr>\n",
       "  </thead>\n",
       "  <tbody>\n",
       "    <tr>\n",
       "      <td>240</td>\n",
       "      <td>A Little Party Never Killed Nobody (All We Got)</td>\n",
       "      <td>Fergie</td>\n",
       "      <td>dance pop</td>\n",
       "      <td>2014</td>\n",
       "      <td>130</td>\n",
       "      <td>62</td>\n",
       "      <td>76</td>\n",
       "      <td>-6</td>\n",
       "      <td>9</td>\n",
       "      <td>52</td>\n",
       "      <td>241</td>\n",
       "      <td>1</td>\n",
       "      <td>18</td>\n",
       "      <td>65</td>\n",
       "    </tr>\n",
       "    <tr>\n",
       "      <td>179</td>\n",
       "      <td>A Little Party Never Killed Nobody (All We Got)</td>\n",
       "      <td>Fergie</td>\n",
       "      <td>dance pop</td>\n",
       "      <td>2013</td>\n",
       "      <td>130</td>\n",
       "      <td>62</td>\n",
       "      <td>76</td>\n",
       "      <td>-6</td>\n",
       "      <td>9</td>\n",
       "      <td>52</td>\n",
       "      <td>241</td>\n",
       "      <td>1</td>\n",
       "      <td>18</td>\n",
       "      <td>65</td>\n",
       "    </tr>\n",
       "    <tr>\n",
       "      <td>399</td>\n",
       "      <td>All I Ask</td>\n",
       "      <td>Adele</td>\n",
       "      <td>british soul</td>\n",
       "      <td>2016</td>\n",
       "      <td>142</td>\n",
       "      <td>28</td>\n",
       "      <td>59</td>\n",
       "      <td>-5</td>\n",
       "      <td>15</td>\n",
       "      <td>34</td>\n",
       "      <td>272</td>\n",
       "      <td>88</td>\n",
       "      <td>3</td>\n",
       "      <td>71</td>\n",
       "    </tr>\n",
       "    <tr>\n",
       "      <td>474</td>\n",
       "      <td>All I Ask</td>\n",
       "      <td>Adele</td>\n",
       "      <td>british soul</td>\n",
       "      <td>2017</td>\n",
       "      <td>142</td>\n",
       "      <td>28</td>\n",
       "      <td>59</td>\n",
       "      <td>-5</td>\n",
       "      <td>15</td>\n",
       "      <td>34</td>\n",
       "      <td>272</td>\n",
       "      <td>88</td>\n",
       "      <td>3</td>\n",
       "      <td>71</td>\n",
       "    </tr>\n",
       "    <tr>\n",
       "      <td>96</td>\n",
       "      <td>Castle Walls (feat. Christina Aguilera)</td>\n",
       "      <td>T.I.</td>\n",
       "      <td>atl hip hop</td>\n",
       "      <td>2011</td>\n",
       "      <td>80</td>\n",
       "      <td>86</td>\n",
       "      <td>45</td>\n",
       "      <td>-5</td>\n",
       "      <td>26</td>\n",
       "      <td>58</td>\n",
       "      <td>329</td>\n",
       "      <td>7</td>\n",
       "      <td>39</td>\n",
       "      <td>49</td>\n",
       "    </tr>\n",
       "    <tr>\n",
       "      <td>49</td>\n",
       "      <td>Castle Walls (feat. Christina Aguilera)</td>\n",
       "      <td>T.I.</td>\n",
       "      <td>atl hip hop</td>\n",
       "      <td>2010</td>\n",
       "      <td>80</td>\n",
       "      <td>86</td>\n",
       "      <td>45</td>\n",
       "      <td>-5</td>\n",
       "      <td>26</td>\n",
       "      <td>58</td>\n",
       "      <td>329</td>\n",
       "      <td>7</td>\n",
       "      <td>39</td>\n",
       "      <td>49</td>\n",
       "    </tr>\n",
       "    <tr>\n",
       "      <td>397</td>\n",
       "      <td>Company</td>\n",
       "      <td>Justin Bieber</td>\n",
       "      <td>canadian pop</td>\n",
       "      <td>2016</td>\n",
       "      <td>95</td>\n",
       "      <td>80</td>\n",
       "      <td>59</td>\n",
       "      <td>-5</td>\n",
       "      <td>8</td>\n",
       "      <td>43</td>\n",
       "      <td>208</td>\n",
       "      <td>13</td>\n",
       "      <td>6</td>\n",
       "      <td>72</td>\n",
       "    </tr>\n",
       "    <tr>\n",
       "      <td>302</td>\n",
       "      <td>Company</td>\n",
       "      <td>Justin Bieber</td>\n",
       "      <td>canadian pop</td>\n",
       "      <td>2015</td>\n",
       "      <td>95</td>\n",
       "      <td>80</td>\n",
       "      <td>59</td>\n",
       "      <td>-5</td>\n",
       "      <td>8</td>\n",
       "      <td>43</td>\n",
       "      <td>208</td>\n",
       "      <td>13</td>\n",
       "      <td>6</td>\n",
       "      <td>72</td>\n",
       "    </tr>\n",
       "    <tr>\n",
       "      <td>549</td>\n",
       "      <td>First Time</td>\n",
       "      <td>Kygo</td>\n",
       "      <td>edm</td>\n",
       "      <td>2018</td>\n",
       "      <td>90</td>\n",
       "      <td>59</td>\n",
       "      <td>63</td>\n",
       "      <td>-7</td>\n",
       "      <td>10</td>\n",
       "      <td>68</td>\n",
       "      <td>194</td>\n",
       "      <td>20</td>\n",
       "      <td>11</td>\n",
       "      <td>71</td>\n",
       "    </tr>\n",
       "    <tr>\n",
       "      <td>475</td>\n",
       "      <td>First Time</td>\n",
       "      <td>Kygo</td>\n",
       "      <td>edm</td>\n",
       "      <td>2017</td>\n",
       "      <td>90</td>\n",
       "      <td>59</td>\n",
       "      <td>63</td>\n",
       "      <td>-7</td>\n",
       "      <td>10</td>\n",
       "      <td>68</td>\n",
       "      <td>194</td>\n",
       "      <td>20</td>\n",
       "      <td>11</td>\n",
       "      <td>71</td>\n",
       "    </tr>\n",
       "    <tr>\n",
       "      <td>405</td>\n",
       "      <td>Here</td>\n",
       "      <td>Alessia Cara</td>\n",
       "      <td>canadian contemporary r&amp;b</td>\n",
       "      <td>2016</td>\n",
       "      <td>120</td>\n",
       "      <td>82</td>\n",
       "      <td>38</td>\n",
       "      <td>-4</td>\n",
       "      <td>8</td>\n",
       "      <td>33</td>\n",
       "      <td>199</td>\n",
       "      <td>8</td>\n",
       "      <td>10</td>\n",
       "      <td>68</td>\n",
       "    </tr>\n",
       "    <tr>\n",
       "      <td>316</td>\n",
       "      <td>Here</td>\n",
       "      <td>Alessia Cara</td>\n",
       "      <td>canadian contemporary r&amp;b</td>\n",
       "      <td>2015</td>\n",
       "      <td>120</td>\n",
       "      <td>82</td>\n",
       "      <td>38</td>\n",
       "      <td>-4</td>\n",
       "      <td>8</td>\n",
       "      <td>33</td>\n",
       "      <td>199</td>\n",
       "      <td>8</td>\n",
       "      <td>10</td>\n",
       "      <td>68</td>\n",
       "    </tr>\n",
       "    <tr>\n",
       "      <td>28</td>\n",
       "      <td>I Like It</td>\n",
       "      <td>Enrique Iglesias</td>\n",
       "      <td>dance pop</td>\n",
       "      <td>2010</td>\n",
       "      <td>129</td>\n",
       "      <td>94</td>\n",
       "      <td>65</td>\n",
       "      <td>-3</td>\n",
       "      <td>6</td>\n",
       "      <td>73</td>\n",
       "      <td>231</td>\n",
       "      <td>2</td>\n",
       "      <td>9</td>\n",
       "      <td>63</td>\n",
       "    </tr>\n",
       "    <tr>\n",
       "      <td>511</td>\n",
       "      <td>I Like It</td>\n",
       "      <td>Cardi B</td>\n",
       "      <td>pop</td>\n",
       "      <td>2018</td>\n",
       "      <td>136</td>\n",
       "      <td>73</td>\n",
       "      <td>82</td>\n",
       "      <td>-4</td>\n",
       "      <td>37</td>\n",
       "      <td>65</td>\n",
       "      <td>253</td>\n",
       "      <td>10</td>\n",
       "      <td>13</td>\n",
       "      <td>85</td>\n",
       "    </tr>\n",
       "    <tr>\n",
       "      <td>55</td>\n",
       "      <td>Just the Way You Are</td>\n",
       "      <td>Bruno Mars</td>\n",
       "      <td>pop</td>\n",
       "      <td>2011</td>\n",
       "      <td>109</td>\n",
       "      <td>84</td>\n",
       "      <td>64</td>\n",
       "      <td>-5</td>\n",
       "      <td>9</td>\n",
       "      <td>43</td>\n",
       "      <td>221</td>\n",
       "      <td>2</td>\n",
       "      <td>4</td>\n",
       "      <td>78</td>\n",
       "    </tr>\n",
       "    <tr>\n",
       "      <td>5</td>\n",
       "      <td>Just the Way You Are</td>\n",
       "      <td>Bruno Mars</td>\n",
       "      <td>pop</td>\n",
       "      <td>2010</td>\n",
       "      <td>109</td>\n",
       "      <td>84</td>\n",
       "      <td>64</td>\n",
       "      <td>-5</td>\n",
       "      <td>9</td>\n",
       "      <td>43</td>\n",
       "      <td>221</td>\n",
       "      <td>2</td>\n",
       "      <td>4</td>\n",
       "      <td>78</td>\n",
       "    </tr>\n",
       "    <tr>\n",
       "      <td>489</td>\n",
       "      <td>Kissing Strangers</td>\n",
       "      <td>DNCE</td>\n",
       "      <td>dance pop</td>\n",
       "      <td>2017</td>\n",
       "      <td>120</td>\n",
       "      <td>74</td>\n",
       "      <td>77</td>\n",
       "      <td>-6</td>\n",
       "      <td>9</td>\n",
       "      <td>86</td>\n",
       "      <td>202</td>\n",
       "      <td>5</td>\n",
       "      <td>4</td>\n",
       "      <td>66</td>\n",
       "    </tr>\n",
       "    <tr>\n",
       "      <td>558</td>\n",
       "      <td>Kissing Strangers</td>\n",
       "      <td>DNCE</td>\n",
       "      <td>dance pop</td>\n",
       "      <td>2018</td>\n",
       "      <td>120</td>\n",
       "      <td>74</td>\n",
       "      <td>77</td>\n",
       "      <td>-6</td>\n",
       "      <td>9</td>\n",
       "      <td>86</td>\n",
       "      <td>202</td>\n",
       "      <td>5</td>\n",
       "      <td>4</td>\n",
       "      <td>66</td>\n",
       "    </tr>\n",
       "    <tr>\n",
       "      <td>272</td>\n",
       "      <td>Love Yourself</td>\n",
       "      <td>Justin Bieber</td>\n",
       "      <td>canadian pop</td>\n",
       "      <td>2015</td>\n",
       "      <td>100</td>\n",
       "      <td>38</td>\n",
       "      <td>61</td>\n",
       "      <td>-10</td>\n",
       "      <td>28</td>\n",
       "      <td>52</td>\n",
       "      <td>234</td>\n",
       "      <td>84</td>\n",
       "      <td>44</td>\n",
       "      <td>83</td>\n",
       "    </tr>\n",
       "    <tr>\n",
       "      <td>365</td>\n",
       "      <td>Love Yourself</td>\n",
       "      <td>Justin Bieber</td>\n",
       "      <td>canadian pop</td>\n",
       "      <td>2016</td>\n",
       "      <td>100</td>\n",
       "      <td>38</td>\n",
       "      <td>61</td>\n",
       "      <td>-10</td>\n",
       "      <td>28</td>\n",
       "      <td>52</td>\n",
       "      <td>234</td>\n",
       "      <td>84</td>\n",
       "      <td>44</td>\n",
       "      <td>83</td>\n",
       "    </tr>\n",
       "    <tr>\n",
       "      <td>65</td>\n",
       "      <td>Marry You</td>\n",
       "      <td>Bruno Mars</td>\n",
       "      <td>pop</td>\n",
       "      <td>2011</td>\n",
       "      <td>145</td>\n",
       "      <td>83</td>\n",
       "      <td>62</td>\n",
       "      <td>-5</td>\n",
       "      <td>10</td>\n",
       "      <td>48</td>\n",
       "      <td>230</td>\n",
       "      <td>33</td>\n",
       "      <td>4</td>\n",
       "      <td>73</td>\n",
       "    </tr>\n",
       "    <tr>\n",
       "      <td>12</td>\n",
       "      <td>Marry You</td>\n",
       "      <td>Bruno Mars</td>\n",
       "      <td>pop</td>\n",
       "      <td>2010</td>\n",
       "      <td>145</td>\n",
       "      <td>83</td>\n",
       "      <td>62</td>\n",
       "      <td>-5</td>\n",
       "      <td>10</td>\n",
       "      <td>48</td>\n",
       "      <td>230</td>\n",
       "      <td>33</td>\n",
       "      <td>4</td>\n",
       "      <td>73</td>\n",
       "    </tr>\n",
       "    <tr>\n",
       "      <td>250</td>\n",
       "      <td>Say Something</td>\n",
       "      <td>A Great Big World</td>\n",
       "      <td>neo mellow</td>\n",
       "      <td>2014</td>\n",
       "      <td>138</td>\n",
       "      <td>15</td>\n",
       "      <td>45</td>\n",
       "      <td>-9</td>\n",
       "      <td>9</td>\n",
       "      <td>9</td>\n",
       "      <td>229</td>\n",
       "      <td>87</td>\n",
       "      <td>3</td>\n",
       "      <td>61</td>\n",
       "    </tr>\n",
       "    <tr>\n",
       "      <td>542</td>\n",
       "      <td>Say Something</td>\n",
       "      <td>Justin Timberlake</td>\n",
       "      <td>dance pop</td>\n",
       "      <td>2018</td>\n",
       "      <td>97</td>\n",
       "      <td>63</td>\n",
       "      <td>71</td>\n",
       "      <td>-7</td>\n",
       "      <td>8</td>\n",
       "      <td>37</td>\n",
       "      <td>279</td>\n",
       "      <td>10</td>\n",
       "      <td>8</td>\n",
       "      <td>74</td>\n",
       "    </tr>\n",
       "    <tr>\n",
       "      <td>379</td>\n",
       "      <td>Stitches</td>\n",
       "      <td>Shawn Mendes</td>\n",
       "      <td>canadian pop</td>\n",
       "      <td>2016</td>\n",
       "      <td>150</td>\n",
       "      <td>75</td>\n",
       "      <td>75</td>\n",
       "      <td>-7</td>\n",
       "      <td>5</td>\n",
       "      <td>76</td>\n",
       "      <td>207</td>\n",
       "      <td>2</td>\n",
       "      <td>7</td>\n",
       "      <td>78</td>\n",
       "    </tr>\n",
       "    <tr>\n",
       "      <td>281</td>\n",
       "      <td>Stitches</td>\n",
       "      <td>Shawn Mendes</td>\n",
       "      <td>canadian pop</td>\n",
       "      <td>2015</td>\n",
       "      <td>150</td>\n",
       "      <td>75</td>\n",
       "      <td>75</td>\n",
       "      <td>-7</td>\n",
       "      <td>5</td>\n",
       "      <td>76</td>\n",
       "      <td>207</td>\n",
       "      <td>2</td>\n",
       "      <td>7</td>\n",
       "      <td>78</td>\n",
       "    </tr>\n",
       "    <tr>\n",
       "      <td>323</td>\n",
       "      <td>Sugar</td>\n",
       "      <td>Maroon 5</td>\n",
       "      <td>pop</td>\n",
       "      <td>2015</td>\n",
       "      <td>120</td>\n",
       "      <td>79</td>\n",
       "      <td>75</td>\n",
       "      <td>-7</td>\n",
       "      <td>9</td>\n",
       "      <td>88</td>\n",
       "      <td>235</td>\n",
       "      <td>6</td>\n",
       "      <td>3</td>\n",
       "      <td>66</td>\n",
       "    </tr>\n",
       "    <tr>\n",
       "      <td>275</td>\n",
       "      <td>Sugar</td>\n",
       "      <td>Maroon 5</td>\n",
       "      <td>pop</td>\n",
       "      <td>2015</td>\n",
       "      <td>120</td>\n",
       "      <td>79</td>\n",
       "      <td>75</td>\n",
       "      <td>-7</td>\n",
       "      <td>9</td>\n",
       "      <td>88</td>\n",
       "      <td>235</td>\n",
       "      <td>6</td>\n",
       "      <td>3</td>\n",
       "      <td>81</td>\n",
       "    </tr>\n",
       "    <tr>\n",
       "      <td>271</td>\n",
       "      <td>The Hills</td>\n",
       "      <td>The Weeknd</td>\n",
       "      <td>canadian contemporary r&amp;b</td>\n",
       "      <td>2015</td>\n",
       "      <td>113</td>\n",
       "      <td>56</td>\n",
       "      <td>58</td>\n",
       "      <td>-7</td>\n",
       "      <td>14</td>\n",
       "      <td>14</td>\n",
       "      <td>242</td>\n",
       "      <td>7</td>\n",
       "      <td>5</td>\n",
       "      <td>84</td>\n",
       "    </tr>\n",
       "    <tr>\n",
       "      <td>364</td>\n",
       "      <td>The Hills</td>\n",
       "      <td>The Weeknd</td>\n",
       "      <td>canadian contemporary r&amp;b</td>\n",
       "      <td>2016</td>\n",
       "      <td>113</td>\n",
       "      <td>56</td>\n",
       "      <td>58</td>\n",
       "      <td>-7</td>\n",
       "      <td>14</td>\n",
       "      <td>14</td>\n",
       "      <td>242</td>\n",
       "      <td>7</td>\n",
       "      <td>5</td>\n",
       "      <td>84</td>\n",
       "    </tr>\n",
       "    <tr>\n",
       "      <td>153</td>\n",
       "      <td>We Are Never Ever Getting Back Together</td>\n",
       "      <td>Taylor Swift</td>\n",
       "      <td>pop</td>\n",
       "      <td>2013</td>\n",
       "      <td>86</td>\n",
       "      <td>68</td>\n",
       "      <td>63</td>\n",
       "      <td>-6</td>\n",
       "      <td>12</td>\n",
       "      <td>75</td>\n",
       "      <td>193</td>\n",
       "      <td>1</td>\n",
       "      <td>9</td>\n",
       "      <td>75</td>\n",
       "    </tr>\n",
       "    <tr>\n",
       "      <td>114</td>\n",
       "      <td>We Are Never Ever Getting Back Together</td>\n",
       "      <td>Taylor Swift</td>\n",
       "      <td>pop</td>\n",
       "      <td>2012</td>\n",
       "      <td>86</td>\n",
       "      <td>68</td>\n",
       "      <td>63</td>\n",
       "      <td>-6</td>\n",
       "      <td>12</td>\n",
       "      <td>75</td>\n",
       "      <td>193</td>\n",
       "      <td>1</td>\n",
       "      <td>9</td>\n",
       "      <td>75</td>\n",
       "    </tr>\n",
       "    <tr>\n",
       "      <td>94</td>\n",
       "      <td>Written in the Stars (feat. Eric Turner)</td>\n",
       "      <td>Tinie Tempah</td>\n",
       "      <td>dance pop</td>\n",
       "      <td>2011</td>\n",
       "      <td>91</td>\n",
       "      <td>95</td>\n",
       "      <td>64</td>\n",
       "      <td>-4</td>\n",
       "      <td>18</td>\n",
       "      <td>57</td>\n",
       "      <td>220</td>\n",
       "      <td>6</td>\n",
       "      <td>7</td>\n",
       "      <td>52</td>\n",
       "    </tr>\n",
       "    <tr>\n",
       "      <td>47</td>\n",
       "      <td>Written in the Stars (feat. Eric Turner)</td>\n",
       "      <td>Tinie Tempah</td>\n",
       "      <td>dance pop</td>\n",
       "      <td>2010</td>\n",
       "      <td>91</td>\n",
       "      <td>95</td>\n",
       "      <td>64</td>\n",
       "      <td>-4</td>\n",
       "      <td>18</td>\n",
       "      <td>57</td>\n",
       "      <td>220</td>\n",
       "      <td>6</td>\n",
       "      <td>7</td>\n",
       "      <td>52</td>\n",
       "    </tr>\n",
       "  </tbody>\n",
       "</table>\n",
       "</div>"
      ],
      "text/plain": [
       "                                               title             artist  \\\n",
       "ID                                                                        \n",
       "240  A Little Party Never Killed Nobody (All We Got)             Fergie   \n",
       "179  A Little Party Never Killed Nobody (All We Got)             Fergie   \n",
       "399                                        All I Ask              Adele   \n",
       "474                                        All I Ask              Adele   \n",
       "96           Castle Walls (feat. Christina Aguilera)               T.I.   \n",
       "49           Castle Walls (feat. Christina Aguilera)               T.I.   \n",
       "397                                          Company      Justin Bieber   \n",
       "302                                          Company      Justin Bieber   \n",
       "549                                       First Time               Kygo   \n",
       "475                                       First Time               Kygo   \n",
       "405                                             Here       Alessia Cara   \n",
       "316                                             Here       Alessia Cara   \n",
       "28                                         I Like It   Enrique Iglesias   \n",
       "511                                        I Like It            Cardi B   \n",
       "55                              Just the Way You Are         Bruno Mars   \n",
       "5                               Just the Way You Are         Bruno Mars   \n",
       "489                                Kissing Strangers               DNCE   \n",
       "558                                Kissing Strangers               DNCE   \n",
       "272                                    Love Yourself      Justin Bieber   \n",
       "365                                    Love Yourself      Justin Bieber   \n",
       "65                                         Marry You         Bruno Mars   \n",
       "12                                         Marry You         Bruno Mars   \n",
       "250                                    Say Something  A Great Big World   \n",
       "542                                    Say Something  Justin Timberlake   \n",
       "379                                         Stitches       Shawn Mendes   \n",
       "281                                         Stitches       Shawn Mendes   \n",
       "323                                            Sugar           Maroon 5   \n",
       "275                                            Sugar           Maroon 5   \n",
       "271                                        The Hills         The Weeknd   \n",
       "364                                        The Hills         The Weeknd   \n",
       "153          We Are Never Ever Getting Back Together       Taylor Swift   \n",
       "114          We Are Never Ever Getting Back Together       Taylor Swift   \n",
       "94          Written in the Stars (feat. Eric Turner)       Tinie Tempah   \n",
       "47          Written in the Stars (feat. Eric Turner)       Tinie Tempah   \n",
       "\n",
       "                         genre  year  beats_per_minute  energy  danceability  \\\n",
       "ID                                                                             \n",
       "240                  dance pop  2014               130      62            76   \n",
       "179                  dance pop  2013               130      62            76   \n",
       "399               british soul  2016               142      28            59   \n",
       "474               british soul  2017               142      28            59   \n",
       "96                 atl hip hop  2011                80      86            45   \n",
       "49                 atl hip hop  2010                80      86            45   \n",
       "397               canadian pop  2016                95      80            59   \n",
       "302               canadian pop  2015                95      80            59   \n",
       "549                        edm  2018                90      59            63   \n",
       "475                        edm  2017                90      59            63   \n",
       "405  canadian contemporary r&b  2016               120      82            38   \n",
       "316  canadian contemporary r&b  2015               120      82            38   \n",
       "28                   dance pop  2010               129      94            65   \n",
       "511                        pop  2018               136      73            82   \n",
       "55                         pop  2011               109      84            64   \n",
       "5                          pop  2010               109      84            64   \n",
       "489                  dance pop  2017               120      74            77   \n",
       "558                  dance pop  2018               120      74            77   \n",
       "272               canadian pop  2015               100      38            61   \n",
       "365               canadian pop  2016               100      38            61   \n",
       "65                         pop  2011               145      83            62   \n",
       "12                         pop  2010               145      83            62   \n",
       "250                 neo mellow  2014               138      15            45   \n",
       "542                  dance pop  2018                97      63            71   \n",
       "379               canadian pop  2016               150      75            75   \n",
       "281               canadian pop  2015               150      75            75   \n",
       "323                        pop  2015               120      79            75   \n",
       "275                        pop  2015               120      79            75   \n",
       "271  canadian contemporary r&b  2015               113      56            58   \n",
       "364  canadian contemporary r&b  2016               113      56            58   \n",
       "153                        pop  2013                86      68            63   \n",
       "114                        pop  2012                86      68            63   \n",
       "94                   dance pop  2011                91      95            64   \n",
       "47                   dance pop  2010                91      95            64   \n",
       "\n",
       "     loudness  liveness  valence  length  acousticness  speechiness  \\\n",
       "ID                                                                    \n",
       "240        -6         9       52     241             1           18   \n",
       "179        -6         9       52     241             1           18   \n",
       "399        -5        15       34     272            88            3   \n",
       "474        -5        15       34     272            88            3   \n",
       "96         -5        26       58     329             7           39   \n",
       "49         -5        26       58     329             7           39   \n",
       "397        -5         8       43     208            13            6   \n",
       "302        -5         8       43     208            13            6   \n",
       "549        -7        10       68     194            20           11   \n",
       "475        -7        10       68     194            20           11   \n",
       "405        -4         8       33     199             8           10   \n",
       "316        -4         8       33     199             8           10   \n",
       "28         -3         6       73     231             2            9   \n",
       "511        -4        37       65     253            10           13   \n",
       "55         -5         9       43     221             2            4   \n",
       "5          -5         9       43     221             2            4   \n",
       "489        -6         9       86     202             5            4   \n",
       "558        -6         9       86     202             5            4   \n",
       "272       -10        28       52     234            84           44   \n",
       "365       -10        28       52     234            84           44   \n",
       "65         -5        10       48     230            33            4   \n",
       "12         -5        10       48     230            33            4   \n",
       "250        -9         9        9     229            87            3   \n",
       "542        -7         8       37     279            10            8   \n",
       "379        -7         5       76     207             2            7   \n",
       "281        -7         5       76     207             2            7   \n",
       "323        -7         9       88     235             6            3   \n",
       "275        -7         9       88     235             6            3   \n",
       "271        -7        14       14     242             7            5   \n",
       "364        -7        14       14     242             7            5   \n",
       "153        -6        12       75     193             1            9   \n",
       "114        -6        12       75     193             1            9   \n",
       "94         -4        18       57     220             6            7   \n",
       "47         -4        18       57     220             6            7   \n",
       "\n",
       "     popularity  \n",
       "ID               \n",
       "240          65  \n",
       "179          65  \n",
       "399          71  \n",
       "474          71  \n",
       "96           49  \n",
       "49           49  \n",
       "397          72  \n",
       "302          72  \n",
       "549          71  \n",
       "475          71  \n",
       "405          68  \n",
       "316          68  \n",
       "28           63  \n",
       "511          85  \n",
       "55           78  \n",
       "5            78  \n",
       "489          66  \n",
       "558          66  \n",
       "272          83  \n",
       "365          83  \n",
       "65           73  \n",
       "12           73  \n",
       "250          61  \n",
       "542          74  \n",
       "379          78  \n",
       "281          78  \n",
       "323          66  \n",
       "275          81  \n",
       "271          84  \n",
       "364          84  \n",
       "153          75  \n",
       "114          75  \n",
       "94           52  \n",
       "47           52  "
      ]
     },
     "execution_count": 18,
     "metadata": {},
     "output_type": "execute_result"
    }
   ],
   "source": [
    "song_ranks_2[song_ranks_2.title.isin(repeat_titles)].sort_values(by = ['title'])"
   ]
  },
  {
   "cell_type": "code",
   "execution_count": 19,
   "metadata": {},
   "outputs": [],
   "source": [
    "# Removing song \"Sugar\" by Maroon 5 to maintain consistency as it is listed twice in year 2015 with different popularity values\n",
    "\n",
    "song_ranks_3 = song_ranks_2.drop([275, 323], axis=0)"
   ]
  },
  {
   "cell_type": "code",
   "execution_count": 20,
   "metadata": {},
   "outputs": [
    {
     "data": {
      "text/plain": [
       "(596, 14)"
      ]
     },
     "execution_count": 20,
     "metadata": {},
     "output_type": "execute_result"
    }
   ],
   "source": [
    "song_ranks_3.shape"
   ]
  },
  {
   "cell_type": "code",
   "execution_count": 21,
   "metadata": {},
   "outputs": [
    {
     "data": {
      "text/plain": [
       "<matplotlib.axes._subplots.AxesSubplot at 0x24e8f7e49c8>"
      ]
     },
     "execution_count": 21,
     "metadata": {},
     "output_type": "execute_result"
    },
    {
     "data": {
      "image/png": "[encoded data removed]",
      "text/plain": [
       "<Figure size 432x288 with 1 Axes>"
      ]
     },
     "metadata": {
      "needs_background": "light"
     },
     "output_type": "display_data"
    }
   ],
   "source": [
    "# Looking into distributions of numeric variables \n",
    "\n",
    "song_ranks_3.boxplot(column ='beats_per_minute')"
   ]
  },
  {
   "cell_type": "code",
   "execution_count": 22,
   "metadata": {},
   "outputs": [
    {
     "data": {
      "text/plain": [
       "<matplotlib.axes._subplots.AxesSubplot at 0x24e8fae9288>"
      ]
     },
     "execution_count": 22,
     "metadata": {},
     "output_type": "execute_result"
    },
    {
     "data": {
      "image/png": "[encoded data removed]",
      "text/plain": [
       "<Figure size 432x288 with 1 Axes>"
      ]
     },
     "metadata": {
      "needs_background": "light"
     },
     "output_type": "display_data"
    }
   ],
   "source": [
    "song_ranks_3.boxplot(column = 'energy')"
   ]
  },
  {
   "cell_type": "code",
   "execution_count": 23,
   "metadata": {},
   "outputs": [
    {
     "data": {
      "text/plain": [
       "<matplotlib.axes._subplots.AxesSubplot at 0x24e8fb78f88>"
      ]
     },
     "execution_count": 23,
     "metadata": {},
     "output_type": "execute_result"
    },
    {
     "data": {
      "image/png": "[encoded data removed]",
      "text/plain": [
       "<Figure size 432x288 with 1 Axes>"
      ]
     },
     "metadata": {
      "needs_background": "light"
     },
     "output_type": "display_data"
    }
   ],
   "source": [
    "song_ranks_3.boxplot(column = 'danceability')"
   ]
  },
  {
   "cell_type": "code",
   "execution_count": 24,
   "metadata": {},
   "outputs": [
    {
     "data": {
      "text/plain": [
       "<matplotlib.axes._subplots.AxesSubplot at 0x24e8fbf1ac8>"
      ]
     },
     "execution_count": 24,
     "metadata": {},
     "output_type": "execute_result"
    },
    {
     "data": {
      "image/png": "[encoded data removed]",
      "text/plain": [
       "<Figure size 432x288 with 1 Axes>"
      ]
     },
     "metadata": {
      "needs_background": "light"
     },
     "output_type": "display_data"
    }
   ],
   "source": [
    "song_ranks_3.boxplot(column = 'loudness')"
   ]
  },
  {
   "cell_type": "code",
   "execution_count": 25,
   "metadata": {},
   "outputs": [
    {
     "data": {
      "text/plain": [
       "<matplotlib.axes._subplots.AxesSubplot at 0x24e8fc5f4c8>"
      ]
     },
     "execution_count": 25,
     "metadata": {},
     "output_type": "execute_result"
    },
    {
     "data": {
      "image/png": "[encoded data removed]",
      "text/plain": [
       "<Figure size 432x288 with 1 Axes>"
      ]
     },
     "metadata": {
      "needs_background": "light"
     },
     "output_type": "display_data"
    }
   ],
   "source": [
    "song_ranks_3.boxplot(column = 'liveness')"
   ]
  },
  {
   "cell_type": "code",
   "execution_count": 26,
   "metadata": {},
   "outputs": [
    {
     "data": {
      "text/plain": [
       "<matplotlib.axes._subplots.AxesSubplot at 0x24e8fcc6b48>"
      ]
     },
     "execution_count": 26,
     "metadata": {},
     "output_type": "execute_result"
    },
    {
     "data": {
      "image/png": "[encoded data removed]",
      "text/plain": [
       "<Figure size 432x288 with 1 Axes>"
      ]
     },
     "metadata": {
      "needs_background": "light"
     },
     "output_type": "display_data"
    }
   ],
   "source": [
    "song_ranks_3.boxplot(column = 'valence')"
   ]
  },
  {
   "cell_type": "code",
   "execution_count": 27,
   "metadata": {},
   "outputs": [
    {
     "data": {
      "text/plain": [
       "<matplotlib.axes._subplots.AxesSubplot at 0x24e8fcca948>"
      ]
     },
     "execution_count": 27,
     "metadata": {},
     "output_type": "execute_result"
    },
    {
     "data": {
      "image/png": "[encoded data removed]",
      "text/plain": [
       "<Figure size 432x288 with 1 Axes>"
      ]
     },
     "metadata": {
      "needs_background": "light"
     },
     "output_type": "display_data"
    }
   ],
   "source": [
    "song_ranks_3.boxplot(column = 'length')"
   ]
  },
  {
   "cell_type": "code",
   "execution_count": 28,
   "metadata": {},
   "outputs": [
    {
     "data": {
      "text/plain": [
       "<matplotlib.axes._subplots.AxesSubplot at 0x24e8fd2fa08>"
      ]
     },
     "execution_count": 28,
     "metadata": {},
     "output_type": "execute_result"
    },
    {
     "data": {
      "image/png": "[encoded data removed]",
      "text/plain": [
       "<Figure size 432x288 with 1 Axes>"
      ]
     },
     "metadata": {
      "needs_background": "light"
     },
     "output_type": "display_data"
    }
   ],
   "source": [
    "song_ranks_3.boxplot(column = 'acousticness')"
   ]
  },
  {
   "cell_type": "code",
   "execution_count": 29,
   "metadata": {},
   "outputs": [
    {
     "data": {
      "text/plain": [
       "<matplotlib.axes._subplots.AxesSubplot at 0x24e8fd99c48>"
      ]
     },
     "execution_count": 29,
     "metadata": {},
     "output_type": "execute_result"
    },
    {
     "data": {
      "image/png": "[encoded data removed]",
      "text/plain": [
       "<Figure size 432x288 with 1 Axes>"
      ]
     },
     "metadata": {
      "needs_background": "light"
     },
     "output_type": "display_data"
    }
   ],
   "source": [
    "song_ranks_3.boxplot(column = 'speechiness')"
   ]
  },
  {
   "cell_type": "code",
   "execution_count": 30,
   "metadata": {},
   "outputs": [
    {
     "data": {
      "text/plain": [
       "<matplotlib.axes._subplots.AxesSubplot at 0x24e8fdfe608>"
      ]
     },
     "execution_count": 30,
     "metadata": {},
     "output_type": "execute_result"
    },
    {
     "data": {
      "image/png": "[encoded data removed]",
      "text/plain": [
       "<Figure size 432x288 with 1 Axes>"
      ]
     },
     "metadata": {
      "needs_background": "light"
     },
     "output_type": "display_data"
    }
   ],
   "source": [
    "song_ranks_3.boxplot(column = 'popularity')"
   ]
  },
  {
   "cell_type": "code",
   "execution_count": 31,
   "metadata": {},
   "outputs": [],
   "source": [
    "# Want to see how each song attribute correlates to the popularity of a song through scatterplots \n",
    "# Also want to plot histograms of attributes to see the frequncies of each attribute in popular songs \n"
   ]
  },
  {
   "cell_type": "code",
   "execution_count": 32,
   "metadata": {},
   "outputs": [
    {
     "data": {
      "text/plain": [
       "<matplotlib.axes._subplots.AxesSubplot at 0x24e8fe635c8>"
      ]
     },
     "execution_count": 32,
     "metadata": {},
     "output_type": "execute_result"
    },
    {
     "data": {
      "image/png": "[encoded data removed]",
      "text/plain": [
       "<Figure size 432x288 with 1 Axes>"
      ]
     },
     "metadata": {
      "needs_background": "light"
     },
     "output_type": "display_data"
    }
   ],
   "source": [
    "# Distribution of popularity is slightly left skewed with a popularity rating around 70 being the most frequent\n",
    "sns.distplot(song_ranks_3['popularity'], color = 'pink')"
   ]
  },
  {
   "cell_type": "code",
   "execution_count": 33,
   "metadata": {},
   "outputs": [
    {
     "data": {
      "text/plain": [
       "Text(0.5, 1.0, 'beats_per_minute vs popularity')"
      ]
     },
     "execution_count": 33,
     "metadata": {},
     "output_type": "execute_result"
    },
    {
     "data": {
      "image/png": "[encoded data removed]",
      "text/plain": [
       "<Figure size 432x288 with 1 Axes>"
      ]
     },
     "metadata": {
      "needs_background": "light"
     },
     "output_type": "display_data"
    }
   ],
   "source": [
    "# Plotting beats_per_minute vs popularity, no significant correlation seen  \n",
    "\n",
    "sns.scatterplot(x = song_ranks_3['beats_per_minute'], y = song_ranks_3['popularity'])\n",
    "plt.xlim([20,220])\n",
    "plt.title('beats_per_minute vs popularity')\n"
   ]
  },
  {
   "cell_type": "code",
   "execution_count": 34,
   "metadata": {},
   "outputs": [
    {
     "data": {
      "text/plain": [
       "Text(0.5, 1.0, 'beats_per_minute vs popularity')"
      ]
     },
     "execution_count": 34,
     "metadata": {},
     "output_type": "execute_result"
    },
    {
     "data": {
      "image/png": "[encoded data removed]",
      "text/plain": [
       "<Figure size 432x288 with 1 Axes>"
      ]
     },
     "metadata": {
      "needs_background": "light"
     },
     "output_type": "display_data"
    }
   ],
   "source": [
    "sns.regplot(x = song_ranks_3['beats_per_minute'], y = song_ranks_3['popularity'], lowess = True )\n",
    "plt.title('beats_per_minute vs popularity')"
   ]
  },
  {
   "cell_type": "code",
   "execution_count": 35,
   "metadata": {},
   "outputs": [
    {
     "data": {
      "text/plain": [
       "<matplotlib.axes._subplots.AxesSubplot at 0x24e9000b248>"
      ]
     },
     "execution_count": 35,
     "metadata": {},
     "output_type": "execute_result"
    },
    {
     "data": {
      "image/png": "[encoded data removed]",
      "text/plain": [
       "<Figure size 432x288 with 1 Axes>"
      ]
     },
     "metadata": {
      "needs_background": "light"
     },
     "output_type": "display_data"
    }
   ],
   "source": [
    "# Distribution of beats_per_minute \n",
    "#Bi-modal, beats_per_minute around 125 the most frequent in popular songs \n",
    "\n",
    "sns.distplot(song_ranks_3['beats_per_minute'])"
   ]
  },
  {
   "cell_type": "code",
   "execution_count": 36,
   "metadata": {},
   "outputs": [
    {
     "data": {
      "text/plain": [
       "Text(0.5, 1.0, 'energy vs popularity')"
      ]
     },
     "execution_count": 36,
     "metadata": {},
     "output_type": "execute_result"
    },
    {
     "data": {
      "image/png": "[encoded data removed]",
      "text/plain": [
       "<Figure size 432x288 with 1 Axes>"
      ]
     },
     "metadata": {
      "needs_background": "light"
     },
     "output_type": "display_data"
    }
   ],
   "source": [
    "# Plotting energy vs popularity, slightly negative correlation \n",
    "\n",
    "sns.scatterplot(x = song_ranks_3['energy'], y = song_ranks_3['popularity'], color = 'gray' )\n",
    "plt.title('energy vs popularity')"
   ]
  },
  {
   "cell_type": "code",
   "execution_count": 37,
   "metadata": {},
   "outputs": [
    {
     "data": {
      "text/plain": [
       "Text(0.5, 1.0, 'energy vs popularity')"
      ]
     },
     "execution_count": 37,
     "metadata": {},
     "output_type": "execute_result"
    },
    {
     "data": {
      "image/png": "[encoded data removed]",
      "text/plain": [
       "<Figure size 432x288 with 1 Axes>"
      ]
     },
     "metadata": {
      "needs_background": "light"
     },
     "output_type": "display_data"
    }
   ],
   "source": [
    "sns.regplot(x = song_ranks_3['energy'], y = song_ranks_3['popularity'], color = 'gray', lowess = True )\n",
    "plt.title('energy vs popularity')"
   ]
  },
  {
   "cell_type": "code",
   "execution_count": 38,
   "metadata": {},
   "outputs": [
    {
     "data": {
      "text/plain": [
       "<matplotlib.axes._subplots.AxesSubplot at 0x24e9018b4c8>"
      ]
     },
     "execution_count": 38,
     "metadata": {},
     "output_type": "execute_result"
    },
    {
     "data": {
      "image/png": "[encoded data removed]",
      "text/plain": [
       "<Figure size 432x288 with 1 Axes>"
      ]
     },
     "metadata": {
      "needs_background": "light"
     },
     "output_type": "display_data"
    }
   ],
   "source": [
    "# Distribution of energy \n",
    "# Left skewed, energy around 80 the most frequent in popular songs\n",
    "\n",
    "sns.distplot(song_ranks_3['energy'], color = 'gray')"
   ]
  },
  {
   "cell_type": "code",
   "execution_count": 39,
   "metadata": {},
   "outputs": [
    {
     "data": {
      "text/plain": [
       "Text(0.5, 1.0, 'danceability vs popularity')"
      ]
     },
     "execution_count": 39,
     "metadata": {},
     "output_type": "execute_result"
    },
    {
     "data": {
      "image/png": "[encoded data removed]",
      "text/plain": [
       "<Figure size 432x288 with 1 Axes>"
      ]
     },
     "metadata": {
      "needs_background": "light"
     },
     "output_type": "display_data"
    }
   ],
   "source": [
    "# Plotting danceability vs popularity, no significant correlation seen \n",
    "\n",
    "sns.scatterplot(x = song_ranks_3['danceability'], y = song_ranks_3['popularity'], color = 'green' )\n",
    "plt.xlim([20,100])\n",
    "plt.title('danceability vs popularity')"
   ]
  },
  {
   "cell_type": "code",
   "execution_count": 40,
   "metadata": {},
   "outputs": [
    {
     "data": {
      "text/plain": [
       "Text(0.5, 1.0, 'danceability vs popularity')"
      ]
     },
     "execution_count": 40,
     "metadata": {},
     "output_type": "execute_result"
    },
    {
     "data": {
      "image/png": "[encoded data removed]",
      "text/plain": [
       "<Figure size 432x288 with 1 Axes>"
      ]
     },
     "metadata": {
      "needs_background": "light"
     },
     "output_type": "display_data"
    }
   ],
   "source": [
    "sns.regplot(x = song_ranks_3['energy'], y = song_ranks_3['popularity'], color = 'green', lowess = True )\n",
    "plt.title('danceability vs popularity')"
   ]
  },
  {
   "cell_type": "code",
   "execution_count": 41,
   "metadata": {},
   "outputs": [
    {
     "data": {
      "text/plain": [
       "<matplotlib.axes._subplots.AxesSubplot at 0x24e902d9288>"
      ]
     },
     "execution_count": 41,
     "metadata": {},
     "output_type": "execute_result"
    },
    {
     "data": {
      "image/png": "[encoded data removed]",
      "text/plain": [
       "<Figure size 432x288 with 1 Axes>"
      ]
     },
     "metadata": {
      "needs_background": "light"
     },
     "output_type": "display_data"
    }
   ],
   "source": [
    "# Distribution of danceability \n",
    "# Close to normal distribution with danceability around 70 being the most frequent amongst popular songs \n",
    "\n",
    "sns.distplot(song_ranks_3['danceability'], color = 'green')"
   ]
  },
  {
   "cell_type": "code",
   "execution_count": 42,
   "metadata": {},
   "outputs": [
    {
     "data": {
      "text/plain": [
       "Text(0.5, 1.0, 'loudness vs popularity')"
      ]
     },
     "execution_count": 42,
     "metadata": {},
     "output_type": "execute_result"
    },
    {
     "data": {
      "image/png": "[encoded data removed]",
      "text/plain": [
       "<Figure size 432x288 with 1 Axes>"
      ]
     },
     "metadata": {
      "needs_background": "light"
     },
     "output_type": "display_data"
    }
   ],
   "source": [
    "# Plotting loudness vs popularity, no significant correlation seen \n",
    "\n",
    "sns.scatterplot(x = song_ranks_3['loudness'], y = song_ranks_3['popularity'], color = 'maroon')\n",
    "plt.xlim([-16,0])\n",
    "plt.title('loudness vs popularity')"
   ]
  },
  {
   "cell_type": "code",
   "execution_count": 43,
   "metadata": {},
   "outputs": [
    {
     "data": {
      "text/plain": [
       "Text(0.5, 1.0, 'loudness vs popularity')"
      ]
     },
     "execution_count": 43,
     "metadata": {},
     "output_type": "execute_result"
    },
    {
     "data": {
      "image/png": "[encoded data removed]",
      "text/plain": [
       "<Figure size 432x288 with 1 Axes>"
      ]
     },
     "metadata": {
      "needs_background": "light"
     },
     "output_type": "display_data"
    }
   ],
   "source": [
    "sns.regplot(x = song_ranks_3['loudness'], y = song_ranks_3['popularity'], color = 'maroon', lowess = True )\n",
    "plt.title('loudness vs popularity')"
   ]
  },
  {
   "cell_type": "code",
   "execution_count": 44,
   "metadata": {},
   "outputs": [
    {
     "data": {
      "text/plain": [
       "<matplotlib.axes._subplots.AxesSubplot at 0x24e91421788>"
      ]
     },
     "execution_count": 44,
     "metadata": {},
     "output_type": "execute_result"
    },
    {
     "data": {
      "image/png": "[encoded data removed]",
      "text/plain": [
       "<Figure size 432x288 with 1 Axes>"
      ]
     },
     "metadata": {
      "needs_background": "light"
     },
     "output_type": "display_data"
    }
   ],
   "source": [
    "# Distribution of loudness\n",
    "# Left skewed, loudness of -5 the most common amongst popular songs \n",
    "\n",
    "sns.distplot(song_ranks_3['loudness'], color = 'maroon')"
   ]
  },
  {
   "cell_type": "code",
   "execution_count": 45,
   "metadata": {},
   "outputs": [
    {
     "data": {
      "text/plain": [
       "Text(0.5, 1.0, 'liveness vs popularity')"
      ]
     },
     "execution_count": 45,
     "metadata": {},
     "output_type": "execute_result"
    },
    {
     "data": {
      "image/png": "[encoded data removed]",
      "text/plain": [
       "<Figure size 432x288 with 1 Axes>"
      ]
     },
     "metadata": {
      "needs_background": "light"
     },
     "output_type": "display_data"
    }
   ],
   "source": [
    "# Plotting liveness vs popularity, no significant correlation seen \n",
    "\n",
    "sns.scatterplot(x = song_ranks_3['liveness'], y = song_ranks_3['popularity'], color = 'turquoise')\n",
    "plt.title('liveness vs popularity')"
   ]
  },
  {
   "cell_type": "code",
   "execution_count": 46,
   "metadata": {},
   "outputs": [
    {
     "data": {
      "text/plain": [
       "Text(0.5, 1.0, 'liveness vs popularity')"
      ]
     },
     "execution_count": 46,
     "metadata": {},
     "output_type": "execute_result"
    },
    {
     "data": {
      "image/png": "[encoded data removed]",
      "text/plain": [
       "<Figure size 432x288 with 1 Axes>"
      ]
     },
     "metadata": {
      "needs_background": "light"
     },
     "output_type": "display_data"
    }
   ],
   "source": [
    "sns.regplot(x = song_ranks_3['liveness'], y = song_ranks_3['popularity'], color = 'turquoise', lowess = True )\n",
    "plt.title('liveness vs popularity')"
   ]
  },
  {
   "cell_type": "code",
   "execution_count": 47,
   "metadata": {},
   "outputs": [
    {
     "data": {
      "text/plain": [
       "<matplotlib.axes._subplots.AxesSubplot at 0x24e8e40ce48>"
      ]
     },
     "execution_count": 47,
     "metadata": {},
     "output_type": "execute_result"
    },
    {
     "data": {
      "image/png": "[encoded data removed]",
      "text/plain": [
       "<Figure size 432x288 with 1 Axes>"
      ]
     },
     "metadata": {
      "needs_background": "light"
     },
     "output_type": "display_data"
    }
   ],
   "source": [
    "# Distributon of liveness\n",
    "# Right skewed, liveness around 10 the most frequent amongst popular songs \n",
    "\n",
    "sns.distplot(song_ranks_3['liveness'], color = 'turquoise')"
   ]
  },
  {
   "cell_type": "code",
   "execution_count": 48,
   "metadata": {},
   "outputs": [
    {
     "data": {
      "text/plain": [
       "Text(0.5, 1.0, 'valence vs popularity')"
      ]
     },
     "execution_count": 48,
     "metadata": {},
     "output_type": "execute_result"
    },
    {
     "data": {
      "image/png": "[encoded data removed]",
      "text/plain": [
       "<Figure size 432x288 with 1 Axes>"
      ]
     },
     "metadata": {
      "needs_background": "light"
     },
     "output_type": "display_data"
    }
   ],
   "source": [
    "# Plotting valence vs popularity, no significant correlation seen \n",
    "\n",
    "sns.scatterplot(x = song_ranks_3['valence'], y = song_ranks_3['popularity'], color = 'purple')\n",
    "plt.title('valence vs popularity')"
   ]
  },
  {
   "cell_type": "code",
   "execution_count": 49,
   "metadata": {},
   "outputs": [
    {
     "data": {
      "text/plain": [
       "Text(0.5, 1.0, 'valence vs popularity')"
      ]
     },
     "execution_count": 49,
     "metadata": {},
     "output_type": "execute_result"
    },
    {
     "data": {
      "image/png": "[encoded data removed]",
      "text/plain": [
       "<Figure size 432x288 with 1 Axes>"
      ]
     },
     "metadata": {
      "needs_background": "light"
     },
     "output_type": "display_data"
    }
   ],
   "source": [
    "sns.regplot(x = song_ranks_3['valence'], y = song_ranks_3['popularity'], color = 'purple', lowess = True )\n",
    "plt.title('valence vs popularity')"
   ]
  },
  {
   "cell_type": "code",
   "execution_count": 50,
   "metadata": {},
   "outputs": [
    {
     "data": {
      "text/plain": [
       "<matplotlib.axes._subplots.AxesSubplot at 0x24e91718888>"
      ]
     },
     "execution_count": 50,
     "metadata": {},
     "output_type": "execute_result"
    },
    {
     "data": {
      "image/png": "[encoded data removed]",
      "text/plain": [
       "<Figure size 432x288 with 1 Axes>"
      ]
     },
     "metadata": {
      "needs_background": "light"
     },
     "output_type": "display_data"
    }
   ],
   "source": [
    "# Distribution of valence \n",
    "# Close to normal distribution w/ wide spread, valence around 60 is most frequent amongst popular songs \n",
    "\n",
    "sns.distplot(song_ranks_3['valence'], color = 'purple')"
   ]
  },
  {
   "cell_type": "code",
   "execution_count": 51,
   "metadata": {},
   "outputs": [
    {
     "data": {
      "text/plain": [
       "Text(0.5, 1.0, 'length vs popularity')"
      ]
     },
     "execution_count": 51,
     "metadata": {},
     "output_type": "execute_result"
    },
    {
     "data": {
      "image/png": "[encoded data removed]",
      "text/plain": [
       "<Figure size 432x288 with 1 Axes>"
      ]
     },
     "metadata": {
      "needs_background": "light"
     },
     "output_type": "display_data"
    }
   ],
   "source": [
    "# Plotting length vs popularity, slightly negative correlation \n",
    "\n",
    "sns.scatterplot(x = song_ranks_3['length'], y = song_ranks_3['popularity'], color = 'orange')\n",
    "plt.title('length vs popularity')"
   ]
  },
  {
   "cell_type": "code",
   "execution_count": 52,
   "metadata": {},
   "outputs": [
    {
     "data": {
      "text/plain": [
       "Text(0.5, 1.0, 'length vs popularity')"
      ]
     },
     "execution_count": 52,
     "metadata": {},
     "output_type": "execute_result"
    },
    {
     "data": {
      "image/png": "[encoded data removed]",
      "text/plain": [
       "<Figure size 432x288 with 1 Axes>"
      ]
     },
     "metadata": {
      "needs_background": "light"
     },
     "output_type": "display_data"
    }
   ],
   "source": [
    "sns.regplot(x = song_ranks_3['length'], y = song_ranks_3['popularity'], color = 'orange', lowess = True )\n",
    "plt.title('length vs popularity')"
   ]
  },
  {
   "cell_type": "code",
   "execution_count": 53,
   "metadata": {},
   "outputs": [
    {
     "data": {
      "text/plain": [
       "<matplotlib.axes._subplots.AxesSubplot at 0x24e9185ec48>"
      ]
     },
     "execution_count": 53,
     "metadata": {},
     "output_type": "execute_result"
    },
    {
     "data": {
      "image/png": "[encoded data removed]",
      "text/plain": [
       "<Figure size 432x288 with 1 Axes>"
      ]
     },
     "metadata": {
      "needs_background": "light"
     },
     "output_type": "display_data"
    }
   ],
   "source": [
    "# Distribution of length \n",
    "# Right skewed, length around 225 most common for popular songs \n",
    "\n",
    "sns.distplot(song_ranks_3['length'], color = 'orange')"
   ]
  },
  {
   "cell_type": "code",
   "execution_count": 54,
   "metadata": {},
   "outputs": [
    {
     "data": {
      "text/plain": [
       "Text(0.5, 1.0, 'acousticness vs popularity')"
      ]
     },
     "execution_count": 54,
     "metadata": {},
     "output_type": "execute_result"
    },
    {
     "data": {
      "image/png": "[encoded data removed]",
      "text/plain": [
       "<Figure size 432x288 with 1 Axes>"
      ]
     },
     "metadata": {
      "needs_background": "light"
     },
     "output_type": "display_data"
    }
   ],
   "source": [
    "# Plotting acousticness vs popularity, no significant correlation seen \n",
    "\n",
    "sns.scatterplot(x = song_ranks_3['acousticness'], y = song_ranks_3['popularity'], color = 'navy')\n",
    "plt.title('acousticness vs popularity')"
   ]
  },
  {
   "cell_type": "code",
   "execution_count": 55,
   "metadata": {},
   "outputs": [
    {
     "data": {
      "text/plain": [
       "Text(0.5, 1.0, 'acousticness vs popularity')"
      ]
     },
     "execution_count": 55,
     "metadata": {},
     "output_type": "execute_result"
    },
    {
     "data": {
      "image/png": "[encoded data removed]",
      "text/plain": [
       "<Figure size 432x288 with 1 Axes>"
      ]
     },
     "metadata": {
      "needs_background": "light"
     },
     "output_type": "display_data"
    }
   ],
   "source": [
    "sns.regplot(x = song_ranks_3['acousticness'], y = song_ranks_3['popularity'], color = 'navy', lowess = True )\n",
    "plt.title('acousticness vs popularity')"
   ]
  },
  {
   "cell_type": "code",
   "execution_count": 56,
   "metadata": {},
   "outputs": [
    {
     "data": {
      "text/plain": [
       "<matplotlib.axes._subplots.AxesSubplot at 0x24e9192f888>"
      ]
     },
     "execution_count": 56,
     "metadata": {},
     "output_type": "execute_result"
    },
    {
     "data": {
      "image/png": "[encoded data removed]",
      "text/plain": [
       "<Figure size 432x288 with 1 Axes>"
      ]
     },
     "metadata": {
      "needs_background": "light"
     },
     "output_type": "display_data"
    }
   ],
   "source": [
    "# Distribution of acousticness \n",
    "# Right skewed, acousticness of 0 very frequent amongst popular songs \n",
    "\n",
    "sns.distplot(song_ranks_3['acousticness'], color = 'navy')"
   ]
  },
  {
   "cell_type": "code",
   "execution_count": 57,
   "metadata": {},
   "outputs": [
    {
     "data": {
      "text/plain": [
       "Text(0.5, 1.0, 'speechiness vs popularity')"
      ]
     },
     "execution_count": 57,
     "metadata": {},
     "output_type": "execute_result"
    },
    {
     "data": {
      "image/png": "[encoded data removed]",
      "text/plain": [
       "<Figure size 432x288 with 1 Axes>"
      ]
     },
     "metadata": {
      "needs_background": "light"
     },
     "output_type": "display_data"
    }
   ],
   "source": [
    "# Plotting speechiness vs popularity, no significant correlation seen \n",
    "\n",
    "sns.scatterplot(x = song_ranks_3['speechiness'], y = song_ranks_3['popularity'], color = 'sienna')\n",
    "plt.title('speechiness vs popularity')"
   ]
  },
  {
   "cell_type": "code",
   "execution_count": 58,
   "metadata": {},
   "outputs": [
    {
     "data": {
      "text/plain": [
       "Text(0.5, 1.0, 'speechiness vs popularity')"
      ]
     },
     "execution_count": 58,
     "metadata": {},
     "output_type": "execute_result"
    },
    {
     "data": {
      "image/png": "[encoded data removed]",
      "text/plain": [
       "<Figure size 432x288 with 1 Axes>"
      ]
     },
     "metadata": {
      "needs_background": "light"
     },
     "output_type": "display_data"
    }
   ],
   "source": [
    "sns.regplot(x = song_ranks_3['speechiness'], y = song_ranks_3['popularity'], color = 'sienna', lowess = True )\n",
    "plt.title('speechiness vs popularity')"
   ]
  },
  {
   "cell_type": "code",
   "execution_count": 59,
   "metadata": {},
   "outputs": [
    {
     "data": {
      "text/plain": [
       "<matplotlib.axes._subplots.AxesSubplot at 0x24e91a6f3c8>"
      ]
     },
     "execution_count": 59,
     "metadata": {},
     "output_type": "execute_result"
    },
    {
     "data": {
      "image/png": "[encoded data removed]",
      "text/plain": [
       "<Figure size 432x288 with 1 Axes>"
      ]
     },
     "metadata": {
      "needs_background": "light"
     },
     "output_type": "display_data"
    }
   ],
   "source": [
    "# Distribution of speechiness\n",
    "# Right skewed, speechiness close to 5 most common amongst popular songs \n",
    "\n",
    "sns.distplot(song_ranks_3['speechiness'], color = 'sienna')"
   ]
  },
  {
   "cell_type": "code",
   "execution_count": 60,
   "metadata": {},
   "outputs": [
    {
     "data": {
      "text/plain": [
       "<matplotlib.axes._subplots.AxesSubplot at 0x24e91c5ec48>"
      ]
     },
     "execution_count": 60,
     "metadata": {},
     "output_type": "execute_result"
    },
    {
     "data": {
      "image/png": "[encoded data removed]",
      "text/plain": [
       "<Figure size 432x288 with 2 Axes>"
      ]
     },
     "metadata": {
      "needs_background": "light"
     },
     "output_type": "display_data"
    }
   ],
   "source": [
    "# Corrleation matrix to see strength of relationship between all numerical variables\n",
    "# The combination/effects of many variables together could be what determines popularity of a song\n",
    "\n",
    "correlation_matrix = song_ranks_3.corr().round(2)\n",
    "sns.heatmap(data = correlation_matrix, annot = True)"
   ]
  },
  {
   "cell_type": "code",
   "execution_count": 61,
   "metadata": {
    "scrolled": true
   },
   "outputs": [
    {
     "data": {
      "text/html": [
       "<div>\n",
       "<style scoped>\n",
       "    .dataframe tbody tr th:only-of-type {\n",
       "        vertical-align: middle;\n",
       "    }\n",
       "\n",
       "    .dataframe tbody tr th {\n",
       "        vertical-align: top;\n",
       "    }\n",
       "\n",
       "    .dataframe thead th {\n",
       "        text-align: right;\n",
       "    }\n",
       "</style>\n",
       "<table border=\"1\" class=\"dataframe\">\n",
       "  <thead>\n",
       "    <tr style=\"text-align: right;\">\n",
       "      <th></th>\n",
       "      <th>title</th>\n",
       "      <th>artist</th>\n",
       "      <th>genre</th>\n",
       "      <th>beats_per_minute</th>\n",
       "      <th>energy</th>\n",
       "      <th>danceability</th>\n",
       "      <th>loudness</th>\n",
       "      <th>liveness</th>\n",
       "      <th>valence</th>\n",
       "      <th>length</th>\n",
       "      <th>acousticness</th>\n",
       "      <th>speechiness</th>\n",
       "      <th>popularity</th>\n",
       "    </tr>\n",
       "    <tr>\n",
       "      <th>year</th>\n",
       "      <th></th>\n",
       "      <th></th>\n",
       "      <th></th>\n",
       "      <th></th>\n",
       "      <th></th>\n",
       "      <th></th>\n",
       "      <th></th>\n",
       "      <th></th>\n",
       "      <th></th>\n",
       "      <th></th>\n",
       "      <th></th>\n",
       "      <th></th>\n",
       "      <th></th>\n",
       "    </tr>\n",
       "  </thead>\n",
       "  <tbody>\n",
       "    <tr>\n",
       "      <td>2010</td>\n",
       "      <td>50</td>\n",
       "      <td>50</td>\n",
       "      <td>50</td>\n",
       "      <td>50</td>\n",
       "      <td>50</td>\n",
       "      <td>50</td>\n",
       "      <td>50</td>\n",
       "      <td>50</td>\n",
       "      <td>50</td>\n",
       "      <td>50</td>\n",
       "      <td>50</td>\n",
       "      <td>50</td>\n",
       "      <td>50</td>\n",
       "    </tr>\n",
       "    <tr>\n",
       "      <td>2011</td>\n",
       "      <td>53</td>\n",
       "      <td>53</td>\n",
       "      <td>53</td>\n",
       "      <td>53</td>\n",
       "      <td>53</td>\n",
       "      <td>53</td>\n",
       "      <td>53</td>\n",
       "      <td>53</td>\n",
       "      <td>53</td>\n",
       "      <td>53</td>\n",
       "      <td>53</td>\n",
       "      <td>53</td>\n",
       "      <td>53</td>\n",
       "    </tr>\n",
       "    <tr>\n",
       "      <td>2012</td>\n",
       "      <td>34</td>\n",
       "      <td>34</td>\n",
       "      <td>34</td>\n",
       "      <td>34</td>\n",
       "      <td>34</td>\n",
       "      <td>34</td>\n",
       "      <td>34</td>\n",
       "      <td>34</td>\n",
       "      <td>34</td>\n",
       "      <td>34</td>\n",
       "      <td>34</td>\n",
       "      <td>34</td>\n",
       "      <td>34</td>\n",
       "    </tr>\n",
       "    <tr>\n",
       "      <td>2013</td>\n",
       "      <td>71</td>\n",
       "      <td>71</td>\n",
       "      <td>71</td>\n",
       "      <td>71</td>\n",
       "      <td>71</td>\n",
       "      <td>71</td>\n",
       "      <td>71</td>\n",
       "      <td>71</td>\n",
       "      <td>71</td>\n",
       "      <td>71</td>\n",
       "      <td>71</td>\n",
       "      <td>71</td>\n",
       "      <td>71</td>\n",
       "    </tr>\n",
       "    <tr>\n",
       "      <td>2014</td>\n",
       "      <td>57</td>\n",
       "      <td>57</td>\n",
       "      <td>57</td>\n",
       "      <td>57</td>\n",
       "      <td>57</td>\n",
       "      <td>57</td>\n",
       "      <td>57</td>\n",
       "      <td>57</td>\n",
       "      <td>57</td>\n",
       "      <td>57</td>\n",
       "      <td>57</td>\n",
       "      <td>57</td>\n",
       "      <td>57</td>\n",
       "    </tr>\n",
       "    <tr>\n",
       "      <td>2015</td>\n",
       "      <td>92</td>\n",
       "      <td>92</td>\n",
       "      <td>92</td>\n",
       "      <td>92</td>\n",
       "      <td>92</td>\n",
       "      <td>92</td>\n",
       "      <td>92</td>\n",
       "      <td>92</td>\n",
       "      <td>92</td>\n",
       "      <td>92</td>\n",
       "      <td>92</td>\n",
       "      <td>92</td>\n",
       "      <td>92</td>\n",
       "    </tr>\n",
       "    <tr>\n",
       "      <td>2016</td>\n",
       "      <td>79</td>\n",
       "      <td>79</td>\n",
       "      <td>79</td>\n",
       "      <td>79</td>\n",
       "      <td>79</td>\n",
       "      <td>79</td>\n",
       "      <td>79</td>\n",
       "      <td>79</td>\n",
       "      <td>79</td>\n",
       "      <td>79</td>\n",
       "      <td>79</td>\n",
       "      <td>79</td>\n",
       "      <td>79</td>\n",
       "    </tr>\n",
       "    <tr>\n",
       "      <td>2017</td>\n",
       "      <td>65</td>\n",
       "      <td>65</td>\n",
       "      <td>65</td>\n",
       "      <td>65</td>\n",
       "      <td>65</td>\n",
       "      <td>65</td>\n",
       "      <td>65</td>\n",
       "      <td>65</td>\n",
       "      <td>65</td>\n",
       "      <td>65</td>\n",
       "      <td>65</td>\n",
       "      <td>65</td>\n",
       "      <td>65</td>\n",
       "    </tr>\n",
       "    <tr>\n",
       "      <td>2018</td>\n",
       "      <td>64</td>\n",
       "      <td>64</td>\n",
       "      <td>64</td>\n",
       "      <td>64</td>\n",
       "      <td>64</td>\n",
       "      <td>64</td>\n",
       "      <td>64</td>\n",
       "      <td>64</td>\n",
       "      <td>64</td>\n",
       "      <td>64</td>\n",
       "      <td>64</td>\n",
       "      <td>64</td>\n",
       "      <td>64</td>\n",
       "    </tr>\n",
       "    <tr>\n",
       "      <td>2019</td>\n",
       "      <td>31</td>\n",
       "      <td>31</td>\n",
       "      <td>31</td>\n",
       "      <td>31</td>\n",
       "      <td>31</td>\n",
       "      <td>31</td>\n",
       "      <td>31</td>\n",
       "      <td>31</td>\n",
       "      <td>31</td>\n",
       "      <td>31</td>\n",
       "      <td>31</td>\n",
       "      <td>31</td>\n",
       "      <td>31</td>\n",
       "    </tr>\n",
       "  </tbody>\n",
       "</table>\n",
       "</div>"
      ],
      "text/plain": [
       "      title  artist  genre  beats_per_minute  energy  danceability  loudness  \\\n",
       "year                                                                           \n",
       "2010     50      50     50                50      50            50        50   \n",
       "2011     53      53     53                53      53            53        53   \n",
       "2012     34      34     34                34      34            34        34   \n",
       "2013     71      71     71                71      71            71        71   \n",
       "2014     57      57     57                57      57            57        57   \n",
       "2015     92      92     92                92      92            92        92   \n",
       "2016     79      79     79                79      79            79        79   \n",
       "2017     65      65     65                65      65            65        65   \n",
       "2018     64      64     64                64      64            64        64   \n",
       "2019     31      31     31                31      31            31        31   \n",
       "\n",
       "      liveness  valence  length  acousticness  speechiness  popularity  \n",
       "year                                                                    \n",
       "2010        50       50      50            50           50          50  \n",
       "2011        53       53      53            53           53          53  \n",
       "2012        34       34      34            34           34          34  \n",
       "2013        71       71      71            71           71          71  \n",
       "2014        57       57      57            57           57          57  \n",
       "2015        92       92      92            92           92          92  \n",
       "2016        79       79      79            79           79          79  \n",
       "2017        65       65      65            65           65          65  \n",
       "2018        64       64      64            64           64          64  \n",
       "2019        31       31      31            31           31          31  "
      ]
     },
     "execution_count": 61,
     "metadata": {},
     "output_type": "execute_result"
    }
   ],
   "source": [
    "# Seeing number of popular songs per year in dataset\n",
    "# Range of popular songs included per year from 31 (2019) to 92(2015)\n",
    "\n",
    "song_ranks_3.groupby('year').count()"
   ]
  },
  {
   "cell_type": "code",
   "execution_count": 62,
   "metadata": {},
   "outputs": [
    {
     "data": {
      "text/plain": [
       "year\n",
       "2010    65.540000\n",
       "2011    61.867925\n",
       "2012    69.764706\n",
       "2013    63.985915\n",
       "2014    63.807018\n",
       "2015    65.076087\n",
       "2016    64.974684\n",
       "2017    69.015385\n",
       "2018    72.437500\n",
       "2019    84.354839\n",
       "Name: popularity, dtype: float64"
      ]
     },
     "execution_count": 62,
     "metadata": {},
     "output_type": "execute_result"
    }
   ],
   "source": [
    "# Looking into how numeric variables varied by year \n",
    "# Songs have had increasing popularity in recent years \n",
    "\n",
    "song_ranks_3.groupby('year')['popularity'].mean()"
   ]
  },
  {
   "cell_type": "code",
   "execution_count": 63,
   "metadata": {},
   "outputs": [
    {
     "data": {
      "text/plain": [
       "year\n",
       "2010    121.940000\n",
       "2011    119.075472\n",
       "2012    121.294118\n",
       "2013    121.676056\n",
       "2014    123.649123\n",
       "2015    118.869565\n",
       "2016    115.772152\n",
       "2017    116.800000\n",
       "2018    114.593750\n",
       "2019    112.451613\n",
       "Name: beats_per_minute, dtype: float64"
      ]
     },
     "execution_count": 63,
     "metadata": {},
     "output_type": "execute_result"
    }
   ],
   "source": [
    "# beats_per_minute decreased over past decade \n",
    "\n",
    "song_ranks_3.groupby('year')['beats_per_minute'].mean()"
   ]
  },
  {
   "cell_type": "code",
   "execution_count": 64,
   "metadata": {},
   "outputs": [
    {
     "data": {
      "text/plain": [
       "year\n",
       "2010    77.500000\n",
       "2011    74.886792\n",
       "2012    75.000000\n",
       "2013    73.873239\n",
       "2014    67.684211\n",
       "2015    70.489130\n",
       "2016    68.088608\n",
       "2017    69.169231\n",
       "2018    65.468750\n",
       "2019    64.741935\n",
       "Name: energy, dtype: float64"
      ]
     },
     "execution_count": 64,
     "metadata": {},
     "output_type": "execute_result"
    }
   ],
   "source": [
    "# energy decreased over past decade \n",
    "\n",
    "song_ranks_3.groupby('year')['energy'].mean()"
   ]
  },
  {
   "cell_type": "code",
   "execution_count": 65,
   "metadata": {},
   "outputs": [
    {
     "data": {
      "text/plain": [
       "year\n",
       "2010    64.480000\n",
       "2011    63.641509\n",
       "2012    65.882353\n",
       "2013    62.042254\n",
       "2014    62.596491\n",
       "2015    63.586957\n",
       "2016    64.126582\n",
       "2017    65.369231\n",
       "2018    67.203125\n",
       "2019    69.709677\n",
       "Name: danceability, dtype: float64"
      ]
     },
     "execution_count": 65,
     "metadata": {},
     "output_type": "execute_result"
    }
   ],
   "source": [
    "# No discernible pattern for danceability except for recent increase \n",
    "\n",
    "song_ranks_3.groupby('year')['danceability'].mean()"
   ]
  },
  {
   "cell_type": "code",
   "execution_count": 66,
   "metadata": {},
   "outputs": [
    {
     "data": {
      "text/plain": [
       "year\n",
       "2010   -4.940000\n",
       "2011   -5.018868\n",
       "2012   -4.911765\n",
       "2013   -5.140845\n",
       "2014   -5.771930\n",
       "2015   -5.565217\n",
       "2016   -6.037975\n",
       "2017   -5.615385\n",
       "2018   -5.671875\n",
       "2019   -5.774194\n",
       "Name: loudness, dtype: float64"
      ]
     },
     "execution_count": 66,
     "metadata": {},
     "output_type": "execute_result"
    }
   ],
   "source": [
    "# No discernible pattern for loudness \n",
    "\n",
    "song_ranks_3.groupby('year')['loudness'].mean()"
   ]
  },
  {
   "cell_type": "code",
   "execution_count": 67,
   "metadata": {},
   "outputs": [
    {
     "data": {
      "text/plain": [
       "year\n",
       "2010    21.400000\n",
       "2011    20.943396\n",
       "2012    15.558824\n",
       "2013    19.718310\n",
       "2014    16.929825\n",
       "2015    18.423913\n",
       "2016    17.962025\n",
       "2017    15.369231\n",
       "2018    14.750000\n",
       "2019    15.161290\n",
       "Name: liveness, dtype: float64"
      ]
     },
     "execution_count": 67,
     "metadata": {},
     "output_type": "execute_result"
    }
   ],
   "source": [
    "# liveness has had up & down variations but decreased over past decade \n",
    "\n",
    "song_ranks_3.groupby('year')['liveness'].mean()"
   ]
  },
  {
   "cell_type": "code",
   "execution_count": 68,
   "metadata": {},
   "outputs": [
    {
     "data": {
      "text/plain": [
       "year\n",
       "2010    57.240000\n",
       "2011    53.698113\n",
       "2012    63.852941\n",
       "2013    53.183099\n",
       "2014    52.192982\n",
       "2015    52.032609\n",
       "2016    45.721519\n",
       "2017    52.276923\n",
       "2018    48.765625\n",
       "2019    50.806452\n",
       "Name: valence, dtype: float64"
      ]
     },
     "execution_count": 68,
     "metadata": {},
     "output_type": "execute_result"
    }
   ],
   "source": [
    "# valence has had up & down variations but decreased over past decade\n",
    "\n",
    "song_ranks_3.groupby('year')['valence'].mean()"
   ]
  },
  {
   "cell_type": "code",
   "execution_count": 69,
   "metadata": {},
   "outputs": [
    {
     "data": {
      "text/plain": [
       "year\n",
       "2010    230.580000\n",
       "2011    242.566038\n",
       "2012    223.470588\n",
       "2013    234.492958\n",
       "2014    223.421053\n",
       "2015    223.445652\n",
       "2016    220.139241\n",
       "2017    222.169231\n",
       "2018    217.187500\n",
       "2019    200.645161\n",
       "Name: length, dtype: float64"
      ]
     },
     "execution_count": 69,
     "metadata": {},
     "output_type": "execute_result"
    }
   ],
   "source": [
    "# length decreased over past decade overall after initial increases \n",
    "\n",
    "song_ranks_3.groupby('year')['length'].mean()"
   ]
  },
  {
   "cell_type": "code",
   "execution_count": 70,
   "metadata": {},
   "outputs": [
    {
     "data": {
      "text/plain": [
       "year\n",
       "2010    11.840000\n",
       "2011    13.339623\n",
       "2012     5.000000\n",
       "2013    10.323944\n",
       "2014    17.385965\n",
       "2015    16.989130\n",
       "2016    16.075949\n",
       "2017    16.600000\n",
       "2018    12.781250\n",
       "2019    21.741935\n",
       "Name: acousticness, dtype: float64"
      ]
     },
     "execution_count": 70,
     "metadata": {},
     "output_type": "execute_result"
    }
   ],
   "source": [
    "# acoustincness has had up & down variations over past decade \n",
    "\n",
    "song_ranks_3.groupby('year')['acousticness'].mean()"
   ]
  },
  {
   "cell_type": "code",
   "execution_count": 71,
   "metadata": {},
   "outputs": [
    {
     "data": {
      "text/plain": [
       "year\n",
       "2010    9.000000\n",
       "2011    9.660377\n",
       "2012    5.852941\n",
       "2013    8.309859\n",
       "2014    8.719298\n",
       "2015    7.119565\n",
       "2016    8.468354\n",
       "2017    9.784615\n",
       "2018    8.625000\n",
       "2019    8.129032\n",
       "Name: speechiness, dtype: float64"
      ]
     },
     "execution_count": 71,
     "metadata": {},
     "output_type": "execute_result"
    }
   ],
   "source": [
    "# No discernible pattern for speechiness \n",
    "\n",
    "song_ranks_3.groupby('year')['speechiness'].mean()"
   ]
  },
  {
   "cell_type": "code",
   "execution_count": 72,
   "metadata": {},
   "outputs": [
    {
     "data": {
      "text/plain": [
       "Katy Perry           17\n",
       "Justin Bieber        16\n",
       "Rihanna              15\n",
       "Lady Gaga            14\n",
       "Maroon 5             13\n",
       "Bruno Mars           13\n",
       "The Chainsmokers     11\n",
       "Shawn Mendes         11\n",
       "Ed Sheeran           11\n",
       "Pitbull              11\n",
       "Jennifer Lopez       10\n",
       "Calvin Harris        10\n",
       "Ariana Grande         9\n",
       "Britney Spears        9\n",
       "Kesha                 9\n",
       "Adele                 9\n",
       "David Guetta          9\n",
       "OneRepublic           9\n",
       "Selena Gomez          8\n",
       "Demi Lovato           8\n",
       "Beyoncé               8\n",
       "Justin Timberlake     8\n",
       "Taylor Swift          8\n",
       "DNCE                  7\n",
       "One Direction         7\n",
       "Name: artist, dtype: int64"
      ]
     },
     "execution_count": 72,
     "metadata": {},
     "output_type": "execute_result"
    }
   ],
   "source": [
    "# Looking into which artists had the most number of popular songs\n",
    "\n",
    "song_ranks_3['artist'].value_counts().head(25)"
   ]
  },
  {
   "cell_type": "code",
   "execution_count": 73,
   "metadata": {},
   "outputs": [
    {
     "data": {
      "text/plain": [
       "dance pop                    324\n",
       "pop                           58\n",
       "canadian pop                  34\n",
       "barbadian pop                 15\n",
       "boy band                      15\n",
       "electropop                    13\n",
       "british soul                  10\n",
       "big room                       9\n",
       "canadian contemporary r&b      9\n",
       "neo mellow                     9\n",
       "art pop                        8\n",
       "hip pop                        6\n",
       "australian dance               6\n",
       "complextro                     6\n",
       "australian pop                 5\n",
       "edm                            5\n",
       "atl hip hop                    5\n",
       "hip hop                        4\n",
       "latin                          4\n",
       "permanent wave                 4\n",
       "Name: genre, dtype: int64"
      ]
     },
     "execution_count": 73,
     "metadata": {},
     "output_type": "execute_result"
    }
   ],
   "source": [
    "# Seeing which genres had the most number of popular songs\n",
    "# Songs belonging to/associated with the pop genre make up a disproportionate amount of the dataset\n",
    "# Could be difficult to differentiate effect of genre within this dataset due to disproportion\n",
    "\n",
    "song_ranks_3['genre'].value_counts().head(20)"
   ]
  },
  {
   "cell_type": "code",
   "execution_count": 74,
   "metadata": {},
   "outputs": [],
   "source": [
    "# Changing datatype of title to string as certain titles contain numeric & non-letter characters\n",
    "song_ranks_3.title =  song_ranks_3.title.astype(str)"
   ]
  },
  {
   "cell_type": "code",
   "execution_count": 75,
   "metadata": {},
   "outputs": [
    {
     "data": {
      "text/plain": [
       "ID\n",
       "200                                           #Beautiful\n",
       "241                                              #SELFIE\n",
       "174                                           #thatPOWER\n",
       "570                   ...Ready For It? - BloodPop® Remix\n",
       "88                                                   1+1\n",
       "482                                            24K Magic\n",
       "559                             2U (feat. Justin Bieber)\n",
       "31                                                     3\n",
       "298                                                43776\n",
       "373                                              7 Years\n",
       "508                                          A L I E N S\n",
       "179      A Little Party Never Killed Nobody (All We Got)\n",
       "240      A Little Party Never Killed Nobody (All We Got)\n",
       "251                                  A Sky Full of Stars\n",
       "52                                      A Thousand Years\n",
       "227                                            Adore You\n",
       "392                                      Ain't Your Mama\n",
       "19                                             Alejandro\n",
       "336                                                Alive\n",
       "325                                  All About That Bass\n",
       "592                      All Around The World (La La La)\n",
       "474                                            All I Ask\n",
       "399                                            All I Ask\n",
       "25                                   All The Right Moves\n",
       "395                                          All We Know\n",
       "211                                            All of Me\n",
       "333                                      American Oxygen\n",
       "258                                             Anaconda\n",
       "494                                                Angel\n",
       "26                                                Animal\n",
       "289                                              Animals\n",
       "596                       Antisocial (with Travis Scott)\n",
       "197                                Anything Could Happen\n",
       "541                                             Anywhere\n",
       "196                                             Applause\n",
       "193    Atlas - From “The Hunger Games: Catching Fire”...\n",
       "519                                            Attention\n",
       "322                                                 BO$$\n",
       "440                                            BURNITUP!\n",
       "6                                                   Baby\n",
       "348                                       Baby Don't Lie\n",
       "530                                          Bad At Love\n",
       "540                                             Bad Liar\n",
       "4                                            Bad Romance\n",
       "334                                            Bang Bang\n",
       "345                 Bang My Head (feat. Sia & Fetty Wap)\n",
       "437                        Beautiful Birds (feat. Birdy)\n",
       "585                      Beautiful People (feat. Khalid)\n",
       "121                                    Beauty And A Beat\n",
       "338                                             Been You\n",
       "Name: title, dtype: object"
      ]
     },
     "execution_count": 75,
     "metadata": {},
     "output_type": "execute_result"
    }
   ],
   "source": [
    "song_ranks_3.title.sort_values().head(50)"
   ]
  },
  {
   "cell_type": "code",
   "execution_count": 76,
   "metadata": {},
   "outputs": [],
   "source": [
    "# Looking into the most frequently occuring words in popular song titles\n",
    "# Songs with a feature by another artist or songs relating to 'you', 'me', 'love' occur the most within this dataset \n",
    "\n",
    "popular_words = pd.Series(' '.join(song_ranks_3['title']).lower().split()).value_counts()"
   ]
  },
  {
   "cell_type": "code",
   "execution_count": 77,
   "metadata": {},
   "outputs": [
    {
     "data": {
      "text/plain": [
       "(feat.        79\n",
       "the           59\n",
       "you           58\n",
       "-             50\n",
       "me            43\n",
       "love          40\n",
       "i             30\n",
       "&             25\n",
       "it            23\n",
       "of            20\n",
       "to            20\n",
       "like          20\n",
       "my            16\n",
       "we            16\n",
       "(with         16\n",
       "a             15\n",
       "remix         13\n",
       "from          13\n",
       "what          13\n",
       "edit          13\n",
       "in            12\n",
       "radio         12\n",
       "don't         12\n",
       "your          11\n",
       "on            10\n",
       "are            9\n",
       "never          8\n",
       "one            8\n",
       "let            8\n",
       "all            8\n",
       "for            8\n",
       "do             8\n",
       "this           7\n",
       "go             7\n",
       "up             7\n",
       "soundtrack     7\n",
       "version        7\n",
       "night          7\n",
       "be             6\n",
       "heart          6\n",
       "picture        6\n",
       "just           6\n",
       "motion         6\n",
       "way            6\n",
       "la             6\n",
       "good           5\n",
       "no             5\n",
       "that           5\n",
       "cardi          5\n",
       "get            5\n",
       "dtype: int64"
      ]
     },
     "execution_count": 77,
     "metadata": {},
     "output_type": "execute_result"
    }
   ],
   "source": [
    "popular_words.head(50)"
   ]
  },
  {
   "cell_type": "code",
   "execution_count": 78,
   "metadata": {},
   "outputs": [
    {
     "data": {
      "text/plain": [
       "67.05536912751678"
      ]
     },
     "execution_count": 78,
     "metadata": {},
     "output_type": "execute_result"
    }
   ],
   "source": [
    "song_ranks_3['popularity'].mean()"
   ]
  },
  {
   "cell_type": "code",
   "execution_count": 79,
   "metadata": {},
   "outputs": [
    {
     "data": {
      "text/plain": [
       "13.244638859515124"
      ]
     },
     "execution_count": 79,
     "metadata": {},
     "output_type": "execute_result"
    }
   ],
   "source": [
    "song_ranks_3['popularity'].std()"
   ]
  },
  {
   "cell_type": "code",
   "execution_count": 80,
   "metadata": {},
   "outputs": [
    {
     "data": {
      "text/plain": [
       "7"
      ]
     },
     "execution_count": 80,
     "metadata": {},
     "output_type": "execute_result"
    }
   ],
   "source": [
    "song_ranks_3['popularity'].min()"
   ]
  },
  {
   "cell_type": "code",
   "execution_count": 81,
   "metadata": {},
   "outputs": [
    {
     "data": {
      "text/plain": [
       "99"
      ]
     },
     "execution_count": 81,
     "metadata": {},
     "output_type": "execute_result"
    }
   ],
   "source": [
    "song_ranks_3['popularity'].max()"
   ]
  },
  {
   "cell_type": "code",
   "execution_count": 82,
   "metadata": {},
   "outputs": [
    {
     "data": {
      "text/plain": [
       "0.25    60.0\n",
       "0.75    76.0\n",
       "Name: popularity, dtype: float64"
      ]
     },
     "execution_count": 82,
     "metadata": {},
     "output_type": "execute_result"
    }
   ],
   "source": [
    "song_ranks_3['popularity'].quantile([0.25, 0.75])"
   ]
  },
  {
   "cell_type": "code",
   "execution_count": 83,
   "metadata": {},
   "outputs": [
    {
     "data": {
      "text/plain": [
       "title               531\n",
       "artist              531\n",
       "genre               531\n",
       "year                531\n",
       "beats_per_minute    531\n",
       "energy              531\n",
       "danceability        531\n",
       "loudness            531\n",
       "liveness            531\n",
       "valence             531\n",
       "length              531\n",
       "acousticness        531\n",
       "speechiness         531\n",
       "popularity          531\n",
       "dtype: int64"
      ]
     },
     "execution_count": 83,
     "metadata": {},
     "output_type": "execute_result"
    }
   ],
   "source": [
    "pop_over_50 = song_ranks_3[song_ranks_3['popularity'] > 50]\n",
    "pop_over_50.count()"
   ]
  },
  {
   "cell_type": "code",
   "execution_count": 84,
   "metadata": {},
   "outputs": [
    {
     "data": {
      "text/plain": [
       "array([65.9596896 , 68.11245805])"
      ]
     },
     "execution_count": 84,
     "metadata": {},
     "output_type": "execute_result"
    }
   ],
   "source": [
    "np.random.seed(6)\n",
    "num_replicates = 10000\n",
    "\n",
    "# Function to get bootstrap replicate data\n",
    "def bootstrap_replicate(data,func):\n",
    "    bootstrap_sample = np.random.choice(data,size=len(data))\n",
    "    return func(bootstrap_sample)\n",
    "\n",
    "# Empty array to store replicates\n",
    "popularity_replicates = np.empty(num_replicates)\n",
    "\n",
    "# Bootstrap replicates of medical charges\n",
    "for i in range(num_replicates):\n",
    "    popularity_replicates[i] = bootstrap_replicate(song_ranks_3['popularity'],np.mean)\n",
    "\n",
    "# Calculate the 95% confidence interval\n",
    "popularity_confidence_interval = np.percentile(popularity_replicates,[2.5,97.5])\n",
    "popularity_confidence_interval"
   ]
  },
  {
   "cell_type": "code",
   "execution_count": 85,
   "metadata": {},
   "outputs": [],
   "source": [
    "import statsmodels.api as sm\n",
    "from statsmodels.formula.api import ols"
   ]
  },
  {
   "cell_type": "code",
   "execution_count": 86,
   "metadata": {},
   "outputs": [
    {
     "name": "stdout",
     "output_type": "stream",
     "text": [
      "                            OLS Regression Results                            \n",
      "==============================================================================\n",
      "Dep. Variable:             popularity   R-squared:                       0.044\n",
      "Model:                            OLS   Adj. R-squared:                  0.030\n",
      "Method:                 Least Squares   F-statistic:                     3.010\n",
      "Date:                Wed, 15 Jul 2020   Prob (F-statistic):            0.00160\n",
      "Time:                        16:08:19   Log-Likelihood:                -2371.5\n",
      "No. Observations:                 596   AIC:                             4763.\n",
      "Df Residuals:                     586   BIC:                             4807.\n",
      "Df Model:                           9                                         \n",
      "Covariance Type:            nonrobust                                         \n",
      "====================================================================================\n",
      "                       coef    std err          t      P>|t|      [0.025      0.975]\n",
      "------------------------------------------------------------------------------------\n",
      "Intercept           91.5040      8.344     10.967      0.000      75.117     107.891\n",
      "beats_per_minute     0.0121      0.023      0.529      0.597      -0.033       0.057\n",
      "energy              -0.1850      0.054     -3.397      0.001      -0.292      -0.078\n",
      "danceability         0.0608      0.050      1.226      0.221      -0.037       0.158\n",
      "loudness             1.0555      0.433      2.439      0.015       0.205       1.906\n",
      "liveness            -0.0345      0.042     -0.817      0.414      -0.118       0.049\n",
      "valence             -0.0061      0.031     -0.198      0.843      -0.067       0.055\n",
      "length              -0.0413      0.016     -2.502      0.013      -0.074      -0.009\n",
      "acousticness        -0.0303      0.033     -0.924      0.356      -0.095       0.034\n",
      "speechiness         -0.0385      0.075     -0.516      0.606      -0.185       0.108\n",
      "==============================================================================\n",
      "Omnibus:                       98.993   Durbin-Watson:                   0.395\n",
      "Prob(Omnibus):                  0.000   Jarque-Bera (JB):              162.448\n",
      "Skew:                          -1.034   Prob(JB):                     5.31e-36\n",
      "Kurtosis:                       4.504   Cond. No.                     4.36e+03\n",
      "==============================================================================\n",
      "\n",
      "Warnings:\n",
      "[1] Standard Errors assume that the covariance matrix of the errors is correctly specified.\n",
      "[2] The condition number is large, 4.36e+03. This might indicate that there are\n",
      "strong multicollinearity or other numerical problems.\n"
     ]
    }
   ],
   "source": [
    "# Linear model statistics, very poor fit/predictive power \n",
    "\n",
    "model = ols('popularity ~ beats_per_minute + energy + danceability + loudness + liveness + valence + length + acousticness + speechiness', song_ranks_3).fit()\n",
    "print(model.summary())"
   ]
  },
  {
   "cell_type": "code",
   "execution_count": 87,
   "metadata": {},
   "outputs": [],
   "source": [
    "from sklearn.linear_model import LinearRegression\n",
    "from sklearn.linear_model import Ridge\n",
    "from sklearn.linear_model import Lasso\n",
    "from sklearn.model_selection import train_test_split\n",
    "from sklearn.preprocessing import PolynomialFeatures\n",
    "from sklearn.preprocessing import StandardScaler\n",
    "from sklearn.model_selection import cross_val_score \n",
    "from sklearn.feature_extraction.text import TfidfVectorizer\n",
    "from sklearn.pipeline import make_pipeline"
   ]
  },
  {
   "cell_type": "code",
   "execution_count": 88,
   "metadata": {},
   "outputs": [],
   "source": [
    "X = song_ranks_3.drop(['popularity', 'title', 'artist', 'genre', 'year'], axis = 1)\n",
    "Y = song_ranks_3.popularity"
   ]
  },
  {
   "cell_type": "code",
   "execution_count": 102,
   "metadata": {},
   "outputs": [
    {
     "data": {
      "text/plain": [
       "0.04419249076713827"
      ]
     },
     "execution_count": 102,
     "metadata": {},
     "output_type": "execute_result"
    }
   ],
   "source": [
    "reg_normalize = LinearRegression(normalize = True)\n",
    "reg_normalize.fit(X, Y)\n",
    "reg_normalize.score(X, Y)"
   ]
  },
  {
   "cell_type": "code",
   "execution_count": 105,
   "metadata": {},
   "outputs": [
    {
     "data": {
      "text/plain": [
       "0.0427163821840727"
      ]
     },
     "execution_count": 105,
     "metadata": {},
     "output_type": "execute_result"
    }
   ],
   "source": [
    "reg_ridge = Ridge(alpha = 0.1, normalize = True)\n",
    "reg_ridge.fit(X,Y)\n",
    "reg_ridge.score(X,Y)"
   ]
  },
  {
   "cell_type": "code",
   "execution_count": 112,
   "metadata": {},
   "outputs": [
    {
     "data": {
      "text/plain": [
       "0.06695496689996872"
      ]
     },
     "execution_count": 112,
     "metadata": {},
     "output_type": "execute_result"
    }
   ],
   "source": [
    "reg_split = LinearRegression()\n",
    "X_train, X_test, Y_train, Y_test = train_test_split(X, Y, test_size = 0.3, random_state = 6)\n",
    "reg_split.fit(X_train, Y_train )\n",
    "reg_split.score(X_train, Y_train)"
   ]
  },
  {
   "cell_type": "code",
   "execution_count": 113,
   "metadata": {},
   "outputs": [
    {
     "data": {
      "text/plain": [
       "-0.06596191014939157"
      ]
     },
     "execution_count": 113,
     "metadata": {},
     "output_type": "execute_result"
    }
   ],
   "source": [
    "reg_split.score(X_test, Y_test)"
   ]
  },
  {
   "cell_type": "code",
   "execution_count": 118,
   "metadata": {},
   "outputs": [
    {
     "data": {
      "text/plain": [
       "0.46722229098207063"
      ]
     },
     "execution_count": 118,
     "metadata": {},
     "output_type": "execute_result"
    }
   ],
   "source": [
    "reg_poly = LinearRegression()\n",
    "polynomials = PolynomialFeatures(degree = 3)\n",
    "X_poly = polynomials.fit_transform(X)\n",
    "reg_poly.fit(X_poly,Y)\n",
    "reg_poly.score(X_poly,Y)\n"
   ]
  },
  {
   "cell_type": "code",
   "execution_count": 119,
   "metadata": {},
   "outputs": [
    {
     "data": {
      "text/plain": [
       "array([-6.82935581e-07,  5.56307022e+00,  2.68416710e+01,  3.23511975e+01,\n",
       "       -9.09656011e+00, -4.51339771e+00,  8.43145758e+00, -2.29292770e+00,\n",
       "        2.38280962e+01, -5.60982704e+01,  1.73931638e-02, -1.51501686e-01,\n",
       "       -4.17514861e-02,  1.23493080e+00,  1.23062915e-01, -4.96418599e-02,\n",
       "        2.19483410e-02, -1.97347879e-02,  6.63288948e-02, -9.93390839e-02,\n",
       "       -4.38717512e-01, -4.43395164e-01, -1.56025155e-01,  3.02385895e-03,\n",
       "        1.42297706e-02, -1.37000279e-01,  7.65631965e-01, -1.71636118e-01,\n",
       "        3.76364884e-01, -1.01245211e-01,  1.00672595e-01, -3.12300899e-02,\n",
       "       -2.36289907e-01,  5.17249660e-01,  1.73308039e+00, -2.20057815e-01,\n",
       "        3.43880483e-01, -3.92457016e-01, -1.95080633e-01, -5.71229120e+00,\n",
       "       -4.16192232e-02,  1.24971040e-01,  3.44669422e-02,  3.93960513e-02,\n",
       "       -2.04037888e-02, -7.36904453e-02, -4.32181618e-02, -4.86425628e-02,\n",
       "       -1.01849013e-01,  6.14134459e-03, -5.72408265e-02, -6.73047266e-02,\n",
       "       -1.21378604e-01, -1.22257616e-01,  2.76450350e-01, -3.74907133e-05,\n",
       "        1.65273242e-05, -1.87322991e-04, -1.46728611e-03, -6.33825947e-05,\n",
       "        1.53896486e-04, -2.56637560e-05, -8.07362369e-05, -3.21987818e-05,\n",
       "        4.93256678e-04,  7.21603194e-04, -7.13103411e-03, -2.15499432e-04,\n",
       "        6.40334615e-05,  9.15895914e-06,  2.30237450e-04, -1.31352006e-03,\n",
       "        5.94049628e-05, -6.23383609e-03, -4.33289755e-04,  2.75246566e-04,\n",
       "       -1.12931838e-04,  6.64146563e-04,  4.80835254e-04,  3.46482829e-02,\n",
       "        1.26441374e-03, -1.32098602e-03,  1.73829865e-03, -1.08865833e-03,\n",
       "        1.21607982e-02, -2.64178309e-04, -2.43277055e-05, -2.15485965e-04,\n",
       "       -1.19803738e-04,  4.86760290e-04, -1.98175340e-05, -6.17715259e-05,\n",
       "       -9.58160719e-05, -1.06852583e-04,  1.30087857e-05, -1.05360142e-04,\n",
       "        2.59244529e-04,  1.18722978e-04, -6.81464290e-05,  7.80462879e-04,\n",
       "        3.02945500e-04,  9.38164814e-04,  5.99238904e-03,  5.86762608e-04,\n",
       "       -3.28998468e-04, -2.21876030e-04,  7.07003163e-04, -1.74304834e-03,\n",
       "        1.39521245e-03,  4.80383974e-03,  2.45104141e-04, -1.14552218e-03,\n",
       "        5.91748549e-04,  4.35242352e-04, -4.01009042e-03, -2.10950320e-02,\n",
       "       -1.13150344e-02, -2.82248681e-03,  7.10754656e-04,  5.06273742e-03,\n",
       "        1.66931402e-02,  4.37744605e-04, -4.50342816e-04,  8.33603415e-05,\n",
       "        6.38979255e-05, -1.40191973e-04,  3.78308652e-04,  2.54734170e-04,\n",
       "       -3.39870927e-04,  1.63504625e-03, -5.85406786e-05,  2.57567445e-05,\n",
       "       -1.43832210e-04,  4.57589221e-04,  1.26859413e-04, -2.75624817e-03,\n",
       "       -5.21992088e-05, -6.28423265e-03,  3.98963090e-04, -1.58985797e-06,\n",
       "        1.29035197e-04,  3.31762605e-04, -8.32415461e-04, -3.66737627e-02,\n",
       "        1.30159379e-03,  7.98978318e-03, -3.75041657e-04, -1.26161431e-03,\n",
       "        2.60678492e-02,  1.15947976e-03, -3.69400343e-04,  3.12032174e-04,\n",
       "       -2.06354691e-04, -1.80245420e-03,  1.42696533e-04, -9.46927919e-05,\n",
       "        2.57481960e-04,  1.05103847e-03, -3.67426022e-05,  2.25864892e-04,\n",
       "       -5.67693544e-05,  2.89976145e-04,  2.22181096e-04, -2.21960299e-03,\n",
       "        5.11272263e-02,  2.19112471e-02,  1.92951248e-03, -5.30793707e-03,\n",
       "       -3.53197530e-02, -1.07100490e-01,  1.17725876e-03,  6.54100440e-03,\n",
       "        2.81427567e-03,  2.20280582e-03,  4.16982123e-03, -2.23941222e-03,\n",
       "       -1.64995323e-03,  1.50927398e-03,  1.20050880e-03,  2.25013051e-04,\n",
       "       -7.00705229e-04,  1.38165459e-03, -2.47501426e-03, -1.35001268e-02,\n",
       "       -4.76876785e-03, -5.65263911e-05, -3.23943976e-04, -5.68531093e-05,\n",
       "        2.04235832e-04,  4.88660180e-04,  1.18105109e-04, -1.64643761e-04,\n",
       "       -4.60485929e-04,  1.44141912e-03, -3.08673456e-05,  7.19399462e-05,\n",
       "        2.40639513e-04, -1.01465167e-04, -5.77156491e-04, -1.40793785e-03,\n",
       "        8.20336846e-05,  7.18417663e-05,  5.10380889e-05, -4.40578256e-04,\n",
       "        5.63748136e-05,  2.62876651e-04, -4.08462061e-04,  1.82798105e-04,\n",
       "        1.05825706e-03,  1.53619571e-03, -5.43709922e-06,  5.91783622e-05,\n",
       "        1.61462697e-04,  1.47193138e-04,  2.02160691e-04,  2.06876160e-05,\n",
       "        1.11229057e-04, -9.87193048e-04,  6.42015206e-05, -2.59777423e-03])"
      ]
     },
     "execution_count": 119,
     "metadata": {},
     "output_type": "execute_result"
    }
   ],
   "source": [
    "reg_poly.coef_"
   ]
  },
  {
   "cell_type": "code",
   "execution_count": 92,
   "metadata": {},
   "outputs": [
    {
     "data": {
      "text/plain": [
       "ID\n",
       "1                                       Hey  Soul Sister\n",
       "2                                   Love The Way You Lie\n",
       "3                                                TiK ToK\n",
       "4                                            Bad Romance\n",
       "5                                   Just the Way You Are\n",
       "                             ...                        \n",
       "599                  Find U Again  feat  Camila Cabello \n",
       "600        Cross Me  feat  Chance the Rapper   PnB Rock \n",
       "601    No Brainer  feat  Justin Bieber  Chance the Ra...\n",
       "602      Nothing Breaks Like a Heart  feat  Miley Cyrus \n",
       "603                                     Kills You Slowly\n",
       "Name: title, Length: 596, dtype: object"
      ]
     },
     "execution_count": 92,
     "metadata": {},
     "output_type": "execute_result"
    }
   ],
   "source": [
    "song_ranks_3['title'].replace('[^a-zA-Z0-9]', ' ', regex = True)"
   ]
  },
  {
   "cell_type": "code",
   "execution_count": 93,
   "metadata": {},
   "outputs": [],
   "source": [
    "vectorizer_title = TfidfVectorizer(max_df = 0.7, min_df = 5)\n",
    "title_transformed = vectorizer_title.fit_transform(song_ranks_3['title'])\n"
   ]
  },
  {
   "cell_type": "code",
   "execution_count": 94,
   "metadata": {},
   "outputs": [
    {
     "data": {
      "text/plain": [
       "0.14625332532514956"
      ]
     },
     "execution_count": 94,
     "metadata": {},
     "output_type": "execute_result"
    }
   ],
   "source": [
    "reg_title = LinearRegression()\n",
    "reg_title.fit(title_transformed, Y)\n",
    "reg_title.score(title_transformed,Y)"
   ]
  },
  {
   "cell_type": "code",
   "execution_count": 95,
   "metadata": {},
   "outputs": [
    {
     "data": {
      "text/plain": [
       "array([ -3.9327587 ,   4.12619295,  -5.29013052,  -4.12234637,\n",
       "       -10.67441598,   1.98070714,   4.84125443,   4.25079146,\n",
       "        15.3487952 ,  -1.06041618,   2.88071738,  -3.4777213 ,\n",
       "         2.64902655,  -3.23020893, -10.30876146,  -7.00830727,\n",
       "        -0.32744066,  -4.39836506,   0.40891434,  10.77788837,\n",
       "        -8.60727371,  -0.8664681 ,  -0.61020209,   8.68711585,\n",
       "        -1.00464539,  -4.59939398,  16.0896622 ,   4.84125443,\n",
       "         7.73909046,   1.40261249,   9.1223258 ,   4.935421  ,\n",
       "         3.56934392, -15.20628832,  -1.71677653,   7.9165769 ,\n",
       "       -11.22192058,   4.7117084 ,   5.71873476,   1.0863694 ,\n",
       "         2.77038881,  15.93493242,   7.27687607, -15.20628832,\n",
       "        -2.43382157,  -4.98277629,   3.46004162, -14.35118499,\n",
       "        -2.09989175,   3.83444784,   2.19349673,  -2.59833711,\n",
       "         5.99256643,   5.70147717, -20.8968657 ,   8.68764242,\n",
       "        -2.79046892,   5.32057894,   9.61507757,   3.86032266,\n",
       "         1.19356729,   6.02447015, -18.52089912,   5.80121454])"
      ]
     },
     "execution_count": 95,
     "metadata": {},
     "output_type": "execute_result"
    }
   ],
   "source": [
    "reg_title.coef_"
   ]
  },
  {
   "cell_type": "code",
   "execution_count": 96,
   "metadata": {},
   "outputs": [
    {
     "data": {
      "text/plain": [
       "ID\n",
       "1                 train\n",
       "2                eminem\n",
       "3                 kesha\n",
       "4             lady gaga\n",
       "5            bruno mars\n",
       "             ...       \n",
       "599         mark ronson\n",
       "600          ed sheeran\n",
       "601           dj khaled\n",
       "602         mark ronson\n",
       "603    the chainsmokers\n",
       "Name: artist, Length: 596, dtype: object"
      ]
     },
     "execution_count": 96,
     "metadata": {},
     "output_type": "execute_result"
    }
   ],
   "source": [
    "song_ranks_3['artist'].str.lower()"
   ]
  },
  {
   "cell_type": "code",
   "execution_count": 97,
   "metadata": {},
   "outputs": [],
   "source": [
    "vectorizer_artist = TfidfVectorizer(min_df = 3)\n",
    "artist_transformed = vectorizer_artist.fit_transform(song_ranks_3['artist'])"
   ]
  },
  {
   "cell_type": "code",
   "execution_count": 98,
   "metadata": {},
   "outputs": [
    {
     "data": {
      "text/plain": [
       "0.304567910073578"
      ]
     },
     "execution_count": 98,
     "metadata": {},
     "output_type": "execute_result"
    }
   ],
   "source": [
    "reg_artist = LinearRegression()\n",
    "reg_artist.fit(artist_transformed, Y)\n",
    "reg_artist.score(artist_transformed,Y)"
   ]
  },
  {
   "cell_type": "code",
   "execution_count": 99,
   "metadata": {},
   "outputs": [],
   "source": [
    "song_ranks_vectorized = song_ranks_3.copy()"
   ]
  },
  {
   "cell_type": "code",
   "execution_count": 100,
   "metadata": {},
   "outputs": [],
   "source": [
    "song_ranks_vectorized['title'] = title_transformed\n",
    "song_ranks_vectorized['artist'] = artist_transformed\n",
    "X_vectorized = song_ranks_vectorized.drop(['popularity', 'genre', 'year'], axis = 1)\n",
    "Y_vectorized = song_ranks_vectorized.popularity"
   ]
  },
  {
   "cell_type": "code",
   "execution_count": 101,
   "metadata": {},
   "outputs": [
    {
     "ename": "ValueError",
     "evalue": "setting an array element with a sequence.",
     "output_type": "error",
     "traceback": [
      "\u001b[1;31m---------------------------------------------------------------------------\u001b[0m",
      "\u001b[1;31mValueError\u001b[0m                                Traceback (most recent call last)",
      "\u001b[1;32m<ipython-input-101-8ece5eea6da1>\u001b[0m in \u001b[0;36m<module>\u001b[1;34m\u001b[0m\n\u001b[0;32m      1\u001b[0m \u001b[0mreg_vectorized\u001b[0m \u001b[1;33m=\u001b[0m \u001b[0mLinearRegression\u001b[0m\u001b[1;33m(\u001b[0m\u001b[1;33m)\u001b[0m\u001b[1;33m\u001b[0m\u001b[1;33m\u001b[0m\u001b[0m\n\u001b[1;32m----> 2\u001b[1;33m \u001b[0mreg_vectorized\u001b[0m\u001b[1;33m.\u001b[0m\u001b[0mfit\u001b[0m\u001b[1;33m(\u001b[0m\u001b[0mX_vectorized\u001b[0m\u001b[1;33m,\u001b[0m \u001b[0mY_vectorized\u001b[0m\u001b[1;33m)\u001b[0m\u001b[1;33m\u001b[0m\u001b[1;33m\u001b[0m\u001b[0m\n\u001b[0m\u001b[0;32m      3\u001b[0m \u001b[0mreg_vectorized\u001b[0m\u001b[1;33m.\u001b[0m\u001b[0mscore\u001b[0m\u001b[1;33m(\u001b[0m\u001b[0mX_vectorized\u001b[0m\u001b[1;33m,\u001b[0m \u001b[0mY_vectorized\u001b[0m\u001b[1;33m)\u001b[0m\u001b[1;33m\u001b[0m\u001b[1;33m\u001b[0m\u001b[0m\n",
      "\u001b[1;32m~\\Anaconda3\\lib\\site-packages\\sklearn\\linear_model\\base.py\u001b[0m in \u001b[0;36mfit\u001b[1;34m(self, X, y, sample_weight)\u001b[0m\n\u001b[0;32m    461\u001b[0m         \u001b[0mn_jobs_\u001b[0m \u001b[1;33m=\u001b[0m \u001b[0mself\u001b[0m\u001b[1;33m.\u001b[0m\u001b[0mn_jobs\u001b[0m\u001b[1;33m\u001b[0m\u001b[1;33m\u001b[0m\u001b[0m\n\u001b[0;32m    462\u001b[0m         X, y = check_X_y(X, y, accept_sparse=['csr', 'csc', 'coo'],\n\u001b[1;32m--> 463\u001b[1;33m                          y_numeric=True, multi_output=True)\n\u001b[0m\u001b[0;32m    464\u001b[0m \u001b[1;33m\u001b[0m\u001b[0m\n\u001b[0;32m    465\u001b[0m         \u001b[1;32mif\u001b[0m \u001b[0msample_weight\u001b[0m \u001b[1;32mis\u001b[0m \u001b[1;32mnot\u001b[0m \u001b[1;32mNone\u001b[0m \u001b[1;32mand\u001b[0m \u001b[0mnp\u001b[0m\u001b[1;33m.\u001b[0m\u001b[0matleast_1d\u001b[0m\u001b[1;33m(\u001b[0m\u001b[0msample_weight\u001b[0m\u001b[1;33m)\u001b[0m\u001b[1;33m.\u001b[0m\u001b[0mndim\u001b[0m \u001b[1;33m>\u001b[0m \u001b[1;36m1\u001b[0m\u001b[1;33m:\u001b[0m\u001b[1;33m\u001b[0m\u001b[1;33m\u001b[0m\u001b[0m\n",
      "\u001b[1;32m~\\Anaconda3\\lib\\site-packages\\sklearn\\utils\\validation.py\u001b[0m in \u001b[0;36mcheck_X_y\u001b[1;34m(X, y, accept_sparse, accept_large_sparse, dtype, order, copy, force_all_finite, ensure_2d, allow_nd, multi_output, ensure_min_samples, ensure_min_features, y_numeric, warn_on_dtype, estimator)\u001b[0m\n\u001b[0;32m    717\u001b[0m                     \u001b[0mensure_min_features\u001b[0m\u001b[1;33m=\u001b[0m\u001b[0mensure_min_features\u001b[0m\u001b[1;33m,\u001b[0m\u001b[1;33m\u001b[0m\u001b[1;33m\u001b[0m\u001b[0m\n\u001b[0;32m    718\u001b[0m                     \u001b[0mwarn_on_dtype\u001b[0m\u001b[1;33m=\u001b[0m\u001b[0mwarn_on_dtype\u001b[0m\u001b[1;33m,\u001b[0m\u001b[1;33m\u001b[0m\u001b[1;33m\u001b[0m\u001b[0m\n\u001b[1;32m--> 719\u001b[1;33m                     estimator=estimator)\n\u001b[0m\u001b[0;32m    720\u001b[0m     \u001b[1;32mif\u001b[0m \u001b[0mmulti_output\u001b[0m\u001b[1;33m:\u001b[0m\u001b[1;33m\u001b[0m\u001b[1;33m\u001b[0m\u001b[0m\n\u001b[0;32m    721\u001b[0m         y = check_array(y, 'csr', force_all_finite=True, ensure_2d=False,\n",
      "\u001b[1;32m~\\Anaconda3\\lib\\site-packages\\sklearn\\utils\\validation.py\u001b[0m in \u001b[0;36mcheck_array\u001b[1;34m(array, accept_sparse, accept_large_sparse, dtype, order, copy, force_all_finite, ensure_2d, allow_nd, ensure_min_samples, ensure_min_features, warn_on_dtype, estimator)\u001b[0m\n\u001b[0;32m    534\u001b[0m         \u001b[1;31m# make sure we actually converted to numeric:\u001b[0m\u001b[1;33m\u001b[0m\u001b[1;33m\u001b[0m\u001b[1;33m\u001b[0m\u001b[0m\n\u001b[0;32m    535\u001b[0m         \u001b[1;32mif\u001b[0m \u001b[0mdtype_numeric\u001b[0m \u001b[1;32mand\u001b[0m \u001b[0marray\u001b[0m\u001b[1;33m.\u001b[0m\u001b[0mdtype\u001b[0m\u001b[1;33m.\u001b[0m\u001b[0mkind\u001b[0m \u001b[1;33m==\u001b[0m \u001b[1;34m\"O\"\u001b[0m\u001b[1;33m:\u001b[0m\u001b[1;33m\u001b[0m\u001b[1;33m\u001b[0m\u001b[0m\n\u001b[1;32m--> 536\u001b[1;33m             \u001b[0marray\u001b[0m \u001b[1;33m=\u001b[0m \u001b[0marray\u001b[0m\u001b[1;33m.\u001b[0m\u001b[0mastype\u001b[0m\u001b[1;33m(\u001b[0m\u001b[0mnp\u001b[0m\u001b[1;33m.\u001b[0m\u001b[0mfloat64\u001b[0m\u001b[1;33m)\u001b[0m\u001b[1;33m\u001b[0m\u001b[1;33m\u001b[0m\u001b[0m\n\u001b[0m\u001b[0;32m    537\u001b[0m         \u001b[1;32mif\u001b[0m \u001b[1;32mnot\u001b[0m \u001b[0mallow_nd\u001b[0m \u001b[1;32mand\u001b[0m \u001b[0marray\u001b[0m\u001b[1;33m.\u001b[0m\u001b[0mndim\u001b[0m \u001b[1;33m>=\u001b[0m \u001b[1;36m3\u001b[0m\u001b[1;33m:\u001b[0m\u001b[1;33m\u001b[0m\u001b[1;33m\u001b[0m\u001b[0m\n\u001b[0;32m    538\u001b[0m             raise ValueError(\"Found array with dim %d. %s expected <= 2.\"\n",
      "\u001b[1;31mValueError\u001b[0m: setting an array element with a sequence."
     ]
    }
   ],
   "source": [
    "reg_vectorized = LinearRegression()\n",
    "reg_vectorized.fit(X_vectorized, Y_vectorized)\n",
    "reg_vectorized.score(X_vectorized, Y_vectorized)"
   ]
  },
  {
   "cell_type": "code",
   "execution_count": null,
   "metadata": {},
   "outputs": [],
   "source": []
  },
  {
   "cell_type": "code",
   "execution_count": null,
   "metadata": {},
   "outputs": [],
   "source": []
  }
 ],
 "metadata": {
  "kernelspec": {
   "display_name": "Python 3",
   "language": "python",
   "name": "python3"
  },
  "language_info": {
   "codemirror_mode": {
    "name": "ipython",
    "version": 3
   },
   "file_extension": ".py",
   "mimetype": "text/x-python",
   "name": "python",
   "nbconvert_exporter": "python",
   "pygments_lexer": "ipython3",
   "version": "3.7.4"
  }
 },
 "nbformat": 4,
 "nbformat_minor": 2
}
