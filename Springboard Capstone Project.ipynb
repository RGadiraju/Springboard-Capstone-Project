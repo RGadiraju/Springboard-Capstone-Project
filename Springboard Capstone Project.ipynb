{
 "cells": [
  {
   "cell_type": "code",
   "execution_count": 1,
   "metadata": {},
   "outputs": [],
   "source": [
    "# Import Packages \n",
    "\n",
    "import numpy as np\n",
    "import pandas as pd\n",
    "import matplotlib.pyplot as plt\n",
    "import seaborn as sns"
   ]
  },
  {
   "cell_type": "code",
   "execution_count": 2,
   "metadata": {},
   "outputs": [],
   "source": [
    "# Dataset used can be found at following kaggle link: https://www.kaggle.com/leonardopena/top-spotify-songs-from-20102019-by-year"
   ]
  },
  {
   "cell_type": "code",
   "execution_count": 3,
   "metadata": {},
   "outputs": [],
   "source": [
    "# Import excel file into pandas DataFrame \n",
    "\n",
    "song_ranks = pd.read_excel('top10s.xlsx', names = ['ID', 'title', 'artist', 'genre', 'year', 'beats_per_minute', 'energy', 'danceability', 'loudness', 'liveness', 'valence', 'length', 'acousticness', 'speechiness', 'popularity'], index_col = 0)"
   ]
  },
  {
   "cell_type": "code",
   "execution_count": 4,
   "metadata": {},
   "outputs": [
    {
     "data": {
      "text/html": [
       "<div>\n",
       "<style scoped>\n",
       "    .dataframe tbody tr th:only-of-type {\n",
       "        vertical-align: middle;\n",
       "    }\n",
       "\n",
       "    .dataframe tbody tr th {\n",
       "        vertical-align: top;\n",
       "    }\n",
       "\n",
       "    .dataframe thead th {\n",
       "        text-align: right;\n",
       "    }\n",
       "</style>\n",
       "<table border=\"1\" class=\"dataframe\">\n",
       "  <thead>\n",
       "    <tr style=\"text-align: right;\">\n",
       "      <th></th>\n",
       "      <th>title</th>\n",
       "      <th>artist</th>\n",
       "      <th>genre</th>\n",
       "      <th>year</th>\n",
       "      <th>beats_per_minute</th>\n",
       "      <th>energy</th>\n",
       "      <th>danceability</th>\n",
       "      <th>loudness</th>\n",
       "      <th>liveness</th>\n",
       "      <th>valence</th>\n",
       "      <th>length</th>\n",
       "      <th>acousticness</th>\n",
       "      <th>speechiness</th>\n",
       "      <th>popularity</th>\n",
       "    </tr>\n",
       "    <tr>\n",
       "      <th>ID</th>\n",
       "      <th></th>\n",
       "      <th></th>\n",
       "      <th></th>\n",
       "      <th></th>\n",
       "      <th></th>\n",
       "      <th></th>\n",
       "      <th></th>\n",
       "      <th></th>\n",
       "      <th></th>\n",
       "      <th></th>\n",
       "      <th></th>\n",
       "      <th></th>\n",
       "      <th></th>\n",
       "      <th></th>\n",
       "    </tr>\n",
       "  </thead>\n",
       "  <tbody>\n",
       "    <tr>\n",
       "      <td>1</td>\n",
       "      <td>Hey, Soul Sister</td>\n",
       "      <td>Train</td>\n",
       "      <td>neo mellow</td>\n",
       "      <td>2010</td>\n",
       "      <td>97</td>\n",
       "      <td>89</td>\n",
       "      <td>67</td>\n",
       "      <td>-4</td>\n",
       "      <td>8</td>\n",
       "      <td>80</td>\n",
       "      <td>217</td>\n",
       "      <td>19</td>\n",
       "      <td>4</td>\n",
       "      <td>83</td>\n",
       "    </tr>\n",
       "    <tr>\n",
       "      <td>2</td>\n",
       "      <td>Love The Way You Lie</td>\n",
       "      <td>Eminem</td>\n",
       "      <td>detroit hip hop</td>\n",
       "      <td>2010</td>\n",
       "      <td>87</td>\n",
       "      <td>93</td>\n",
       "      <td>75</td>\n",
       "      <td>-5</td>\n",
       "      <td>52</td>\n",
       "      <td>64</td>\n",
       "      <td>263</td>\n",
       "      <td>24</td>\n",
       "      <td>23</td>\n",
       "      <td>82</td>\n",
       "    </tr>\n",
       "    <tr>\n",
       "      <td>3</td>\n",
       "      <td>TiK ToK</td>\n",
       "      <td>Kesha</td>\n",
       "      <td>dance pop</td>\n",
       "      <td>2010</td>\n",
       "      <td>120</td>\n",
       "      <td>84</td>\n",
       "      <td>76</td>\n",
       "      <td>-3</td>\n",
       "      <td>29</td>\n",
       "      <td>71</td>\n",
       "      <td>200</td>\n",
       "      <td>10</td>\n",
       "      <td>14</td>\n",
       "      <td>80</td>\n",
       "    </tr>\n",
       "    <tr>\n",
       "      <td>4</td>\n",
       "      <td>Bad Romance</td>\n",
       "      <td>Lady Gaga</td>\n",
       "      <td>dance pop</td>\n",
       "      <td>2010</td>\n",
       "      <td>119</td>\n",
       "      <td>92</td>\n",
       "      <td>70</td>\n",
       "      <td>-4</td>\n",
       "      <td>8</td>\n",
       "      <td>71</td>\n",
       "      <td>295</td>\n",
       "      <td>0</td>\n",
       "      <td>4</td>\n",
       "      <td>79</td>\n",
       "    </tr>\n",
       "    <tr>\n",
       "      <td>5</td>\n",
       "      <td>Just the Way You Are</td>\n",
       "      <td>Bruno Mars</td>\n",
       "      <td>pop</td>\n",
       "      <td>2010</td>\n",
       "      <td>109</td>\n",
       "      <td>84</td>\n",
       "      <td>64</td>\n",
       "      <td>-5</td>\n",
       "      <td>9</td>\n",
       "      <td>43</td>\n",
       "      <td>221</td>\n",
       "      <td>2</td>\n",
       "      <td>4</td>\n",
       "      <td>78</td>\n",
       "    </tr>\n",
       "    <tr>\n",
       "      <td>...</td>\n",
       "      <td>...</td>\n",
       "      <td>...</td>\n",
       "      <td>...</td>\n",
       "      <td>...</td>\n",
       "      <td>...</td>\n",
       "      <td>...</td>\n",
       "      <td>...</td>\n",
       "      <td>...</td>\n",
       "      <td>...</td>\n",
       "      <td>...</td>\n",
       "      <td>...</td>\n",
       "      <td>...</td>\n",
       "      <td>...</td>\n",
       "      <td>...</td>\n",
       "    </tr>\n",
       "    <tr>\n",
       "      <td>599</td>\n",
       "      <td>Find U Again (feat. Camila Cabello)</td>\n",
       "      <td>Mark Ronson</td>\n",
       "      <td>dance pop</td>\n",
       "      <td>2019</td>\n",
       "      <td>104</td>\n",
       "      <td>66</td>\n",
       "      <td>61</td>\n",
       "      <td>-7</td>\n",
       "      <td>20</td>\n",
       "      <td>16</td>\n",
       "      <td>176</td>\n",
       "      <td>1</td>\n",
       "      <td>3</td>\n",
       "      <td>75</td>\n",
       "    </tr>\n",
       "    <tr>\n",
       "      <td>600</td>\n",
       "      <td>Cross Me (feat. Chance the Rapper &amp; PnB Rock)</td>\n",
       "      <td>Ed Sheeran</td>\n",
       "      <td>pop</td>\n",
       "      <td>2019</td>\n",
       "      <td>95</td>\n",
       "      <td>79</td>\n",
       "      <td>75</td>\n",
       "      <td>-6</td>\n",
       "      <td>7</td>\n",
       "      <td>61</td>\n",
       "      <td>206</td>\n",
       "      <td>21</td>\n",
       "      <td>12</td>\n",
       "      <td>75</td>\n",
       "    </tr>\n",
       "    <tr>\n",
       "      <td>601</td>\n",
       "      <td>No Brainer (feat. Justin Bieber, Chance the Ra...</td>\n",
       "      <td>DJ Khaled</td>\n",
       "      <td>dance pop</td>\n",
       "      <td>2019</td>\n",
       "      <td>136</td>\n",
       "      <td>76</td>\n",
       "      <td>53</td>\n",
       "      <td>-5</td>\n",
       "      <td>9</td>\n",
       "      <td>65</td>\n",
       "      <td>260</td>\n",
       "      <td>7</td>\n",
       "      <td>34</td>\n",
       "      <td>70</td>\n",
       "    </tr>\n",
       "    <tr>\n",
       "      <td>602</td>\n",
       "      <td>Nothing Breaks Like a Heart (feat. Miley Cyrus)</td>\n",
       "      <td>Mark Ronson</td>\n",
       "      <td>dance pop</td>\n",
       "      <td>2019</td>\n",
       "      <td>114</td>\n",
       "      <td>79</td>\n",
       "      <td>60</td>\n",
       "      <td>-6</td>\n",
       "      <td>42</td>\n",
       "      <td>24</td>\n",
       "      <td>217</td>\n",
       "      <td>1</td>\n",
       "      <td>7</td>\n",
       "      <td>69</td>\n",
       "    </tr>\n",
       "    <tr>\n",
       "      <td>603</td>\n",
       "      <td>Kills You Slowly</td>\n",
       "      <td>The Chainsmokers</td>\n",
       "      <td>electropop</td>\n",
       "      <td>2019</td>\n",
       "      <td>150</td>\n",
       "      <td>44</td>\n",
       "      <td>70</td>\n",
       "      <td>-9</td>\n",
       "      <td>13</td>\n",
       "      <td>23</td>\n",
       "      <td>213</td>\n",
       "      <td>6</td>\n",
       "      <td>6</td>\n",
       "      <td>67</td>\n",
       "    </tr>\n",
       "  </tbody>\n",
       "</table>\n",
       "<p>603 rows × 14 columns</p>\n",
       "</div>"
      ],
      "text/plain": [
       "                                                 title            artist  \\\n",
       "ID                                                                         \n",
       "1                                     Hey, Soul Sister             Train   \n",
       "2                                 Love The Way You Lie            Eminem   \n",
       "3                                              TiK ToK             Kesha   \n",
       "4                                          Bad Romance         Lady Gaga   \n",
       "5                                 Just the Way You Are        Bruno Mars   \n",
       "..                                                 ...               ...   \n",
       "599                Find U Again (feat. Camila Cabello)       Mark Ronson   \n",
       "600      Cross Me (feat. Chance the Rapper & PnB Rock)        Ed Sheeran   \n",
       "601  No Brainer (feat. Justin Bieber, Chance the Ra...         DJ Khaled   \n",
       "602    Nothing Breaks Like a Heart (feat. Miley Cyrus)       Mark Ronson   \n",
       "603                                   Kills You Slowly  The Chainsmokers   \n",
       "\n",
       "               genre  year  beats_per_minute  energy  danceability  loudness  \\\n",
       "ID                                                                             \n",
       "1         neo mellow  2010                97      89            67        -4   \n",
       "2    detroit hip hop  2010                87      93            75        -5   \n",
       "3          dance pop  2010               120      84            76        -3   \n",
       "4          dance pop  2010               119      92            70        -4   \n",
       "5                pop  2010               109      84            64        -5   \n",
       "..               ...   ...               ...     ...           ...       ...   \n",
       "599        dance pop  2019               104      66            61        -7   \n",
       "600              pop  2019                95      79            75        -6   \n",
       "601        dance pop  2019               136      76            53        -5   \n",
       "602        dance pop  2019               114      79            60        -6   \n",
       "603       electropop  2019               150      44            70        -9   \n",
       "\n",
       "     liveness  valence  length  acousticness  speechiness  popularity  \n",
       "ID                                                                     \n",
       "1           8       80     217            19            4          83  \n",
       "2          52       64     263            24           23          82  \n",
       "3          29       71     200            10           14          80  \n",
       "4           8       71     295             0            4          79  \n",
       "5           9       43     221             2            4          78  \n",
       "..        ...      ...     ...           ...          ...         ...  \n",
       "599        20       16     176             1            3          75  \n",
       "600         7       61     206            21           12          75  \n",
       "601         9       65     260             7           34          70  \n",
       "602        42       24     217             1            7          69  \n",
       "603        13       23     213             6            6          67  \n",
       "\n",
       "[603 rows x 14 columns]"
      ]
     },
     "execution_count": 4,
     "metadata": {},
     "output_type": "execute_result"
    }
   ],
   "source": [
    "song_ranks"
   ]
  },
  {
   "cell_type": "code",
   "execution_count": 5,
   "metadata": {
    "scrolled": true
   },
   "outputs": [
    {
     "name": "stdout",
     "output_type": "stream",
     "text": [
      "<class 'pandas.core.frame.DataFrame'>\n",
      "Int64Index: 603 entries, 1 to 603\n",
      "Data columns (total 14 columns):\n",
      "title               603 non-null object\n",
      "artist              603 non-null object\n",
      "genre               603 non-null object\n",
      "year                603 non-null int64\n",
      "beats_per_minute    603 non-null int64\n",
      "energy              603 non-null int64\n",
      "danceability        603 non-null int64\n",
      "loudness            603 non-null int64\n",
      "liveness            603 non-null int64\n",
      "valence             603 non-null int64\n",
      "length              603 non-null int64\n",
      "acousticness        603 non-null int64\n",
      "speechiness         603 non-null int64\n",
      "popularity          603 non-null int64\n",
      "dtypes: int64(11), object(3)\n",
      "memory usage: 70.7+ KB\n"
     ]
    }
   ],
   "source": [
    "song_ranks.info()"
   ]
  },
  {
   "cell_type": "code",
   "execution_count": 6,
   "metadata": {},
   "outputs": [
    {
     "name": "stdout",
     "output_type": "stream",
     "text": [
      "<class 'pandas.core.frame.DataFrame'>\n",
      "Int64Index: 603 entries, 1 to 603\n",
      "Data columns (total 14 columns):\n",
      "title               603 non-null object\n",
      "artist              603 non-null object\n",
      "genre               603 non-null category\n",
      "year                603 non-null object\n",
      "beats_per_minute    603 non-null int64\n",
      "energy              603 non-null int64\n",
      "danceability        603 non-null int64\n",
      "loudness            603 non-null int64\n",
      "liveness            603 non-null int64\n",
      "valence             603 non-null int64\n",
      "length              603 non-null int64\n",
      "acousticness        603 non-null int64\n",
      "speechiness         603 non-null int64\n",
      "popularity          603 non-null int64\n",
      "dtypes: category(1), int64(10), object(3)\n",
      "memory usage: 69.4+ KB\n"
     ]
    }
   ],
   "source": [
    "# Change datatype of year from int to string & datatype of genre from string to categorical \n",
    "\n",
    "song_ranks.year = song_ranks.year.astype(str)\n",
    "song_ranks.genre = song_ranks.genre.astype('category')\n",
    "song_ranks.info()"
   ]
  },
  {
   "cell_type": "code",
   "execution_count": 7,
   "metadata": {},
   "outputs": [
    {
     "data": {
      "text/html": [
       "<div>\n",
       "<style scoped>\n",
       "    .dataframe tbody tr th:only-of-type {\n",
       "        vertical-align: middle;\n",
       "    }\n",
       "\n",
       "    .dataframe tbody tr th {\n",
       "        vertical-align: top;\n",
       "    }\n",
       "\n",
       "    .dataframe thead th {\n",
       "        text-align: right;\n",
       "    }\n",
       "</style>\n",
       "<table border=\"1\" class=\"dataframe\">\n",
       "  <thead>\n",
       "    <tr style=\"text-align: right;\">\n",
       "      <th></th>\n",
       "      <th>beats_per_minute</th>\n",
       "      <th>energy</th>\n",
       "      <th>danceability</th>\n",
       "      <th>loudness</th>\n",
       "      <th>liveness</th>\n",
       "      <th>valence</th>\n",
       "      <th>length</th>\n",
       "      <th>acousticness</th>\n",
       "      <th>speechiness</th>\n",
       "      <th>popularity</th>\n",
       "    </tr>\n",
       "  </thead>\n",
       "  <tbody>\n",
       "    <tr>\n",
       "      <td>count</td>\n",
       "      <td>603.000000</td>\n",
       "      <td>603.000000</td>\n",
       "      <td>603.000000</td>\n",
       "      <td>603.000000</td>\n",
       "      <td>603.000000</td>\n",
       "      <td>603.000000</td>\n",
       "      <td>603.000000</td>\n",
       "      <td>603.000000</td>\n",
       "      <td>603.000000</td>\n",
       "      <td>603.000000</td>\n",
       "    </tr>\n",
       "    <tr>\n",
       "      <td>mean</td>\n",
       "      <td>118.545605</td>\n",
       "      <td>70.504146</td>\n",
       "      <td>64.379768</td>\n",
       "      <td>-5.578773</td>\n",
       "      <td>17.774461</td>\n",
       "      <td>52.225539</td>\n",
       "      <td>224.674959</td>\n",
       "      <td>14.326700</td>\n",
       "      <td>8.358209</td>\n",
       "      <td>66.520730</td>\n",
       "    </tr>\n",
       "    <tr>\n",
       "      <td>std</td>\n",
       "      <td>24.795358</td>\n",
       "      <td>16.310664</td>\n",
       "      <td>13.378718</td>\n",
       "      <td>2.798020</td>\n",
       "      <td>13.102543</td>\n",
       "      <td>22.513020</td>\n",
       "      <td>34.130059</td>\n",
       "      <td>20.766165</td>\n",
       "      <td>7.483162</td>\n",
       "      <td>14.517746</td>\n",
       "    </tr>\n",
       "    <tr>\n",
       "      <td>min</td>\n",
       "      <td>0.000000</td>\n",
       "      <td>0.000000</td>\n",
       "      <td>0.000000</td>\n",
       "      <td>-60.000000</td>\n",
       "      <td>0.000000</td>\n",
       "      <td>0.000000</td>\n",
       "      <td>134.000000</td>\n",
       "      <td>0.000000</td>\n",
       "      <td>0.000000</td>\n",
       "      <td>0.000000</td>\n",
       "    </tr>\n",
       "    <tr>\n",
       "      <td>25%</td>\n",
       "      <td>100.000000</td>\n",
       "      <td>61.000000</td>\n",
       "      <td>57.000000</td>\n",
       "      <td>-6.000000</td>\n",
       "      <td>9.000000</td>\n",
       "      <td>35.000000</td>\n",
       "      <td>202.000000</td>\n",
       "      <td>2.000000</td>\n",
       "      <td>4.000000</td>\n",
       "      <td>60.000000</td>\n",
       "    </tr>\n",
       "    <tr>\n",
       "      <td>50%</td>\n",
       "      <td>120.000000</td>\n",
       "      <td>74.000000</td>\n",
       "      <td>66.000000</td>\n",
       "      <td>-5.000000</td>\n",
       "      <td>12.000000</td>\n",
       "      <td>52.000000</td>\n",
       "      <td>221.000000</td>\n",
       "      <td>6.000000</td>\n",
       "      <td>5.000000</td>\n",
       "      <td>69.000000</td>\n",
       "    </tr>\n",
       "    <tr>\n",
       "      <td>75%</td>\n",
       "      <td>129.000000</td>\n",
       "      <td>82.000000</td>\n",
       "      <td>73.000000</td>\n",
       "      <td>-4.000000</td>\n",
       "      <td>24.000000</td>\n",
       "      <td>69.000000</td>\n",
       "      <td>239.500000</td>\n",
       "      <td>17.000000</td>\n",
       "      <td>9.000000</td>\n",
       "      <td>76.000000</td>\n",
       "    </tr>\n",
       "    <tr>\n",
       "      <td>max</td>\n",
       "      <td>206.000000</td>\n",
       "      <td>98.000000</td>\n",
       "      <td>97.000000</td>\n",
       "      <td>-2.000000</td>\n",
       "      <td>74.000000</td>\n",
       "      <td>98.000000</td>\n",
       "      <td>424.000000</td>\n",
       "      <td>99.000000</td>\n",
       "      <td>48.000000</td>\n",
       "      <td>99.000000</td>\n",
       "    </tr>\n",
       "  </tbody>\n",
       "</table>\n",
       "</div>"
      ],
      "text/plain": [
       "       beats_per_minute      energy  danceability    loudness    liveness  \\\n",
       "count        603.000000  603.000000    603.000000  603.000000  603.000000   \n",
       "mean         118.545605   70.504146     64.379768   -5.578773   17.774461   \n",
       "std           24.795358   16.310664     13.378718    2.798020   13.102543   \n",
       "min            0.000000    0.000000      0.000000  -60.000000    0.000000   \n",
       "25%          100.000000   61.000000     57.000000   -6.000000    9.000000   \n",
       "50%          120.000000   74.000000     66.000000   -5.000000   12.000000   \n",
       "75%          129.000000   82.000000     73.000000   -4.000000   24.000000   \n",
       "max          206.000000   98.000000     97.000000   -2.000000   74.000000   \n",
       "\n",
       "          valence      length  acousticness  speechiness  popularity  \n",
       "count  603.000000  603.000000    603.000000   603.000000  603.000000  \n",
       "mean    52.225539  224.674959     14.326700     8.358209   66.520730  \n",
       "std     22.513020   34.130059     20.766165     7.483162   14.517746  \n",
       "min      0.000000  134.000000      0.000000     0.000000    0.000000  \n",
       "25%     35.000000  202.000000      2.000000     4.000000   60.000000  \n",
       "50%     52.000000  221.000000      6.000000     5.000000   69.000000  \n",
       "75%     69.000000  239.500000     17.000000     9.000000   76.000000  \n",
       "max     98.000000  424.000000     99.000000    48.000000   99.000000  "
      ]
     },
     "execution_count": 7,
     "metadata": {},
     "output_type": "execute_result"
    }
   ],
   "source": [
    "song_ranks.describe()"
   ]
  },
  {
   "cell_type": "code",
   "execution_count": 8,
   "metadata": {},
   "outputs": [
    {
     "data": {
      "text/html": [
       "<div>\n",
       "<style scoped>\n",
       "    .dataframe tbody tr th:only-of-type {\n",
       "        vertical-align: middle;\n",
       "    }\n",
       "\n",
       "    .dataframe tbody tr th {\n",
       "        vertical-align: top;\n",
       "    }\n",
       "\n",
       "    .dataframe thead th {\n",
       "        text-align: right;\n",
       "    }\n",
       "</style>\n",
       "<table border=\"1\" class=\"dataframe\">\n",
       "  <thead>\n",
       "    <tr style=\"text-align: right;\">\n",
       "      <th></th>\n",
       "      <th>title</th>\n",
       "      <th>artist</th>\n",
       "      <th>genre</th>\n",
       "      <th>year</th>\n",
       "      <th>beats_per_minute</th>\n",
       "      <th>energy</th>\n",
       "      <th>danceability</th>\n",
       "      <th>loudness</th>\n",
       "      <th>liveness</th>\n",
       "      <th>valence</th>\n",
       "      <th>length</th>\n",
       "      <th>acousticness</th>\n",
       "      <th>speechiness</th>\n",
       "      <th>popularity</th>\n",
       "    </tr>\n",
       "    <tr>\n",
       "      <th>ID</th>\n",
       "      <th></th>\n",
       "      <th></th>\n",
       "      <th></th>\n",
       "      <th></th>\n",
       "      <th></th>\n",
       "      <th></th>\n",
       "      <th></th>\n",
       "      <th></th>\n",
       "      <th></th>\n",
       "      <th></th>\n",
       "      <th></th>\n",
       "      <th></th>\n",
       "      <th></th>\n",
       "      <th></th>\n",
       "    </tr>\n",
       "  </thead>\n",
       "  <tbody>\n",
       "    <tr>\n",
       "      <td>443</td>\n",
       "      <td>Million Years Ago</td>\n",
       "      <td>Adele</td>\n",
       "      <td>british soul</td>\n",
       "      <td>2016</td>\n",
       "      <td>0</td>\n",
       "      <td>0</td>\n",
       "      <td>0</td>\n",
       "      <td>-60</td>\n",
       "      <td>0</td>\n",
       "      <td>0</td>\n",
       "      <td>227</td>\n",
       "      <td>0</td>\n",
       "      <td>0</td>\n",
       "      <td>0</td>\n",
       "    </tr>\n",
       "  </tbody>\n",
       "</table>\n",
       "</div>"
      ],
      "text/plain": [
       "                 title artist         genre  year  beats_per_minute  energy  \\\n",
       "ID                                                                            \n",
       "443  Million Years Ago  Adele  british soul  2016                 0       0   \n",
       "\n",
       "     danceability  loudness  liveness  valence  length  acousticness  \\\n",
       "ID                                                                     \n",
       "443             0       -60         0        0     227             0   \n",
       "\n",
       "     speechiness  popularity  \n",
       "ID                            \n",
       "443            0           0  "
      ]
     },
     "execution_count": 8,
     "metadata": {},
     "output_type": "execute_result"
    }
   ],
   "source": [
    "# Check which song had beats_per_minute value of 0, song has value of 0 for almost all attributes \n",
    "\n",
    "song_ranks[song_ranks.beats_per_minute == 0]"
   ]
  },
  {
   "cell_type": "code",
   "execution_count": 9,
   "metadata": {},
   "outputs": [
    {
     "data": {
      "text/plain": [
       "title               Million Years Ago\n",
       "artist                          Adele\n",
       "genre                    british soul\n",
       "year                             2016\n",
       "beats_per_minute                    0\n",
       "energy                              0\n",
       "danceability                        0\n",
       "loudness                          -60\n",
       "liveness                            0\n",
       "valence                             0\n",
       "length                            227\n",
       "acousticness                        0\n",
       "speechiness                         0\n",
       "popularity                          0\n",
       "Name: 443, dtype: object"
      ]
     },
     "execution_count": 9,
     "metadata": {},
     "output_type": "execute_result"
    }
   ],
   "source": [
    "song_ranks.loc[443,:]"
   ]
  },
  {
   "cell_type": "code",
   "execution_count": 10,
   "metadata": {},
   "outputs": [],
   "source": [
    "# Removing above song \n",
    "\n",
    "song_ranks_1 = song_ranks.drop(443, axis=0)"
   ]
  },
  {
   "cell_type": "code",
   "execution_count": 11,
   "metadata": {},
   "outputs": [
    {
     "data": {
      "text/html": [
       "<div>\n",
       "<style scoped>\n",
       "    .dataframe tbody tr th:only-of-type {\n",
       "        vertical-align: middle;\n",
       "    }\n",
       "\n",
       "    .dataframe tbody tr th {\n",
       "        vertical-align: top;\n",
       "    }\n",
       "\n",
       "    .dataframe thead th {\n",
       "        text-align: right;\n",
       "    }\n",
       "</style>\n",
       "<table border=\"1\" class=\"dataframe\">\n",
       "  <thead>\n",
       "    <tr style=\"text-align: right;\">\n",
       "      <th></th>\n",
       "      <th>beats_per_minute</th>\n",
       "      <th>energy</th>\n",
       "      <th>danceability</th>\n",
       "      <th>loudness</th>\n",
       "      <th>liveness</th>\n",
       "      <th>valence</th>\n",
       "      <th>length</th>\n",
       "      <th>acousticness</th>\n",
       "      <th>speechiness</th>\n",
       "      <th>popularity</th>\n",
       "    </tr>\n",
       "  </thead>\n",
       "  <tbody>\n",
       "    <tr>\n",
       "      <td>count</td>\n",
       "      <td>602.000000</td>\n",
       "      <td>602.000000</td>\n",
       "      <td>602.000000</td>\n",
       "      <td>602.000000</td>\n",
       "      <td>602.000000</td>\n",
       "      <td>602.000000</td>\n",
       "      <td>602.000000</td>\n",
       "      <td>602.000000</td>\n",
       "      <td>602.000000</td>\n",
       "      <td>602.000000</td>\n",
       "    </tr>\n",
       "    <tr>\n",
       "      <td>mean</td>\n",
       "      <td>118.742525</td>\n",
       "      <td>70.621262</td>\n",
       "      <td>64.486711</td>\n",
       "      <td>-5.488372</td>\n",
       "      <td>17.803987</td>\n",
       "      <td>52.312292</td>\n",
       "      <td>224.671096</td>\n",
       "      <td>14.350498</td>\n",
       "      <td>8.372093</td>\n",
       "      <td>66.631229</td>\n",
       "    </tr>\n",
       "    <tr>\n",
       "      <td>std</td>\n",
       "      <td>24.339497</td>\n",
       "      <td>16.068471</td>\n",
       "      <td>13.129357</td>\n",
       "      <td>1.704657</td>\n",
       "      <td>13.093347</td>\n",
       "      <td>22.430640</td>\n",
       "      <td>34.158310</td>\n",
       "      <td>20.775203</td>\n",
       "      <td>7.481608</td>\n",
       "      <td>14.273775</td>\n",
       "    </tr>\n",
       "    <tr>\n",
       "      <td>min</td>\n",
       "      <td>43.000000</td>\n",
       "      <td>4.000000</td>\n",
       "      <td>23.000000</td>\n",
       "      <td>-15.000000</td>\n",
       "      <td>2.000000</td>\n",
       "      <td>4.000000</td>\n",
       "      <td>134.000000</td>\n",
       "      <td>0.000000</td>\n",
       "      <td>3.000000</td>\n",
       "      <td>0.000000</td>\n",
       "    </tr>\n",
       "    <tr>\n",
       "      <td>25%</td>\n",
       "      <td>100.000000</td>\n",
       "      <td>61.000000</td>\n",
       "      <td>57.000000</td>\n",
       "      <td>-6.000000</td>\n",
       "      <td>9.000000</td>\n",
       "      <td>35.000000</td>\n",
       "      <td>202.000000</td>\n",
       "      <td>2.000000</td>\n",
       "      <td>4.000000</td>\n",
       "      <td>60.000000</td>\n",
       "    </tr>\n",
       "    <tr>\n",
       "      <td>50%</td>\n",
       "      <td>120.000000</td>\n",
       "      <td>74.000000</td>\n",
       "      <td>66.000000</td>\n",
       "      <td>-5.000000</td>\n",
       "      <td>12.000000</td>\n",
       "      <td>52.000000</td>\n",
       "      <td>220.500000</td>\n",
       "      <td>6.000000</td>\n",
       "      <td>5.000000</td>\n",
       "      <td>69.000000</td>\n",
       "    </tr>\n",
       "    <tr>\n",
       "      <td>75%</td>\n",
       "      <td>129.000000</td>\n",
       "      <td>82.000000</td>\n",
       "      <td>73.000000</td>\n",
       "      <td>-4.000000</td>\n",
       "      <td>24.000000</td>\n",
       "      <td>69.000000</td>\n",
       "      <td>239.750000</td>\n",
       "      <td>17.000000</td>\n",
       "      <td>9.000000</td>\n",
       "      <td>76.000000</td>\n",
       "    </tr>\n",
       "    <tr>\n",
       "      <td>max</td>\n",
       "      <td>206.000000</td>\n",
       "      <td>98.000000</td>\n",
       "      <td>97.000000</td>\n",
       "      <td>-2.000000</td>\n",
       "      <td>74.000000</td>\n",
       "      <td>98.000000</td>\n",
       "      <td>424.000000</td>\n",
       "      <td>99.000000</td>\n",
       "      <td>48.000000</td>\n",
       "      <td>99.000000</td>\n",
       "    </tr>\n",
       "  </tbody>\n",
       "</table>\n",
       "</div>"
      ],
      "text/plain": [
       "       beats_per_minute      energy  danceability    loudness    liveness  \\\n",
       "count        602.000000  602.000000    602.000000  602.000000  602.000000   \n",
       "mean         118.742525   70.621262     64.486711   -5.488372   17.803987   \n",
       "std           24.339497   16.068471     13.129357    1.704657   13.093347   \n",
       "min           43.000000    4.000000     23.000000  -15.000000    2.000000   \n",
       "25%          100.000000   61.000000     57.000000   -6.000000    9.000000   \n",
       "50%          120.000000   74.000000     66.000000   -5.000000   12.000000   \n",
       "75%          129.000000   82.000000     73.000000   -4.000000   24.000000   \n",
       "max          206.000000   98.000000     97.000000   -2.000000   74.000000   \n",
       "\n",
       "          valence      length  acousticness  speechiness  popularity  \n",
       "count  602.000000  602.000000    602.000000   602.000000  602.000000  \n",
       "mean    52.312292  224.671096     14.350498     8.372093   66.631229  \n",
       "std     22.430640   34.158310     20.775203     7.481608   14.273775  \n",
       "min      4.000000  134.000000      0.000000     3.000000    0.000000  \n",
       "25%     35.000000  202.000000      2.000000     4.000000   60.000000  \n",
       "50%     52.000000  220.500000      6.000000     5.000000   69.000000  \n",
       "75%     69.000000  239.750000     17.000000     9.000000   76.000000  \n",
       "max     98.000000  424.000000     99.000000    48.000000   99.000000  "
      ]
     },
     "execution_count": 11,
     "metadata": {},
     "output_type": "execute_result"
    }
   ],
   "source": [
    "song_ranks_1.describe()"
   ]
  },
  {
   "cell_type": "code",
   "execution_count": 12,
   "metadata": {},
   "outputs": [
    {
     "data": {
      "text/html": [
       "<div>\n",
       "<style scoped>\n",
       "    .dataframe tbody tr th:only-of-type {\n",
       "        vertical-align: middle;\n",
       "    }\n",
       "\n",
       "    .dataframe tbody tr th {\n",
       "        vertical-align: top;\n",
       "    }\n",
       "\n",
       "    .dataframe thead th {\n",
       "        text-align: right;\n",
       "    }\n",
       "</style>\n",
       "<table border=\"1\" class=\"dataframe\">\n",
       "  <thead>\n",
       "    <tr style=\"text-align: right;\">\n",
       "      <th></th>\n",
       "      <th>title</th>\n",
       "      <th>artist</th>\n",
       "      <th>genre</th>\n",
       "      <th>year</th>\n",
       "      <th>beats_per_minute</th>\n",
       "      <th>energy</th>\n",
       "      <th>danceability</th>\n",
       "      <th>loudness</th>\n",
       "      <th>liveness</th>\n",
       "      <th>valence</th>\n",
       "      <th>length</th>\n",
       "      <th>acousticness</th>\n",
       "      <th>speechiness</th>\n",
       "      <th>popularity</th>\n",
       "    </tr>\n",
       "    <tr>\n",
       "      <th>ID</th>\n",
       "      <th></th>\n",
       "      <th></th>\n",
       "      <th></th>\n",
       "      <th></th>\n",
       "      <th></th>\n",
       "      <th></th>\n",
       "      <th></th>\n",
       "      <th></th>\n",
       "      <th></th>\n",
       "      <th></th>\n",
       "      <th></th>\n",
       "      <th></th>\n",
       "      <th></th>\n",
       "      <th></th>\n",
       "    </tr>\n",
       "  </thead>\n",
       "  <tbody>\n",
       "    <tr>\n",
       "      <td>4</td>\n",
       "      <td>Bad Romance</td>\n",
       "      <td>Lady Gaga</td>\n",
       "      <td>dance pop</td>\n",
       "      <td>2010</td>\n",
       "      <td>119</td>\n",
       "      <td>92</td>\n",
       "      <td>70</td>\n",
       "      <td>-4</td>\n",
       "      <td>8</td>\n",
       "      <td>71</td>\n",
       "      <td>295</td>\n",
       "      <td>0</td>\n",
       "      <td>4</td>\n",
       "      <td>79</td>\n",
       "    </tr>\n",
       "    <tr>\n",
       "      <td>7</td>\n",
       "      <td>Dynamite</td>\n",
       "      <td>Taio Cruz</td>\n",
       "      <td>dance pop</td>\n",
       "      <td>2010</td>\n",
       "      <td>120</td>\n",
       "      <td>78</td>\n",
       "      <td>75</td>\n",
       "      <td>-4</td>\n",
       "      <td>4</td>\n",
       "      <td>82</td>\n",
       "      <td>203</td>\n",
       "      <td>0</td>\n",
       "      <td>9</td>\n",
       "      <td>77</td>\n",
       "    </tr>\n",
       "    <tr>\n",
       "      <td>19</td>\n",
       "      <td>Alejandro</td>\n",
       "      <td>Lady Gaga</td>\n",
       "      <td>dance pop</td>\n",
       "      <td>2010</td>\n",
       "      <td>99</td>\n",
       "      <td>80</td>\n",
       "      <td>63</td>\n",
       "      <td>-7</td>\n",
       "      <td>36</td>\n",
       "      <td>37</td>\n",
       "      <td>274</td>\n",
       "      <td>0</td>\n",
       "      <td>5</td>\n",
       "      <td>69</td>\n",
       "    </tr>\n",
       "    <tr>\n",
       "      <td>21</td>\n",
       "      <td>Meet Me Halfway</td>\n",
       "      <td>The Black Eyed Peas</td>\n",
       "      <td>dance pop</td>\n",
       "      <td>2010</td>\n",
       "      <td>130</td>\n",
       "      <td>63</td>\n",
       "      <td>80</td>\n",
       "      <td>-7</td>\n",
       "      <td>32</td>\n",
       "      <td>40</td>\n",
       "      <td>284</td>\n",
       "      <td>0</td>\n",
       "      <td>7</td>\n",
       "      <td>68</td>\n",
       "    </tr>\n",
       "    <tr>\n",
       "      <td>23</td>\n",
       "      <td>Take It Off</td>\n",
       "      <td>Kesha</td>\n",
       "      <td>dance pop</td>\n",
       "      <td>2010</td>\n",
       "      <td>125</td>\n",
       "      <td>68</td>\n",
       "      <td>73</td>\n",
       "      <td>-5</td>\n",
       "      <td>9</td>\n",
       "      <td>74</td>\n",
       "      <td>215</td>\n",
       "      <td>0</td>\n",
       "      <td>3</td>\n",
       "      <td>66</td>\n",
       "    </tr>\n",
       "    <tr>\n",
       "      <td>...</td>\n",
       "      <td>...</td>\n",
       "      <td>...</td>\n",
       "      <td>...</td>\n",
       "      <td>...</td>\n",
       "      <td>...</td>\n",
       "      <td>...</td>\n",
       "      <td>...</td>\n",
       "      <td>...</td>\n",
       "      <td>...</td>\n",
       "      <td>...</td>\n",
       "      <td>...</td>\n",
       "      <td>...</td>\n",
       "      <td>...</td>\n",
       "      <td>...</td>\n",
       "    </tr>\n",
       "    <tr>\n",
       "      <td>512</td>\n",
       "      <td>New Rules</td>\n",
       "      <td>Dua Lipa</td>\n",
       "      <td>dance pop</td>\n",
       "      <td>2018</td>\n",
       "      <td>116</td>\n",
       "      <td>70</td>\n",
       "      <td>76</td>\n",
       "      <td>-6</td>\n",
       "      <td>15</td>\n",
       "      <td>61</td>\n",
       "      <td>209</td>\n",
       "      <td>0</td>\n",
       "      <td>7</td>\n",
       "      <td>84</td>\n",
       "    </tr>\n",
       "    <tr>\n",
       "      <td>532</td>\n",
       "      <td>Friends (with BloodPop®)</td>\n",
       "      <td>Justin Bieber</td>\n",
       "      <td>canadian pop</td>\n",
       "      <td>2018</td>\n",
       "      <td>105</td>\n",
       "      <td>73</td>\n",
       "      <td>74</td>\n",
       "      <td>-5</td>\n",
       "      <td>30</td>\n",
       "      <td>62</td>\n",
       "      <td>189</td>\n",
       "      <td>0</td>\n",
       "      <td>4</td>\n",
       "      <td>77</td>\n",
       "    </tr>\n",
       "    <tr>\n",
       "      <td>534</td>\n",
       "      <td>My My My!</td>\n",
       "      <td>Troye Sivan</td>\n",
       "      <td>dance pop</td>\n",
       "      <td>2018</td>\n",
       "      <td>103</td>\n",
       "      <td>46</td>\n",
       "      <td>70</td>\n",
       "      <td>-8</td>\n",
       "      <td>5</td>\n",
       "      <td>48</td>\n",
       "      <td>205</td>\n",
       "      <td>0</td>\n",
       "      <td>8</td>\n",
       "      <td>76</td>\n",
       "    </tr>\n",
       "    <tr>\n",
       "      <td>552</td>\n",
       "      <td>Lemon</td>\n",
       "      <td>N.E.R.D</td>\n",
       "      <td>hip hop</td>\n",
       "      <td>2018</td>\n",
       "      <td>95</td>\n",
       "      <td>73</td>\n",
       "      <td>92</td>\n",
       "      <td>-7</td>\n",
       "      <td>12</td>\n",
       "      <td>20</td>\n",
       "      <td>220</td>\n",
       "      <td>0</td>\n",
       "      <td>9</td>\n",
       "      <td>68</td>\n",
       "    </tr>\n",
       "    <tr>\n",
       "      <td>569</td>\n",
       "      <td>Boom Boom</td>\n",
       "      <td>RedOne</td>\n",
       "      <td>moroccan pop</td>\n",
       "      <td>2018</td>\n",
       "      <td>110</td>\n",
       "      <td>76</td>\n",
       "      <td>75</td>\n",
       "      <td>-8</td>\n",
       "      <td>20</td>\n",
       "      <td>58</td>\n",
       "      <td>248</td>\n",
       "      <td>0</td>\n",
       "      <td>5</td>\n",
       "      <td>53</td>\n",
       "    </tr>\n",
       "  </tbody>\n",
       "</table>\n",
       "<p>72 rows × 14 columns</p>\n",
       "</div>"
      ],
      "text/plain": [
       "                        title               artist         genre  year  \\\n",
       "ID                                                                       \n",
       "4                 Bad Romance            Lady Gaga     dance pop  2010   \n",
       "7                    Dynamite            Taio Cruz     dance pop  2010   \n",
       "19                  Alejandro            Lady Gaga     dance pop  2010   \n",
       "21            Meet Me Halfway  The Black Eyed Peas     dance pop  2010   \n",
       "23                Take It Off                Kesha     dance pop  2010   \n",
       "..                        ...                  ...           ...   ...   \n",
       "512                 New Rules             Dua Lipa     dance pop  2018   \n",
       "532  Friends (with BloodPop®)        Justin Bieber  canadian pop  2018   \n",
       "534                 My My My!          Troye Sivan     dance pop  2018   \n",
       "552                     Lemon              N.E.R.D       hip hop  2018   \n",
       "569                 Boom Boom               RedOne  moroccan pop  2018   \n",
       "\n",
       "     beats_per_minute  energy  danceability  loudness  liveness  valence  \\\n",
       "ID                                                                         \n",
       "4                 119      92            70        -4         8       71   \n",
       "7                 120      78            75        -4         4       82   \n",
       "19                 99      80            63        -7        36       37   \n",
       "21                130      63            80        -7        32       40   \n",
       "23                125      68            73        -5         9       74   \n",
       "..                ...     ...           ...       ...       ...      ...   \n",
       "512               116      70            76        -6        15       61   \n",
       "532               105      73            74        -5        30       62   \n",
       "534               103      46            70        -8         5       48   \n",
       "552                95      73            92        -7        12       20   \n",
       "569               110      76            75        -8        20       58   \n",
       "\n",
       "     length  acousticness  speechiness  popularity  \n",
       "ID                                                  \n",
       "4       295             0            4          79  \n",
       "7       203             0            9          77  \n",
       "19      274             0            5          69  \n",
       "21      284             0            7          68  \n",
       "23      215             0            3          66  \n",
       "..      ...           ...          ...         ...  \n",
       "512     209             0            7          84  \n",
       "532     189             0            4          77  \n",
       "534     205             0            8          76  \n",
       "552     220             0            9          68  \n",
       "569     248             0            5          53  \n",
       "\n",
       "[72 rows x 14 columns]"
      ]
     },
     "execution_count": 12,
     "metadata": {},
     "output_type": "execute_result"
    }
   ],
   "source": [
    "# Checking which songs have a acousticness value of 0, value is acceptable \n",
    "\n",
    "song_ranks_1[song_ranks_1.acousticness == 0]"
   ]
  },
  {
   "cell_type": "code",
   "execution_count": 13,
   "metadata": {},
   "outputs": [
    {
     "data": {
      "text/html": [
       "<div>\n",
       "<style scoped>\n",
       "    .dataframe tbody tr th:only-of-type {\n",
       "        vertical-align: middle;\n",
       "    }\n",
       "\n",
       "    .dataframe tbody tr th {\n",
       "        vertical-align: top;\n",
       "    }\n",
       "\n",
       "    .dataframe thead th {\n",
       "        text-align: right;\n",
       "    }\n",
       "</style>\n",
       "<table border=\"1\" class=\"dataframe\">\n",
       "  <thead>\n",
       "    <tr style=\"text-align: right;\">\n",
       "      <th></th>\n",
       "      <th>title</th>\n",
       "      <th>artist</th>\n",
       "      <th>genre</th>\n",
       "      <th>year</th>\n",
       "      <th>beats_per_minute</th>\n",
       "      <th>energy</th>\n",
       "      <th>danceability</th>\n",
       "      <th>loudness</th>\n",
       "      <th>liveness</th>\n",
       "      <th>valence</th>\n",
       "      <th>length</th>\n",
       "      <th>acousticness</th>\n",
       "      <th>speechiness</th>\n",
       "      <th>popularity</th>\n",
       "    </tr>\n",
       "    <tr>\n",
       "      <th>ID</th>\n",
       "      <th></th>\n",
       "      <th></th>\n",
       "      <th></th>\n",
       "      <th></th>\n",
       "      <th></th>\n",
       "      <th></th>\n",
       "      <th></th>\n",
       "      <th></th>\n",
       "      <th></th>\n",
       "      <th></th>\n",
       "      <th></th>\n",
       "      <th></th>\n",
       "      <th></th>\n",
       "      <th></th>\n",
       "    </tr>\n",
       "  </thead>\n",
       "  <tbody>\n",
       "    <tr>\n",
       "      <td>51</td>\n",
       "      <td>Hello</td>\n",
       "      <td>Martin Solveig</td>\n",
       "      <td>big room</td>\n",
       "      <td>2010</td>\n",
       "      <td>128</td>\n",
       "      <td>98</td>\n",
       "      <td>67</td>\n",
       "      <td>-3</td>\n",
       "      <td>10</td>\n",
       "      <td>45</td>\n",
       "      <td>191</td>\n",
       "      <td>1</td>\n",
       "      <td>3</td>\n",
       "      <td>0</td>\n",
       "    </tr>\n",
       "    <tr>\n",
       "      <td>139</td>\n",
       "      <td>Blow Me (One Last Kiss)</td>\n",
       "      <td>P!nk</td>\n",
       "      <td>dance pop</td>\n",
       "      <td>2012</td>\n",
       "      <td>114</td>\n",
       "      <td>92</td>\n",
       "      <td>60</td>\n",
       "      <td>-3</td>\n",
       "      <td>25</td>\n",
       "      <td>75</td>\n",
       "      <td>256</td>\n",
       "      <td>0</td>\n",
       "      <td>4</td>\n",
       "      <td>0</td>\n",
       "    </tr>\n",
       "    <tr>\n",
       "      <td>268</td>\n",
       "      <td>Not a Bad Thing</td>\n",
       "      <td>Justin Timberlake</td>\n",
       "      <td>dance pop</td>\n",
       "      <td>2014</td>\n",
       "      <td>86</td>\n",
       "      <td>73</td>\n",
       "      <td>59</td>\n",
       "      <td>-6</td>\n",
       "      <td>38</td>\n",
       "      <td>46</td>\n",
       "      <td>266</td>\n",
       "      <td>27</td>\n",
       "      <td>6</td>\n",
       "      <td>0</td>\n",
       "    </tr>\n",
       "    <tr>\n",
       "      <td>363</td>\n",
       "      <td>L.A.LOVE (la la)</td>\n",
       "      <td>Fergie</td>\n",
       "      <td>dance pop</td>\n",
       "      <td>2015</td>\n",
       "      <td>202</td>\n",
       "      <td>39</td>\n",
       "      <td>48</td>\n",
       "      <td>-8</td>\n",
       "      <td>26</td>\n",
       "      <td>27</td>\n",
       "      <td>193</td>\n",
       "      <td>2</td>\n",
       "      <td>9</td>\n",
       "      <td>0</td>\n",
       "    </tr>\n",
       "  </tbody>\n",
       "</table>\n",
       "</div>"
      ],
      "text/plain": [
       "                       title             artist      genre  year  \\\n",
       "ID                                                                 \n",
       "51                     Hello     Martin Solveig   big room  2010   \n",
       "139  Blow Me (One Last Kiss)               P!nk  dance pop  2012   \n",
       "268          Not a Bad Thing  Justin Timberlake  dance pop  2014   \n",
       "363         L.A.LOVE (la la)             Fergie  dance pop  2015   \n",
       "\n",
       "     beats_per_minute  energy  danceability  loudness  liveness  valence  \\\n",
       "ID                                                                         \n",
       "51                128      98            67        -3        10       45   \n",
       "139               114      92            60        -3        25       75   \n",
       "268                86      73            59        -6        38       46   \n",
       "363               202      39            48        -8        26       27   \n",
       "\n",
       "     length  acousticness  speechiness  popularity  \n",
       "ID                                                  \n",
       "51      191             1            3           0  \n",
       "139     256             0            4           0  \n",
       "268     266            27            6           0  \n",
       "363     193             2            9           0  "
      ]
     },
     "execution_count": 13,
     "metadata": {},
     "output_type": "execute_result"
    }
   ],
   "source": [
    "# Checking which songs have a popularity value of 0 as these songs should also be removed from the DataFrame\n",
    "\n",
    "song_ranks_1[song_ranks_1.popularity == 0]"
   ]
  },
  {
   "cell_type": "code",
   "execution_count": 14,
   "metadata": {},
   "outputs": [],
   "source": [
    "song_ranks_2 = song_ranks_1.drop([51,139,268,363], axis=0)"
   ]
  },
  {
   "cell_type": "code",
   "execution_count": 15,
   "metadata": {},
   "outputs": [
    {
     "data": {
      "text/html": [
       "<div>\n",
       "<style scoped>\n",
       "    .dataframe tbody tr th:only-of-type {\n",
       "        vertical-align: middle;\n",
       "    }\n",
       "\n",
       "    .dataframe tbody tr th {\n",
       "        vertical-align: top;\n",
       "    }\n",
       "\n",
       "    .dataframe thead th {\n",
       "        text-align: right;\n",
       "    }\n",
       "</style>\n",
       "<table border=\"1\" class=\"dataframe\">\n",
       "  <thead>\n",
       "    <tr style=\"text-align: right;\">\n",
       "      <th></th>\n",
       "      <th>beats_per_minute</th>\n",
       "      <th>energy</th>\n",
       "      <th>danceability</th>\n",
       "      <th>loudness</th>\n",
       "      <th>liveness</th>\n",
       "      <th>valence</th>\n",
       "      <th>length</th>\n",
       "      <th>acousticness</th>\n",
       "      <th>speechiness</th>\n",
       "      <th>popularity</th>\n",
       "    </tr>\n",
       "  </thead>\n",
       "  <tbody>\n",
       "    <tr>\n",
       "      <td>count</td>\n",
       "      <td>598.000000</td>\n",
       "      <td>598.000000</td>\n",
       "      <td>598.000000</td>\n",
       "      <td>598.000000</td>\n",
       "      <td>598.000000</td>\n",
       "      <td>598.000000</td>\n",
       "      <td>598.000000</td>\n",
       "      <td>598.000000</td>\n",
       "      <td>598.000000</td>\n",
       "      <td>598.000000</td>\n",
       "    </tr>\n",
       "    <tr>\n",
       "      <td>mean</td>\n",
       "      <td>118.650502</td>\n",
       "      <td>70.588629</td>\n",
       "      <td>64.526756</td>\n",
       "      <td>-5.491639</td>\n",
       "      <td>17.757525</td>\n",
       "      <td>52.339465</td>\n",
       "      <td>224.658863</td>\n",
       "      <td>14.396321</td>\n",
       "      <td>8.391304</td>\n",
       "      <td>67.076923</td>\n",
       "    </tr>\n",
       "    <tr>\n",
       "      <td>std</td>\n",
       "      <td>24.140916</td>\n",
       "      <td>16.006845</td>\n",
       "      <td>13.152314</td>\n",
       "      <td>1.701048</td>\n",
       "      <td>13.099531</td>\n",
       "      <td>22.459123</td>\n",
       "      <td>34.154404</td>\n",
       "      <td>20.816623</td>\n",
       "      <td>7.500579</td>\n",
       "      <td>13.234799</td>\n",
       "    </tr>\n",
       "    <tr>\n",
       "      <td>min</td>\n",
       "      <td>43.000000</td>\n",
       "      <td>4.000000</td>\n",
       "      <td>23.000000</td>\n",
       "      <td>-15.000000</td>\n",
       "      <td>2.000000</td>\n",
       "      <td>4.000000</td>\n",
       "      <td>134.000000</td>\n",
       "      <td>0.000000</td>\n",
       "      <td>3.000000</td>\n",
       "      <td>7.000000</td>\n",
       "    </tr>\n",
       "    <tr>\n",
       "      <td>25%</td>\n",
       "      <td>100.000000</td>\n",
       "      <td>61.000000</td>\n",
       "      <td>57.000000</td>\n",
       "      <td>-6.000000</td>\n",
       "      <td>9.000000</td>\n",
       "      <td>35.000000</td>\n",
       "      <td>202.000000</td>\n",
       "      <td>2.000000</td>\n",
       "      <td>4.000000</td>\n",
       "      <td>60.000000</td>\n",
       "    </tr>\n",
       "    <tr>\n",
       "      <td>50%</td>\n",
       "      <td>120.000000</td>\n",
       "      <td>74.000000</td>\n",
       "      <td>66.000000</td>\n",
       "      <td>-5.000000</td>\n",
       "      <td>12.000000</td>\n",
       "      <td>52.000000</td>\n",
       "      <td>220.500000</td>\n",
       "      <td>6.000000</td>\n",
       "      <td>5.000000</td>\n",
       "      <td>69.000000</td>\n",
       "    </tr>\n",
       "    <tr>\n",
       "      <td>75%</td>\n",
       "      <td>129.000000</td>\n",
       "      <td>82.000000</td>\n",
       "      <td>73.750000</td>\n",
       "      <td>-4.000000</td>\n",
       "      <td>24.000000</td>\n",
       "      <td>69.000000</td>\n",
       "      <td>239.000000</td>\n",
       "      <td>17.000000</td>\n",
       "      <td>9.000000</td>\n",
       "      <td>76.000000</td>\n",
       "    </tr>\n",
       "    <tr>\n",
       "      <td>max</td>\n",
       "      <td>206.000000</td>\n",
       "      <td>98.000000</td>\n",
       "      <td>97.000000</td>\n",
       "      <td>-2.000000</td>\n",
       "      <td>74.000000</td>\n",
       "      <td>98.000000</td>\n",
       "      <td>424.000000</td>\n",
       "      <td>99.000000</td>\n",
       "      <td>48.000000</td>\n",
       "      <td>99.000000</td>\n",
       "    </tr>\n",
       "  </tbody>\n",
       "</table>\n",
       "</div>"
      ],
      "text/plain": [
       "       beats_per_minute      energy  danceability    loudness    liveness  \\\n",
       "count        598.000000  598.000000    598.000000  598.000000  598.000000   \n",
       "mean         118.650502   70.588629     64.526756   -5.491639   17.757525   \n",
       "std           24.140916   16.006845     13.152314    1.701048   13.099531   \n",
       "min           43.000000    4.000000     23.000000  -15.000000    2.000000   \n",
       "25%          100.000000   61.000000     57.000000   -6.000000    9.000000   \n",
       "50%          120.000000   74.000000     66.000000   -5.000000   12.000000   \n",
       "75%          129.000000   82.000000     73.750000   -4.000000   24.000000   \n",
       "max          206.000000   98.000000     97.000000   -2.000000   74.000000   \n",
       "\n",
       "          valence      length  acousticness  speechiness  popularity  \n",
       "count  598.000000  598.000000    598.000000   598.000000  598.000000  \n",
       "mean    52.339465  224.658863     14.396321     8.391304   67.076923  \n",
       "std     22.459123   34.154404     20.816623     7.500579   13.234799  \n",
       "min      4.000000  134.000000      0.000000     3.000000    7.000000  \n",
       "25%     35.000000  202.000000      2.000000     4.000000   60.000000  \n",
       "50%     52.000000  220.500000      6.000000     5.000000   69.000000  \n",
       "75%     69.000000  239.000000     17.000000     9.000000   76.000000  \n",
       "max     98.000000  424.000000     99.000000    48.000000   99.000000  "
      ]
     },
     "execution_count": 15,
     "metadata": {},
     "output_type": "execute_result"
    }
   ],
   "source": [
    "song_ranks_2.describe()"
   ]
  },
  {
   "cell_type": "code",
   "execution_count": 16,
   "metadata": {
    "scrolled": true
   },
   "outputs": [
    {
     "data": {
      "text/plain": [
       "Written in the Stars (feat. Eric Turner)           2\n",
       "Castle Walls (feat. Christina Aguilera)            2\n",
       "Company                                            2\n",
       "The Hills                                          2\n",
       "Love Yourself                                      2\n",
       "I Like It                                          2\n",
       "Sugar                                              2\n",
       "Here                                               2\n",
       "Marry You                                          2\n",
       "We Are Never Ever Getting Back Together            2\n",
       "All I Ask                                          2\n",
       "First Time                                         2\n",
       "Say Something                                      2\n",
       "Stitches                                           2\n",
       "Runnin' (Lose It All)                              2\n",
       "Just the Way You Are                               2\n",
       "A Little Party Never Killed Nobody (All We Got)    2\n",
       "Kissing Strangers                                  2\n",
       "Eenie Meenie                                       1\n",
       "Too Good                                           1\n",
       "Name: title, dtype: int64"
      ]
     },
     "execution_count": 16,
     "metadata": {},
     "output_type": "execute_result"
    }
   ],
   "source": [
    "# Looking into if same songs are listed multiple times in the same year \n",
    "\n",
    "song_ranks_2.title.value_counts().head(20)"
   ]
  },
  {
   "cell_type": "code",
   "execution_count": 17,
   "metadata": {},
   "outputs": [],
   "source": [
    "repeat_titles = (\"All I Ask\", \"We Are Never Ever Getting Back Together\", \"Stitches\", \"Written in the Stars (feat. Eric Turner)\", \"First Time\", \"Castle Walls (feat. Christina Aguilera)\", \"Say Something\", \"Marry You\", \"Love Yourself\", \"I Like It\", \"Just the Way You Are\", \"The Hills\", \"Sugar\", \"Runnin' (Lost It All)\", \"Company\", \"A Little Party Never Killed Nobody (All We Got)\", \"Here\", \"Kissing Strangers\")"
   ]
  },
  {
   "cell_type": "code",
   "execution_count": 18,
   "metadata": {},
   "outputs": [
    {
     "data": {
      "text/html": [
       "<div>\n",
       "<style scoped>\n",
       "    .dataframe tbody tr th:only-of-type {\n",
       "        vertical-align: middle;\n",
       "    }\n",
       "\n",
       "    .dataframe tbody tr th {\n",
       "        vertical-align: top;\n",
       "    }\n",
       "\n",
       "    .dataframe thead th {\n",
       "        text-align: right;\n",
       "    }\n",
       "</style>\n",
       "<table border=\"1\" class=\"dataframe\">\n",
       "  <thead>\n",
       "    <tr style=\"text-align: right;\">\n",
       "      <th></th>\n",
       "      <th>title</th>\n",
       "      <th>artist</th>\n",
       "      <th>genre</th>\n",
       "      <th>year</th>\n",
       "      <th>beats_per_minute</th>\n",
       "      <th>energy</th>\n",
       "      <th>danceability</th>\n",
       "      <th>loudness</th>\n",
       "      <th>liveness</th>\n",
       "      <th>valence</th>\n",
       "      <th>length</th>\n",
       "      <th>acousticness</th>\n",
       "      <th>speechiness</th>\n",
       "      <th>popularity</th>\n",
       "    </tr>\n",
       "    <tr>\n",
       "      <th>ID</th>\n",
       "      <th></th>\n",
       "      <th></th>\n",
       "      <th></th>\n",
       "      <th></th>\n",
       "      <th></th>\n",
       "      <th></th>\n",
       "      <th></th>\n",
       "      <th></th>\n",
       "      <th></th>\n",
       "      <th></th>\n",
       "      <th></th>\n",
       "      <th></th>\n",
       "      <th></th>\n",
       "      <th></th>\n",
       "    </tr>\n",
       "  </thead>\n",
       "  <tbody>\n",
       "    <tr>\n",
       "      <td>240</td>\n",
       "      <td>A Little Party Never Killed Nobody (All We Got)</td>\n",
       "      <td>Fergie</td>\n",
       "      <td>dance pop</td>\n",
       "      <td>2014</td>\n",
       "      <td>130</td>\n",
       "      <td>62</td>\n",
       "      <td>76</td>\n",
       "      <td>-6</td>\n",
       "      <td>9</td>\n",
       "      <td>52</td>\n",
       "      <td>241</td>\n",
       "      <td>1</td>\n",
       "      <td>18</td>\n",
       "      <td>65</td>\n",
       "    </tr>\n",
       "    <tr>\n",
       "      <td>179</td>\n",
       "      <td>A Little Party Never Killed Nobody (All We Got)</td>\n",
       "      <td>Fergie</td>\n",
       "      <td>dance pop</td>\n",
       "      <td>2013</td>\n",
       "      <td>130</td>\n",
       "      <td>62</td>\n",
       "      <td>76</td>\n",
       "      <td>-6</td>\n",
       "      <td>9</td>\n",
       "      <td>52</td>\n",
       "      <td>241</td>\n",
       "      <td>1</td>\n",
       "      <td>18</td>\n",
       "      <td>65</td>\n",
       "    </tr>\n",
       "    <tr>\n",
       "      <td>399</td>\n",
       "      <td>All I Ask</td>\n",
       "      <td>Adele</td>\n",
       "      <td>british soul</td>\n",
       "      <td>2016</td>\n",
       "      <td>142</td>\n",
       "      <td>28</td>\n",
       "      <td>59</td>\n",
       "      <td>-5</td>\n",
       "      <td>15</td>\n",
       "      <td>34</td>\n",
       "      <td>272</td>\n",
       "      <td>88</td>\n",
       "      <td>3</td>\n",
       "      <td>71</td>\n",
       "    </tr>\n",
       "    <tr>\n",
       "      <td>474</td>\n",
       "      <td>All I Ask</td>\n",
       "      <td>Adele</td>\n",
       "      <td>british soul</td>\n",
       "      <td>2017</td>\n",
       "      <td>142</td>\n",
       "      <td>28</td>\n",
       "      <td>59</td>\n",
       "      <td>-5</td>\n",
       "      <td>15</td>\n",
       "      <td>34</td>\n",
       "      <td>272</td>\n",
       "      <td>88</td>\n",
       "      <td>3</td>\n",
       "      <td>71</td>\n",
       "    </tr>\n",
       "    <tr>\n",
       "      <td>96</td>\n",
       "      <td>Castle Walls (feat. Christina Aguilera)</td>\n",
       "      <td>T.I.</td>\n",
       "      <td>atl hip hop</td>\n",
       "      <td>2011</td>\n",
       "      <td>80</td>\n",
       "      <td>86</td>\n",
       "      <td>45</td>\n",
       "      <td>-5</td>\n",
       "      <td>26</td>\n",
       "      <td>58</td>\n",
       "      <td>329</td>\n",
       "      <td>7</td>\n",
       "      <td>39</td>\n",
       "      <td>49</td>\n",
       "    </tr>\n",
       "    <tr>\n",
       "      <td>49</td>\n",
       "      <td>Castle Walls (feat. Christina Aguilera)</td>\n",
       "      <td>T.I.</td>\n",
       "      <td>atl hip hop</td>\n",
       "      <td>2010</td>\n",
       "      <td>80</td>\n",
       "      <td>86</td>\n",
       "      <td>45</td>\n",
       "      <td>-5</td>\n",
       "      <td>26</td>\n",
       "      <td>58</td>\n",
       "      <td>329</td>\n",
       "      <td>7</td>\n",
       "      <td>39</td>\n",
       "      <td>49</td>\n",
       "    </tr>\n",
       "    <tr>\n",
       "      <td>397</td>\n",
       "      <td>Company</td>\n",
       "      <td>Justin Bieber</td>\n",
       "      <td>canadian pop</td>\n",
       "      <td>2016</td>\n",
       "      <td>95</td>\n",
       "      <td>80</td>\n",
       "      <td>59</td>\n",
       "      <td>-5</td>\n",
       "      <td>8</td>\n",
       "      <td>43</td>\n",
       "      <td>208</td>\n",
       "      <td>13</td>\n",
       "      <td>6</td>\n",
       "      <td>72</td>\n",
       "    </tr>\n",
       "    <tr>\n",
       "      <td>302</td>\n",
       "      <td>Company</td>\n",
       "      <td>Justin Bieber</td>\n",
       "      <td>canadian pop</td>\n",
       "      <td>2015</td>\n",
       "      <td>95</td>\n",
       "      <td>80</td>\n",
       "      <td>59</td>\n",
       "      <td>-5</td>\n",
       "      <td>8</td>\n",
       "      <td>43</td>\n",
       "      <td>208</td>\n",
       "      <td>13</td>\n",
       "      <td>6</td>\n",
       "      <td>72</td>\n",
       "    </tr>\n",
       "    <tr>\n",
       "      <td>549</td>\n",
       "      <td>First Time</td>\n",
       "      <td>Kygo</td>\n",
       "      <td>edm</td>\n",
       "      <td>2018</td>\n",
       "      <td>90</td>\n",
       "      <td>59</td>\n",
       "      <td>63</td>\n",
       "      <td>-7</td>\n",
       "      <td>10</td>\n",
       "      <td>68</td>\n",
       "      <td>194</td>\n",
       "      <td>20</td>\n",
       "      <td>11</td>\n",
       "      <td>71</td>\n",
       "    </tr>\n",
       "    <tr>\n",
       "      <td>475</td>\n",
       "      <td>First Time</td>\n",
       "      <td>Kygo</td>\n",
       "      <td>edm</td>\n",
       "      <td>2017</td>\n",
       "      <td>90</td>\n",
       "      <td>59</td>\n",
       "      <td>63</td>\n",
       "      <td>-7</td>\n",
       "      <td>10</td>\n",
       "      <td>68</td>\n",
       "      <td>194</td>\n",
       "      <td>20</td>\n",
       "      <td>11</td>\n",
       "      <td>71</td>\n",
       "    </tr>\n",
       "    <tr>\n",
       "      <td>405</td>\n",
       "      <td>Here</td>\n",
       "      <td>Alessia Cara</td>\n",
       "      <td>canadian contemporary r&amp;b</td>\n",
       "      <td>2016</td>\n",
       "      <td>120</td>\n",
       "      <td>82</td>\n",
       "      <td>38</td>\n",
       "      <td>-4</td>\n",
       "      <td>8</td>\n",
       "      <td>33</td>\n",
       "      <td>199</td>\n",
       "      <td>8</td>\n",
       "      <td>10</td>\n",
       "      <td>68</td>\n",
       "    </tr>\n",
       "    <tr>\n",
       "      <td>316</td>\n",
       "      <td>Here</td>\n",
       "      <td>Alessia Cara</td>\n",
       "      <td>canadian contemporary r&amp;b</td>\n",
       "      <td>2015</td>\n",
       "      <td>120</td>\n",
       "      <td>82</td>\n",
       "      <td>38</td>\n",
       "      <td>-4</td>\n",
       "      <td>8</td>\n",
       "      <td>33</td>\n",
       "      <td>199</td>\n",
       "      <td>8</td>\n",
       "      <td>10</td>\n",
       "      <td>68</td>\n",
       "    </tr>\n",
       "    <tr>\n",
       "      <td>28</td>\n",
       "      <td>I Like It</td>\n",
       "      <td>Enrique Iglesias</td>\n",
       "      <td>dance pop</td>\n",
       "      <td>2010</td>\n",
       "      <td>129</td>\n",
       "      <td>94</td>\n",
       "      <td>65</td>\n",
       "      <td>-3</td>\n",
       "      <td>6</td>\n",
       "      <td>73</td>\n",
       "      <td>231</td>\n",
       "      <td>2</td>\n",
       "      <td>9</td>\n",
       "      <td>63</td>\n",
       "    </tr>\n",
       "    <tr>\n",
       "      <td>511</td>\n",
       "      <td>I Like It</td>\n",
       "      <td>Cardi B</td>\n",
       "      <td>pop</td>\n",
       "      <td>2018</td>\n",
       "      <td>136</td>\n",
       "      <td>73</td>\n",
       "      <td>82</td>\n",
       "      <td>-4</td>\n",
       "      <td>37</td>\n",
       "      <td>65</td>\n",
       "      <td>253</td>\n",
       "      <td>10</td>\n",
       "      <td>13</td>\n",
       "      <td>85</td>\n",
       "    </tr>\n",
       "    <tr>\n",
       "      <td>55</td>\n",
       "      <td>Just the Way You Are</td>\n",
       "      <td>Bruno Mars</td>\n",
       "      <td>pop</td>\n",
       "      <td>2011</td>\n",
       "      <td>109</td>\n",
       "      <td>84</td>\n",
       "      <td>64</td>\n",
       "      <td>-5</td>\n",
       "      <td>9</td>\n",
       "      <td>43</td>\n",
       "      <td>221</td>\n",
       "      <td>2</td>\n",
       "      <td>4</td>\n",
       "      <td>78</td>\n",
       "    </tr>\n",
       "    <tr>\n",
       "      <td>5</td>\n",
       "      <td>Just the Way You Are</td>\n",
       "      <td>Bruno Mars</td>\n",
       "      <td>pop</td>\n",
       "      <td>2010</td>\n",
       "      <td>109</td>\n",
       "      <td>84</td>\n",
       "      <td>64</td>\n",
       "      <td>-5</td>\n",
       "      <td>9</td>\n",
       "      <td>43</td>\n",
       "      <td>221</td>\n",
       "      <td>2</td>\n",
       "      <td>4</td>\n",
       "      <td>78</td>\n",
       "    </tr>\n",
       "    <tr>\n",
       "      <td>489</td>\n",
       "      <td>Kissing Strangers</td>\n",
       "      <td>DNCE</td>\n",
       "      <td>dance pop</td>\n",
       "      <td>2017</td>\n",
       "      <td>120</td>\n",
       "      <td>74</td>\n",
       "      <td>77</td>\n",
       "      <td>-6</td>\n",
       "      <td>9</td>\n",
       "      <td>86</td>\n",
       "      <td>202</td>\n",
       "      <td>5</td>\n",
       "      <td>4</td>\n",
       "      <td>66</td>\n",
       "    </tr>\n",
       "    <tr>\n",
       "      <td>558</td>\n",
       "      <td>Kissing Strangers</td>\n",
       "      <td>DNCE</td>\n",
       "      <td>dance pop</td>\n",
       "      <td>2018</td>\n",
       "      <td>120</td>\n",
       "      <td>74</td>\n",
       "      <td>77</td>\n",
       "      <td>-6</td>\n",
       "      <td>9</td>\n",
       "      <td>86</td>\n",
       "      <td>202</td>\n",
       "      <td>5</td>\n",
       "      <td>4</td>\n",
       "      <td>66</td>\n",
       "    </tr>\n",
       "    <tr>\n",
       "      <td>272</td>\n",
       "      <td>Love Yourself</td>\n",
       "      <td>Justin Bieber</td>\n",
       "      <td>canadian pop</td>\n",
       "      <td>2015</td>\n",
       "      <td>100</td>\n",
       "      <td>38</td>\n",
       "      <td>61</td>\n",
       "      <td>-10</td>\n",
       "      <td>28</td>\n",
       "      <td>52</td>\n",
       "      <td>234</td>\n",
       "      <td>84</td>\n",
       "      <td>44</td>\n",
       "      <td>83</td>\n",
       "    </tr>\n",
       "    <tr>\n",
       "      <td>365</td>\n",
       "      <td>Love Yourself</td>\n",
       "      <td>Justin Bieber</td>\n",
       "      <td>canadian pop</td>\n",
       "      <td>2016</td>\n",
       "      <td>100</td>\n",
       "      <td>38</td>\n",
       "      <td>61</td>\n",
       "      <td>-10</td>\n",
       "      <td>28</td>\n",
       "      <td>52</td>\n",
       "      <td>234</td>\n",
       "      <td>84</td>\n",
       "      <td>44</td>\n",
       "      <td>83</td>\n",
       "    </tr>\n",
       "    <tr>\n",
       "      <td>65</td>\n",
       "      <td>Marry You</td>\n",
       "      <td>Bruno Mars</td>\n",
       "      <td>pop</td>\n",
       "      <td>2011</td>\n",
       "      <td>145</td>\n",
       "      <td>83</td>\n",
       "      <td>62</td>\n",
       "      <td>-5</td>\n",
       "      <td>10</td>\n",
       "      <td>48</td>\n",
       "      <td>230</td>\n",
       "      <td>33</td>\n",
       "      <td>4</td>\n",
       "      <td>73</td>\n",
       "    </tr>\n",
       "    <tr>\n",
       "      <td>12</td>\n",
       "      <td>Marry You</td>\n",
       "      <td>Bruno Mars</td>\n",
       "      <td>pop</td>\n",
       "      <td>2010</td>\n",
       "      <td>145</td>\n",
       "      <td>83</td>\n",
       "      <td>62</td>\n",
       "      <td>-5</td>\n",
       "      <td>10</td>\n",
       "      <td>48</td>\n",
       "      <td>230</td>\n",
       "      <td>33</td>\n",
       "      <td>4</td>\n",
       "      <td>73</td>\n",
       "    </tr>\n",
       "    <tr>\n",
       "      <td>250</td>\n",
       "      <td>Say Something</td>\n",
       "      <td>A Great Big World</td>\n",
       "      <td>neo mellow</td>\n",
       "      <td>2014</td>\n",
       "      <td>138</td>\n",
       "      <td>15</td>\n",
       "      <td>45</td>\n",
       "      <td>-9</td>\n",
       "      <td>9</td>\n",
       "      <td>9</td>\n",
       "      <td>229</td>\n",
       "      <td>87</td>\n",
       "      <td>3</td>\n",
       "      <td>61</td>\n",
       "    </tr>\n",
       "    <tr>\n",
       "      <td>542</td>\n",
       "      <td>Say Something</td>\n",
       "      <td>Justin Timberlake</td>\n",
       "      <td>dance pop</td>\n",
       "      <td>2018</td>\n",
       "      <td>97</td>\n",
       "      <td>63</td>\n",
       "      <td>71</td>\n",
       "      <td>-7</td>\n",
       "      <td>8</td>\n",
       "      <td>37</td>\n",
       "      <td>279</td>\n",
       "      <td>10</td>\n",
       "      <td>8</td>\n",
       "      <td>74</td>\n",
       "    </tr>\n",
       "    <tr>\n",
       "      <td>379</td>\n",
       "      <td>Stitches</td>\n",
       "      <td>Shawn Mendes</td>\n",
       "      <td>canadian pop</td>\n",
       "      <td>2016</td>\n",
       "      <td>150</td>\n",
       "      <td>75</td>\n",
       "      <td>75</td>\n",
       "      <td>-7</td>\n",
       "      <td>5</td>\n",
       "      <td>76</td>\n",
       "      <td>207</td>\n",
       "      <td>2</td>\n",
       "      <td>7</td>\n",
       "      <td>78</td>\n",
       "    </tr>\n",
       "    <tr>\n",
       "      <td>281</td>\n",
       "      <td>Stitches</td>\n",
       "      <td>Shawn Mendes</td>\n",
       "      <td>canadian pop</td>\n",
       "      <td>2015</td>\n",
       "      <td>150</td>\n",
       "      <td>75</td>\n",
       "      <td>75</td>\n",
       "      <td>-7</td>\n",
       "      <td>5</td>\n",
       "      <td>76</td>\n",
       "      <td>207</td>\n",
       "      <td>2</td>\n",
       "      <td>7</td>\n",
       "      <td>78</td>\n",
       "    </tr>\n",
       "    <tr>\n",
       "      <td>323</td>\n",
       "      <td>Sugar</td>\n",
       "      <td>Maroon 5</td>\n",
       "      <td>pop</td>\n",
       "      <td>2015</td>\n",
       "      <td>120</td>\n",
       "      <td>79</td>\n",
       "      <td>75</td>\n",
       "      <td>-7</td>\n",
       "      <td>9</td>\n",
       "      <td>88</td>\n",
       "      <td>235</td>\n",
       "      <td>6</td>\n",
       "      <td>3</td>\n",
       "      <td>66</td>\n",
       "    </tr>\n",
       "    <tr>\n",
       "      <td>275</td>\n",
       "      <td>Sugar</td>\n",
       "      <td>Maroon 5</td>\n",
       "      <td>pop</td>\n",
       "      <td>2015</td>\n",
       "      <td>120</td>\n",
       "      <td>79</td>\n",
       "      <td>75</td>\n",
       "      <td>-7</td>\n",
       "      <td>9</td>\n",
       "      <td>88</td>\n",
       "      <td>235</td>\n",
       "      <td>6</td>\n",
       "      <td>3</td>\n",
       "      <td>81</td>\n",
       "    </tr>\n",
       "    <tr>\n",
       "      <td>271</td>\n",
       "      <td>The Hills</td>\n",
       "      <td>The Weeknd</td>\n",
       "      <td>canadian contemporary r&amp;b</td>\n",
       "      <td>2015</td>\n",
       "      <td>113</td>\n",
       "      <td>56</td>\n",
       "      <td>58</td>\n",
       "      <td>-7</td>\n",
       "      <td>14</td>\n",
       "      <td>14</td>\n",
       "      <td>242</td>\n",
       "      <td>7</td>\n",
       "      <td>5</td>\n",
       "      <td>84</td>\n",
       "    </tr>\n",
       "    <tr>\n",
       "      <td>364</td>\n",
       "      <td>The Hills</td>\n",
       "      <td>The Weeknd</td>\n",
       "      <td>canadian contemporary r&amp;b</td>\n",
       "      <td>2016</td>\n",
       "      <td>113</td>\n",
       "      <td>56</td>\n",
       "      <td>58</td>\n",
       "      <td>-7</td>\n",
       "      <td>14</td>\n",
       "      <td>14</td>\n",
       "      <td>242</td>\n",
       "      <td>7</td>\n",
       "      <td>5</td>\n",
       "      <td>84</td>\n",
       "    </tr>\n",
       "    <tr>\n",
       "      <td>153</td>\n",
       "      <td>We Are Never Ever Getting Back Together</td>\n",
       "      <td>Taylor Swift</td>\n",
       "      <td>pop</td>\n",
       "      <td>2013</td>\n",
       "      <td>86</td>\n",
       "      <td>68</td>\n",
       "      <td>63</td>\n",
       "      <td>-6</td>\n",
       "      <td>12</td>\n",
       "      <td>75</td>\n",
       "      <td>193</td>\n",
       "      <td>1</td>\n",
       "      <td>9</td>\n",
       "      <td>75</td>\n",
       "    </tr>\n",
       "    <tr>\n",
       "      <td>114</td>\n",
       "      <td>We Are Never Ever Getting Back Together</td>\n",
       "      <td>Taylor Swift</td>\n",
       "      <td>pop</td>\n",
       "      <td>2012</td>\n",
       "      <td>86</td>\n",
       "      <td>68</td>\n",
       "      <td>63</td>\n",
       "      <td>-6</td>\n",
       "      <td>12</td>\n",
       "      <td>75</td>\n",
       "      <td>193</td>\n",
       "      <td>1</td>\n",
       "      <td>9</td>\n",
       "      <td>75</td>\n",
       "    </tr>\n",
       "    <tr>\n",
       "      <td>94</td>\n",
       "      <td>Written in the Stars (feat. Eric Turner)</td>\n",
       "      <td>Tinie Tempah</td>\n",
       "      <td>dance pop</td>\n",
       "      <td>2011</td>\n",
       "      <td>91</td>\n",
       "      <td>95</td>\n",
       "      <td>64</td>\n",
       "      <td>-4</td>\n",
       "      <td>18</td>\n",
       "      <td>57</td>\n",
       "      <td>220</td>\n",
       "      <td>6</td>\n",
       "      <td>7</td>\n",
       "      <td>52</td>\n",
       "    </tr>\n",
       "    <tr>\n",
       "      <td>47</td>\n",
       "      <td>Written in the Stars (feat. Eric Turner)</td>\n",
       "      <td>Tinie Tempah</td>\n",
       "      <td>dance pop</td>\n",
       "      <td>2010</td>\n",
       "      <td>91</td>\n",
       "      <td>95</td>\n",
       "      <td>64</td>\n",
       "      <td>-4</td>\n",
       "      <td>18</td>\n",
       "      <td>57</td>\n",
       "      <td>220</td>\n",
       "      <td>6</td>\n",
       "      <td>7</td>\n",
       "      <td>52</td>\n",
       "    </tr>\n",
       "  </tbody>\n",
       "</table>\n",
       "</div>"
      ],
      "text/plain": [
       "                                               title             artist  \\\n",
       "ID                                                                        \n",
       "240  A Little Party Never Killed Nobody (All We Got)             Fergie   \n",
       "179  A Little Party Never Killed Nobody (All We Got)             Fergie   \n",
       "399                                        All I Ask              Adele   \n",
       "474                                        All I Ask              Adele   \n",
       "96           Castle Walls (feat. Christina Aguilera)               T.I.   \n",
       "49           Castle Walls (feat. Christina Aguilera)               T.I.   \n",
       "397                                          Company      Justin Bieber   \n",
       "302                                          Company      Justin Bieber   \n",
       "549                                       First Time               Kygo   \n",
       "475                                       First Time               Kygo   \n",
       "405                                             Here       Alessia Cara   \n",
       "316                                             Here       Alessia Cara   \n",
       "28                                         I Like It   Enrique Iglesias   \n",
       "511                                        I Like It            Cardi B   \n",
       "55                              Just the Way You Are         Bruno Mars   \n",
       "5                               Just the Way You Are         Bruno Mars   \n",
       "489                                Kissing Strangers               DNCE   \n",
       "558                                Kissing Strangers               DNCE   \n",
       "272                                    Love Yourself      Justin Bieber   \n",
       "365                                    Love Yourself      Justin Bieber   \n",
       "65                                         Marry You         Bruno Mars   \n",
       "12                                         Marry You         Bruno Mars   \n",
       "250                                    Say Something  A Great Big World   \n",
       "542                                    Say Something  Justin Timberlake   \n",
       "379                                         Stitches       Shawn Mendes   \n",
       "281                                         Stitches       Shawn Mendes   \n",
       "323                                            Sugar           Maroon 5   \n",
       "275                                            Sugar           Maroon 5   \n",
       "271                                        The Hills         The Weeknd   \n",
       "364                                        The Hills         The Weeknd   \n",
       "153          We Are Never Ever Getting Back Together       Taylor Swift   \n",
       "114          We Are Never Ever Getting Back Together       Taylor Swift   \n",
       "94          Written in the Stars (feat. Eric Turner)       Tinie Tempah   \n",
       "47          Written in the Stars (feat. Eric Turner)       Tinie Tempah   \n",
       "\n",
       "                         genre  year  beats_per_minute  energy  danceability  \\\n",
       "ID                                                                             \n",
       "240                  dance pop  2014               130      62            76   \n",
       "179                  dance pop  2013               130      62            76   \n",
       "399               british soul  2016               142      28            59   \n",
       "474               british soul  2017               142      28            59   \n",
       "96                 atl hip hop  2011                80      86            45   \n",
       "49                 atl hip hop  2010                80      86            45   \n",
       "397               canadian pop  2016                95      80            59   \n",
       "302               canadian pop  2015                95      80            59   \n",
       "549                        edm  2018                90      59            63   \n",
       "475                        edm  2017                90      59            63   \n",
       "405  canadian contemporary r&b  2016               120      82            38   \n",
       "316  canadian contemporary r&b  2015               120      82            38   \n",
       "28                   dance pop  2010               129      94            65   \n",
       "511                        pop  2018               136      73            82   \n",
       "55                         pop  2011               109      84            64   \n",
       "5                          pop  2010               109      84            64   \n",
       "489                  dance pop  2017               120      74            77   \n",
       "558                  dance pop  2018               120      74            77   \n",
       "272               canadian pop  2015               100      38            61   \n",
       "365               canadian pop  2016               100      38            61   \n",
       "65                         pop  2011               145      83            62   \n",
       "12                         pop  2010               145      83            62   \n",
       "250                 neo mellow  2014               138      15            45   \n",
       "542                  dance pop  2018                97      63            71   \n",
       "379               canadian pop  2016               150      75            75   \n",
       "281               canadian pop  2015               150      75            75   \n",
       "323                        pop  2015               120      79            75   \n",
       "275                        pop  2015               120      79            75   \n",
       "271  canadian contemporary r&b  2015               113      56            58   \n",
       "364  canadian contemporary r&b  2016               113      56            58   \n",
       "153                        pop  2013                86      68            63   \n",
       "114                        pop  2012                86      68            63   \n",
       "94                   dance pop  2011                91      95            64   \n",
       "47                   dance pop  2010                91      95            64   \n",
       "\n",
       "     loudness  liveness  valence  length  acousticness  speechiness  \\\n",
       "ID                                                                    \n",
       "240        -6         9       52     241             1           18   \n",
       "179        -6         9       52     241             1           18   \n",
       "399        -5        15       34     272            88            3   \n",
       "474        -5        15       34     272            88            3   \n",
       "96         -5        26       58     329             7           39   \n",
       "49         -5        26       58     329             7           39   \n",
       "397        -5         8       43     208            13            6   \n",
       "302        -5         8       43     208            13            6   \n",
       "549        -7        10       68     194            20           11   \n",
       "475        -7        10       68     194            20           11   \n",
       "405        -4         8       33     199             8           10   \n",
       "316        -4         8       33     199             8           10   \n",
       "28         -3         6       73     231             2            9   \n",
       "511        -4        37       65     253            10           13   \n",
       "55         -5         9       43     221             2            4   \n",
       "5          -5         9       43     221             2            4   \n",
       "489        -6         9       86     202             5            4   \n",
       "558        -6         9       86     202             5            4   \n",
       "272       -10        28       52     234            84           44   \n",
       "365       -10        28       52     234            84           44   \n",
       "65         -5        10       48     230            33            4   \n",
       "12         -5        10       48     230            33            4   \n",
       "250        -9         9        9     229            87            3   \n",
       "542        -7         8       37     279            10            8   \n",
       "379        -7         5       76     207             2            7   \n",
       "281        -7         5       76     207             2            7   \n",
       "323        -7         9       88     235             6            3   \n",
       "275        -7         9       88     235             6            3   \n",
       "271        -7        14       14     242             7            5   \n",
       "364        -7        14       14     242             7            5   \n",
       "153        -6        12       75     193             1            9   \n",
       "114        -6        12       75     193             1            9   \n",
       "94         -4        18       57     220             6            7   \n",
       "47         -4        18       57     220             6            7   \n",
       "\n",
       "     popularity  \n",
       "ID               \n",
       "240          65  \n",
       "179          65  \n",
       "399          71  \n",
       "474          71  \n",
       "96           49  \n",
       "49           49  \n",
       "397          72  \n",
       "302          72  \n",
       "549          71  \n",
       "475          71  \n",
       "405          68  \n",
       "316          68  \n",
       "28           63  \n",
       "511          85  \n",
       "55           78  \n",
       "5            78  \n",
       "489          66  \n",
       "558          66  \n",
       "272          83  \n",
       "365          83  \n",
       "65           73  \n",
       "12           73  \n",
       "250          61  \n",
       "542          74  \n",
       "379          78  \n",
       "281          78  \n",
       "323          66  \n",
       "275          81  \n",
       "271          84  \n",
       "364          84  \n",
       "153          75  \n",
       "114          75  \n",
       "94           52  \n",
       "47           52  "
      ]
     },
     "execution_count": 18,
     "metadata": {},
     "output_type": "execute_result"
    }
   ],
   "source": [
    "song_ranks_2[song_ranks_2.title.isin(repeat_titles)].sort_values(by = ['title'])"
   ]
  },
  {
   "cell_type": "code",
   "execution_count": 19,
   "metadata": {},
   "outputs": [],
   "source": [
    "# Removing song \"Sugar\" by Maroon 5 to maintain consistency as it is listed twice in year 2015 with different popularity values\n",
    "\n",
    "song_ranks_3 = song_ranks_2.drop([275, 323], axis=0)"
   ]
  },
  {
   "cell_type": "code",
   "execution_count": 23,
   "metadata": {},
   "outputs": [
    {
     "data": {
      "text/plain": [
       "(596, 14)"
      ]
     },
     "execution_count": 23,
     "metadata": {},
     "output_type": "execute_result"
    }
   ],
   "source": [
    "song_ranks_3.shape"
   ]
  },
  {
   "cell_type": "code",
   "execution_count": 24,
   "metadata": {},
   "outputs": [
    {
     "data": {
      "text/plain": [
       "<matplotlib.axes._subplots.AxesSubplot at 0x193f8062a08>"
      ]
     },
     "execution_count": 24,
     "metadata": {},
     "output_type": "execute_result"
    },
    {
     "data": {
      "image/png": "[encoded data removed]",
      "text/plain": [
       "<Figure size 432x288 with 1 Axes>"
      ]
     },
     "metadata": {
      "needs_background": "light"
     },
     "output_type": "display_data"
    }
   ],
   "source": [
    "# Looking into distributions of numeric variables \n",
    "\n",
    "song_ranks_3.boxplot(column ='beats_per_minute')"
   ]
  },
  {
   "cell_type": "code",
   "execution_count": 25,
   "metadata": {},
   "outputs": [
    {
     "data": {
      "text/plain": [
       "<matplotlib.axes._subplots.AxesSubplot at 0x193f8373148>"
      ]
     },
     "execution_count": 25,
     "metadata": {},
     "output_type": "execute_result"
    },
    {
     "data": {
      "image/png": "[encoded data removed]",
      "text/plain": [
       "<Figure size 432x288 with 1 Axes>"
      ]
     },
     "metadata": {
      "needs_background": "light"
     },
     "output_type": "display_data"
    }
   ],
   "source": [
    "song_ranks_3.boxplot(column = 'energy')"
   ]
  },
  {
   "cell_type": "code",
   "execution_count": 26,
   "metadata": {},
   "outputs": [
    {
     "data": {
      "text/plain": [
       "<matplotlib.axes._subplots.AxesSubplot at 0x193f83fd648>"
      ]
     },
     "execution_count": 26,
     "metadata": {},
     "output_type": "execute_result"
    },
    {
     "data": {
      "image/png": "[encoded data removed]",
      "text/plain": [
       "<Figure size 432x288 with 1 Axes>"
      ]
     },
     "metadata": {
      "needs_background": "light"
     },
     "output_type": "display_data"
    }
   ],
   "source": [
    "song_ranks_3.boxplot(column = 'danceability')"
   ]
  },
  {
   "cell_type": "code",
   "execution_count": 27,
   "metadata": {},
   "outputs": [
    {
     "data": {
      "text/plain": [
       "<matplotlib.axes._subplots.AxesSubplot at 0x193f84800c8>"
      ]
     },
     "execution_count": 27,
     "metadata": {},
     "output_type": "execute_result"
    },
    {
     "data": {
      "image/png": "[encoded data removed]",
      "text/plain": [
       "<Figure size 432x288 with 1 Axes>"
      ]
     },
     "metadata": {
      "needs_background": "light"
     },
     "output_type": "display_data"
    }
   ],
   "source": [
    "song_ranks_3.boxplot(column = 'loudness')"
   ]
  },
  {
   "cell_type": "code",
   "execution_count": 28,
   "metadata": {},
   "outputs": [
    {
     "data": {
      "text/plain": [
       "<matplotlib.axes._subplots.AxesSubplot at 0x193f84e4ec8>"
      ]
     },
     "execution_count": 28,
     "metadata": {},
     "output_type": "execute_result"
    },
    {
     "data": {
      "image/png": "[encoded data removed]",
      "text/plain": [
       "<Figure size 432x288 with 1 Axes>"
      ]
     },
     "metadata": {
      "needs_background": "light"
     },
     "output_type": "display_data"
    }
   ],
   "source": [
    "song_ranks_3.boxplot(column = 'liveness')"
   ]
  },
  {
   "cell_type": "code",
   "execution_count": 29,
   "metadata": {},
   "outputs": [
    {
     "data": {
      "text/plain": [
       "<matplotlib.axes._subplots.AxesSubplot at 0x193f8555f48>"
      ]
     },
     "execution_count": 29,
     "metadata": {},
     "output_type": "execute_result"
    },
    {
     "data": {
      "image/png": "[encoded data removed]",
      "text/plain": [
       "<Figure size 432x288 with 1 Axes>"
      ]
     },
     "metadata": {
      "needs_background": "light"
     },
     "output_type": "display_data"
    }
   ],
   "source": [
    "song_ranks_3.boxplot(column = 'valence')"
   ]
  },
  {
   "cell_type": "code",
   "execution_count": 30,
   "metadata": {},
   "outputs": [
    {
     "data": {
      "text/plain": [
       "<matplotlib.axes._subplots.AxesSubplot at 0x193f85559c8>"
      ]
     },
     "execution_count": 30,
     "metadata": {},
     "output_type": "execute_result"
    },
    {
     "data": {
      "image/png": "[encoded data removed]",
      "text/plain": [
       "<Figure size 432x288 with 1 Axes>"
      ]
     },
     "metadata": {
      "needs_background": "light"
     },
     "output_type": "display_data"
    }
   ],
   "source": [
    "song_ranks_3.boxplot(column = 'length')"
   ]
  },
  {
   "cell_type": "code",
   "execution_count": 31,
   "metadata": {},
   "outputs": [
    {
     "data": {
      "text/plain": [
       "<matplotlib.axes._subplots.AxesSubplot at 0x193f85b60c8>"
      ]
     },
     "execution_count": 31,
     "metadata": {},
     "output_type": "execute_result"
    },
    {
     "data": {
      "image/png": "[encoded data removed]",
      "text/plain": [
       "<Figure size 432x288 with 1 Axes>"
      ]
     },
     "metadata": {
      "needs_background": "light"
     },
     "output_type": "display_data"
    }
   ],
   "source": [
    "song_ranks_3.boxplot(column = 'acousticness')"
   ]
  },
  {
   "cell_type": "code",
   "execution_count": 32,
   "metadata": {},
   "outputs": [
    {
     "data": {
      "text/plain": [
       "<matplotlib.axes._subplots.AxesSubplot at 0x193f861fe08>"
      ]
     },
     "execution_count": 32,
     "metadata": {},
     "output_type": "execute_result"
    },
    {
     "data": {
      "image/png": "[encoded data removed]",
      "text/plain": [
       "<Figure size 432x288 with 1 Axes>"
      ]
     },
     "metadata": {
      "needs_background": "light"
     },
     "output_type": "display_data"
    }
   ],
   "source": [
    "song_ranks_3.boxplot(column = 'speechiness')"
   ]
  },
  {
   "cell_type": "code",
   "execution_count": 33,
   "metadata": {},
   "outputs": [
    {
     "data": {
      "text/plain": [
       "<matplotlib.axes._subplots.AxesSubplot at 0x193f8689448>"
      ]
     },
     "execution_count": 33,
     "metadata": {},
     "output_type": "execute_result"
    },
    {
     "data": {
      "image/png": "[encoded data removed]",
      "text/plain": [
       "<Figure size 432x288 with 1 Axes>"
      ]
     },
     "metadata": {
      "needs_background": "light"
     },
     "output_type": "display_data"
    }
   ],
   "source": [
    "song_ranks_3.boxplot(column = 'popularity')"
   ]
  },
  {
   "cell_type": "code",
   "execution_count": 34,
   "metadata": {},
   "outputs": [
    {
     "data": {
      "text/plain": [
       "Text(0.5, 1.0, 'beats_per_minute vs popularity')"
      ]
     },
     "execution_count": 34,
     "metadata": {},
     "output_type": "execute_result"
    },
    {
     "data": {
      "image/png": "[encoded data removed]",
      "text/plain": [
       "<Figure size 432x288 with 1 Axes>"
      ]
     },
     "metadata": {
      "needs_background": "light"
     },
     "output_type": "display_data"
    }
   ],
   "source": [
    "# Plotting beats_per_minute vs popularity, no significant correlation seen  \n",
    "\n",
    "sns.scatterplot(x = song_ranks_3['beats_per_minute'], y = song_ranks_3['popularity'])\n",
    "plt.xlim([20,220])\n",
    "plt.title('beats_per_minute vs popularity')\n"
   ]
  },
  {
   "cell_type": "code",
   "execution_count": 35,
   "metadata": {},
   "outputs": [
    {
     "data": {
      "text/plain": [
       "<matplotlib.axes._subplots.AxesSubplot at 0x193f876a648>"
      ]
     },
     "execution_count": 35,
     "metadata": {},
     "output_type": "execute_result"
    },
    {
     "data": {
      "image/png": "[encoded data removed]",
      "text/plain": [
       "<Figure size 432x288 with 1 Axes>"
      ]
     },
     "metadata": {
      "needs_background": "light"
     },
     "output_type": "display_data"
    }
   ],
   "source": [
    "# Distribution of beats_per_minute \n",
    "#Bi-modal, beats_per_minute around 125 the most frequent in popular songs \n",
    "\n",
    "sns.distplot(song_ranks_3['beats_per_minute'])"
   ]
  },
  {
   "cell_type": "code",
   "execution_count": 36,
   "metadata": {},
   "outputs": [
    {
     "data": {
      "text/plain": [
       "Text(0.5, 1.0, 'energy vs popularity')"
      ]
     },
     "execution_count": 36,
     "metadata": {},
     "output_type": "execute_result"
    },
    {
     "data": {
      "image/png": "[encoded data removed]",
      "text/plain": [
       "<Figure size 432x288 with 1 Axes>"
      ]
     },
     "metadata": {
      "needs_background": "light"
     },
     "output_type": "display_data"
    }
   ],
   "source": [
    "# Plotting energy vs popularity, slightly negative correlation \n",
    "\n",
    "sns.scatterplot(x = song_ranks_3['energy'], y = song_ranks_3['popularity'], color = 'gray' )\n",
    "plt.title('energy vs popularity')"
   ]
  },
  {
   "cell_type": "code",
   "execution_count": 37,
   "metadata": {},
   "outputs": [
    {
     "data": {
      "text/plain": [
       "Text(0.5, 1.0, 'energy vs popularity')"
      ]
     },
     "execution_count": 37,
     "metadata": {},
     "output_type": "execute_result"
    },
    {
     "data": {
      "image/png": "[encoded data removed]",
      "text/plain": [
       "<Figure size 432x288 with 1 Axes>"
      ]
     },
     "metadata": {
      "needs_background": "light"
     },
     "output_type": "display_data"
    }
   ],
   "source": [
    "sns.regplot(x = song_ranks_3['energy'], y = song_ranks_3['popularity'], color = 'gray' )\n",
    "plt.title('energy vs popularity')"
   ]
  },
  {
   "cell_type": "code",
   "execution_count": 38,
   "metadata": {},
   "outputs": [
    {
     "data": {
      "text/plain": [
       "<matplotlib.axes._subplots.AxesSubplot at 0x193f8902b08>"
      ]
     },
     "execution_count": 38,
     "metadata": {},
     "output_type": "execute_result"
    },
    {
     "data": {
      "image/png": "[encoded data removed]",
      "text/plain": [
       "<Figure size 432x288 with 1 Axes>"
      ]
     },
     "metadata": {
      "needs_background": "light"
     },
     "output_type": "display_data"
    }
   ],
   "source": [
    "# Distribution of energy \n",
    "# Left skewed, energy around 80 the most frequent in popular songs\n",
    "\n",
    "sns.distplot(song_ranks_3['energy'], color = 'gray')"
   ]
  },
  {
   "cell_type": "code",
   "execution_count": 39,
   "metadata": {},
   "outputs": [
    {
     "data": {
      "text/plain": [
       "Text(0.5, 1.0, 'danceability vs popularity')"
      ]
     },
     "execution_count": 39,
     "metadata": {},
     "output_type": "execute_result"
    },
    {
     "data": {
      "image/png": "[encoded data removed]",
      "text/plain": [
       "<Figure size 432x288 with 1 Axes>"
      ]
     },
     "metadata": {
      "needs_background": "light"
     },
     "output_type": "display_data"
    }
   ],
   "source": [
    "# Plotting danceability vs popularity, no significant correlation seen \n",
    "\n",
    "sns.scatterplot(x = song_ranks_3['danceability'], y = song_ranks_3['popularity'], color = 'green' )\n",
    "plt.xlim([20,100])\n",
    "plt.title('danceability vs popularity')"
   ]
  },
  {
   "cell_type": "code",
   "execution_count": 40,
   "metadata": {},
   "outputs": [
    {
     "data": {
      "text/plain": [
       "<matplotlib.axes._subplots.AxesSubplot at 0x193f8a14b08>"
      ]
     },
     "execution_count": 40,
     "metadata": {},
     "output_type": "execute_result"
    },
    {
     "data": {
      "image/png": "[encoded data removed]",
      "text/plain": [
       "<Figure size 432x288 with 1 Axes>"
      ]
     },
     "metadata": {
      "needs_background": "light"
     },
     "output_type": "display_data"
    }
   ],
   "source": [
    "# Distribution of danceability \n",
    "# Close to normal distribution with danceability around 70 being the most frequent amongst popular songs \n",
    "\n",
    "sns.distplot(song_ranks_3['danceability'], color = 'green')"
   ]
  },
  {
   "cell_type": "code",
   "execution_count": 41,
   "metadata": {},
   "outputs": [
    {
     "data": {
      "text/plain": [
       "Text(0.5, 1.0, 'loudness vs popularity')"
      ]
     },
     "execution_count": 41,
     "metadata": {},
     "output_type": "execute_result"
    },
    {
     "data": {
      "image/png": "[encoded data removed]",
      "text/plain": [
       "<Figure size 432x288 with 1 Axes>"
      ]
     },
     "metadata": {
      "needs_background": "light"
     },
     "output_type": "display_data"
    }
   ],
   "source": [
    "# Plotting loudness vs popularity, no significant correlation seen \n",
    "\n",
    "sns.scatterplot(x = song_ranks_3['loudness'], y = song_ranks_3['popularity'], color = 'maroon')\n",
    "plt.xlim([-16,0])\n",
    "plt.title('loudness vs popularity')"
   ]
  },
  {
   "cell_type": "code",
   "execution_count": 42,
   "metadata": {},
   "outputs": [
    {
     "data": {
      "text/plain": [
       "<matplotlib.axes._subplots.AxesSubplot at 0x193f6f44e88>"
      ]
     },
     "execution_count": 42,
     "metadata": {},
     "output_type": "execute_result"
    },
    {
     "data": {
      "image/png": "[encoded data removed]",
      "text/plain": [
       "<Figure size 432x288 with 1 Axes>"
      ]
     },
     "metadata": {
      "needs_background": "light"
     },
     "output_type": "display_data"
    }
   ],
   "source": [
    "# Distribution of loudness\n",
    "# Left skewed, loudness of -5 the most common amongst popular songs \n",
    "\n",
    "sns.distplot(song_ranks_3['loudness'], color = 'maroon')"
   ]
  },
  {
   "cell_type": "code",
   "execution_count": 43,
   "metadata": {},
   "outputs": [
    {
     "data": {
      "text/plain": [
       "Text(0.5, 1.0, 'liveness vs popularity')"
      ]
     },
     "execution_count": 43,
     "metadata": {},
     "output_type": "execute_result"
    },
    {
     "data": {
      "image/png": "[encoded data removed]",
      "text/plain": [
       "<Figure size 432x288 with 1 Axes>"
      ]
     },
     "metadata": {
      "needs_background": "light"
     },
     "output_type": "display_data"
    }
   ],
   "source": [
    "# Plotting liveness vs popularity, no significant correlation seen \n",
    "\n",
    "sns.scatterplot(x = song_ranks_3['liveness'], y = song_ranks_3['popularity'], color = 'turquoise')\n",
    "plt.title('liveness vs popularity')"
   ]
  },
  {
   "cell_type": "code",
   "execution_count": 44,
   "metadata": {},
   "outputs": [
    {
     "data": {
      "text/plain": [
       "<matplotlib.axes._subplots.AxesSubplot at 0x193f8c257c8>"
      ]
     },
     "execution_count": 44,
     "metadata": {},
     "output_type": "execute_result"
    },
    {
     "data": {
      "image/png": "[encoded data removed]",
      "text/plain": [
       "<Figure size 432x288 with 1 Axes>"
      ]
     },
     "metadata": {
      "needs_background": "light"
     },
     "output_type": "display_data"
    }
   ],
   "source": [
    "# Distributon of liveness\n",
    "# Right skewed, liveness around 10 the most frequent amongst popular songs \n",
    "\n",
    "sns.distplot(song_ranks_3['liveness'], color = 'turquoise')"
   ]
  },
  {
   "cell_type": "code",
   "execution_count": 45,
   "metadata": {},
   "outputs": [
    {
     "data": {
      "text/plain": [
       "Text(0.5, 1.0, 'valence vs popularity')"
      ]
     },
     "execution_count": 45,
     "metadata": {},
     "output_type": "execute_result"
    },
    {
     "data": {
      "image/png": "[encoded data removed]",
      "text/plain": [
       "<Figure size 432x288 with 1 Axes>"
      ]
     },
     "metadata": {
      "needs_background": "light"
     },
     "output_type": "display_data"
    }
   ],
   "source": [
    "# Plotting valence vs popularity, no significant correlation seen \n",
    "\n",
    "sns.scatterplot(x = song_ranks_3['valence'], y = song_ranks_3['popularity'], color = 'purple')\n",
    "plt.title('valence vs popularity')"
   ]
  },
  {
   "cell_type": "code",
   "execution_count": 46,
   "metadata": {},
   "outputs": [
    {
     "data": {
      "text/plain": [
       "<matplotlib.axes._subplots.AxesSubplot at 0x193f9ce3f48>"
      ]
     },
     "execution_count": 46,
     "metadata": {},
     "output_type": "execute_result"
    },
    {
     "data": {
      "image/png": "[encoded data removed]",
      "text/plain": [
       "<Figure size 432x288 with 1 Axes>"
      ]
     },
     "metadata": {
      "needs_background": "light"
     },
     "output_type": "display_data"
    }
   ],
   "source": [
    "# Distribution of valence \n",
    "# Close to normal distribution w/ wide spread, valence around 60 is most frequent amongst popular songs \n",
    "\n",
    "sns.distplot(song_ranks_3['valence'], color = 'purple')"
   ]
  },
  {
   "cell_type": "code",
   "execution_count": 47,
   "metadata": {},
   "outputs": [
    {
     "data": {
      "text/plain": [
       "Text(0.5, 1.0, 'length vs popularity')"
      ]
     },
     "execution_count": 47,
     "metadata": {},
     "output_type": "execute_result"
    },
    {
     "data": {
      "image/png": "[encoded data removed]",
      "text/plain": [
       "<Figure size 432x288 with 1 Axes>"
      ]
     },
     "metadata": {
      "needs_background": "light"
     },
     "output_type": "display_data"
    }
   ],
   "source": [
    "# Plotting length vs popularity, slightly negative correlation \n",
    "\n",
    "sns.scatterplot(x = song_ranks_3['length'], y = song_ranks_3['popularity'], color = 'orange')\n",
    "plt.title('length vs popularity')"
   ]
  },
  {
   "cell_type": "code",
   "execution_count": 48,
   "metadata": {},
   "outputs": [
    {
     "data": {
      "text/plain": [
       "Text(0.5, 1.0, 'length vs popularity')"
      ]
     },
     "execution_count": 48,
     "metadata": {},
     "output_type": "execute_result"
    },
    {
     "data": {
      "image/png": "[encoded data removed]",
      "text/plain": [
       "<Figure size 432x288 with 1 Axes>"
      ]
     },
     "metadata": {
      "needs_background": "light"
     },
     "output_type": "display_data"
    }
   ],
   "source": [
    "sns.regplot(x = song_ranks_3['length'], y = song_ranks_3['popularity'], color = 'orange')\n",
    "plt.title('length vs popularity')"
   ]
  },
  {
   "cell_type": "code",
   "execution_count": 49,
   "metadata": {},
   "outputs": [
    {
     "data": {
      "text/plain": [
       "<matplotlib.axes._subplots.AxesSubplot at 0x193f9e49d48>"
      ]
     },
     "execution_count": 49,
     "metadata": {},
     "output_type": "execute_result"
    },
    {
     "data": {
      "image/png": "[encoded data removed]",
      "text/plain": [
       "<Figure size 432x288 with 1 Axes>"
      ]
     },
     "metadata": {
      "needs_background": "light"
     },
     "output_type": "display_data"
    }
   ],
   "source": [
    "# Distribution of length \n",
    "# Right skewed, length around 225 most common for popular songs \n",
    "\n",
    "sns.distplot(song_ranks_3['length'], color = 'orange')"
   ]
  },
  {
   "cell_type": "code",
   "execution_count": 50,
   "metadata": {},
   "outputs": [
    {
     "data": {
      "text/plain": [
       "Text(0.5, 1.0, 'acousticness vs popularity')"
      ]
     },
     "execution_count": 50,
     "metadata": {},
     "output_type": "execute_result"
    },
    {
     "data": {
      "image/png": "[encoded data removed]",
      "text/plain": [
       "<Figure size 432x288 with 1 Axes>"
      ]
     },
     "metadata": {
      "needs_background": "light"
     },
     "output_type": "display_data"
    }
   ],
   "source": [
    "# Plotting acousticness vs popularity, no significant correlation seen \n",
    "\n",
    "sns.scatterplot(x = song_ranks_3['acousticness'], y = song_ranks_3['popularity'], color = 'navy')\n",
    "plt.title('acousticness vs popularity')"
   ]
  },
  {
   "cell_type": "code",
   "execution_count": 51,
   "metadata": {},
   "outputs": [
    {
     "data": {
      "text/plain": [
       "<matplotlib.axes._subplots.AxesSubplot at 0x193f9f81ac8>"
      ]
     },
     "execution_count": 51,
     "metadata": {},
     "output_type": "execute_result"
    },
    {
     "data": {
      "image/png": "[encoded data removed]",
      "text/plain": [
       "<Figure size 432x288 with 1 Axes>"
      ]
     },
     "metadata": {
      "needs_background": "light"
     },
     "output_type": "display_data"
    }
   ],
   "source": [
    "# Distribution of acousticness \n",
    "# Right skewed, acousticness of 0 very frequent amongst popular songs \n",
    "\n",
    "sns.distplot(song_ranks_3['acousticness'], color = 'navy')"
   ]
  },
  {
   "cell_type": "code",
   "execution_count": 52,
   "metadata": {},
   "outputs": [
    {
     "data": {
      "text/plain": [
       "Text(0.5, 1.0, 'speechiness vs popularity')"
      ]
     },
     "execution_count": 52,
     "metadata": {},
     "output_type": "execute_result"
    },
    {
     "data": {
      "image/png": "[encoded data removed]",
      "text/plain": [
       "<Figure size 432x288 with 1 Axes>"
      ]
     },
     "metadata": {
      "needs_background": "light"
     },
     "output_type": "display_data"
    }
   ],
   "source": [
    "# Plotting speechiness vs popularity, no significant correlation seen \n",
    "\n",
    "sns.scatterplot(x = song_ranks_3['speechiness'], y = song_ranks_3['popularity'], color = 'sienna')\n",
    "plt.title('speechiness vs popularity')"
   ]
  },
  {
   "cell_type": "code",
   "execution_count": 53,
   "metadata": {},
   "outputs": [
    {
     "data": {
      "text/plain": [
       "<matplotlib.axes._subplots.AxesSubplot at 0x193fa078d48>"
      ]
     },
     "execution_count": 53,
     "metadata": {},
     "output_type": "execute_result"
    },
    {
     "data": {
      "image/png": "[encoded data removed]",
      "text/plain": [
       "<Figure size 432x288 with 1 Axes>"
      ]
     },
     "metadata": {
      "needs_background": "light"
     },
     "output_type": "display_data"
    }
   ],
   "source": [
    "# Distribution of speechiness\n",
    "# Right skewed, speechiness close to 5 most common amongst popular songs \n",
    "\n",
    "sns.distplot(song_ranks_3['speechiness'], color = 'sienna')"
   ]
  },
  {
   "cell_type": "code",
   "execution_count": 54,
   "metadata": {
    "scrolled": true
   },
   "outputs": [
    {
     "data": {
      "text/html": [
       "<div>\n",
       "<style scoped>\n",
       "    .dataframe tbody tr th:only-of-type {\n",
       "        vertical-align: middle;\n",
       "    }\n",
       "\n",
       "    .dataframe tbody tr th {\n",
       "        vertical-align: top;\n",
       "    }\n",
       "\n",
       "    .dataframe thead th {\n",
       "        text-align: right;\n",
       "    }\n",
       "</style>\n",
       "<table border=\"1\" class=\"dataframe\">\n",
       "  <thead>\n",
       "    <tr style=\"text-align: right;\">\n",
       "      <th></th>\n",
       "      <th>title</th>\n",
       "      <th>artist</th>\n",
       "      <th>genre</th>\n",
       "      <th>beats_per_minute</th>\n",
       "      <th>energy</th>\n",
       "      <th>danceability</th>\n",
       "      <th>loudness</th>\n",
       "      <th>liveness</th>\n",
       "      <th>valence</th>\n",
       "      <th>length</th>\n",
       "      <th>acousticness</th>\n",
       "      <th>speechiness</th>\n",
       "      <th>popularity</th>\n",
       "    </tr>\n",
       "    <tr>\n",
       "      <th>year</th>\n",
       "      <th></th>\n",
       "      <th></th>\n",
       "      <th></th>\n",
       "      <th></th>\n",
       "      <th></th>\n",
       "      <th></th>\n",
       "      <th></th>\n",
       "      <th></th>\n",
       "      <th></th>\n",
       "      <th></th>\n",
       "      <th></th>\n",
       "      <th></th>\n",
       "      <th></th>\n",
       "    </tr>\n",
       "  </thead>\n",
       "  <tbody>\n",
       "    <tr>\n",
       "      <td>2010</td>\n",
       "      <td>50</td>\n",
       "      <td>50</td>\n",
       "      <td>50</td>\n",
       "      <td>50</td>\n",
       "      <td>50</td>\n",
       "      <td>50</td>\n",
       "      <td>50</td>\n",
       "      <td>50</td>\n",
       "      <td>50</td>\n",
       "      <td>50</td>\n",
       "      <td>50</td>\n",
       "      <td>50</td>\n",
       "      <td>50</td>\n",
       "    </tr>\n",
       "    <tr>\n",
       "      <td>2011</td>\n",
       "      <td>53</td>\n",
       "      <td>53</td>\n",
       "      <td>53</td>\n",
       "      <td>53</td>\n",
       "      <td>53</td>\n",
       "      <td>53</td>\n",
       "      <td>53</td>\n",
       "      <td>53</td>\n",
       "      <td>53</td>\n",
       "      <td>53</td>\n",
       "      <td>53</td>\n",
       "      <td>53</td>\n",
       "      <td>53</td>\n",
       "    </tr>\n",
       "    <tr>\n",
       "      <td>2012</td>\n",
       "      <td>34</td>\n",
       "      <td>34</td>\n",
       "      <td>34</td>\n",
       "      <td>34</td>\n",
       "      <td>34</td>\n",
       "      <td>34</td>\n",
       "      <td>34</td>\n",
       "      <td>34</td>\n",
       "      <td>34</td>\n",
       "      <td>34</td>\n",
       "      <td>34</td>\n",
       "      <td>34</td>\n",
       "      <td>34</td>\n",
       "    </tr>\n",
       "    <tr>\n",
       "      <td>2013</td>\n",
       "      <td>71</td>\n",
       "      <td>71</td>\n",
       "      <td>71</td>\n",
       "      <td>71</td>\n",
       "      <td>71</td>\n",
       "      <td>71</td>\n",
       "      <td>71</td>\n",
       "      <td>71</td>\n",
       "      <td>71</td>\n",
       "      <td>71</td>\n",
       "      <td>71</td>\n",
       "      <td>71</td>\n",
       "      <td>71</td>\n",
       "    </tr>\n",
       "    <tr>\n",
       "      <td>2014</td>\n",
       "      <td>57</td>\n",
       "      <td>57</td>\n",
       "      <td>57</td>\n",
       "      <td>57</td>\n",
       "      <td>57</td>\n",
       "      <td>57</td>\n",
       "      <td>57</td>\n",
       "      <td>57</td>\n",
       "      <td>57</td>\n",
       "      <td>57</td>\n",
       "      <td>57</td>\n",
       "      <td>57</td>\n",
       "      <td>57</td>\n",
       "    </tr>\n",
       "    <tr>\n",
       "      <td>2015</td>\n",
       "      <td>92</td>\n",
       "      <td>92</td>\n",
       "      <td>92</td>\n",
       "      <td>92</td>\n",
       "      <td>92</td>\n",
       "      <td>92</td>\n",
       "      <td>92</td>\n",
       "      <td>92</td>\n",
       "      <td>92</td>\n",
       "      <td>92</td>\n",
       "      <td>92</td>\n",
       "      <td>92</td>\n",
       "      <td>92</td>\n",
       "    </tr>\n",
       "    <tr>\n",
       "      <td>2016</td>\n",
       "      <td>79</td>\n",
       "      <td>79</td>\n",
       "      <td>79</td>\n",
       "      <td>79</td>\n",
       "      <td>79</td>\n",
       "      <td>79</td>\n",
       "      <td>79</td>\n",
       "      <td>79</td>\n",
       "      <td>79</td>\n",
       "      <td>79</td>\n",
       "      <td>79</td>\n",
       "      <td>79</td>\n",
       "      <td>79</td>\n",
       "    </tr>\n",
       "    <tr>\n",
       "      <td>2017</td>\n",
       "      <td>65</td>\n",
       "      <td>65</td>\n",
       "      <td>65</td>\n",
       "      <td>65</td>\n",
       "      <td>65</td>\n",
       "      <td>65</td>\n",
       "      <td>65</td>\n",
       "      <td>65</td>\n",
       "      <td>65</td>\n",
       "      <td>65</td>\n",
       "      <td>65</td>\n",
       "      <td>65</td>\n",
       "      <td>65</td>\n",
       "    </tr>\n",
       "    <tr>\n",
       "      <td>2018</td>\n",
       "      <td>64</td>\n",
       "      <td>64</td>\n",
       "      <td>64</td>\n",
       "      <td>64</td>\n",
       "      <td>64</td>\n",
       "      <td>64</td>\n",
       "      <td>64</td>\n",
       "      <td>64</td>\n",
       "      <td>64</td>\n",
       "      <td>64</td>\n",
       "      <td>64</td>\n",
       "      <td>64</td>\n",
       "      <td>64</td>\n",
       "    </tr>\n",
       "    <tr>\n",
       "      <td>2019</td>\n",
       "      <td>31</td>\n",
       "      <td>31</td>\n",
       "      <td>31</td>\n",
       "      <td>31</td>\n",
       "      <td>31</td>\n",
       "      <td>31</td>\n",
       "      <td>31</td>\n",
       "      <td>31</td>\n",
       "      <td>31</td>\n",
       "      <td>31</td>\n",
       "      <td>31</td>\n",
       "      <td>31</td>\n",
       "      <td>31</td>\n",
       "    </tr>\n",
       "  </tbody>\n",
       "</table>\n",
       "</div>"
      ],
      "text/plain": [
       "      title  artist  genre  beats_per_minute  energy  danceability  loudness  \\\n",
       "year                                                                           \n",
       "2010     50      50     50                50      50            50        50   \n",
       "2011     53      53     53                53      53            53        53   \n",
       "2012     34      34     34                34      34            34        34   \n",
       "2013     71      71     71                71      71            71        71   \n",
       "2014     57      57     57                57      57            57        57   \n",
       "2015     92      92     92                92      92            92        92   \n",
       "2016     79      79     79                79      79            79        79   \n",
       "2017     65      65     65                65      65            65        65   \n",
       "2018     64      64     64                64      64            64        64   \n",
       "2019     31      31     31                31      31            31        31   \n",
       "\n",
       "      liveness  valence  length  acousticness  speechiness  popularity  \n",
       "year                                                                    \n",
       "2010        50       50      50            50           50          50  \n",
       "2011        53       53      53            53           53          53  \n",
       "2012        34       34      34            34           34          34  \n",
       "2013        71       71      71            71           71          71  \n",
       "2014        57       57      57            57           57          57  \n",
       "2015        92       92      92            92           92          92  \n",
       "2016        79       79      79            79           79          79  \n",
       "2017        65       65      65            65           65          65  \n",
       "2018        64       64      64            64           64          64  \n",
       "2019        31       31      31            31           31          31  "
      ]
     },
     "execution_count": 54,
     "metadata": {},
     "output_type": "execute_result"
    }
   ],
   "source": [
    "# Seeing number of popular songs per year in dataset\n",
    "# Range of popular songs included per year from 31 (2019) to 92(2015)\n",
    "\n",
    "song_ranks_3.groupby('year').count()"
   ]
  },
  {
   "cell_type": "code",
   "execution_count": 55,
   "metadata": {},
   "outputs": [
    {
     "data": {
      "text/plain": [
       "year\n",
       "2010    65.540000\n",
       "2011    61.867925\n",
       "2012    69.764706\n",
       "2013    63.985915\n",
       "2014    63.807018\n",
       "2015    65.076087\n",
       "2016    64.974684\n",
       "2017    69.015385\n",
       "2018    72.437500\n",
       "2019    84.354839\n",
       "Name: popularity, dtype: float64"
      ]
     },
     "execution_count": 55,
     "metadata": {},
     "output_type": "execute_result"
    }
   ],
   "source": [
    "# Looking into how numeric variables varied by year \n",
    "# Songs have had increasing popularity in recent years \n",
    "\n",
    "song_ranks_3.groupby('year')['popularity'].mean()"
   ]
  },
  {
   "cell_type": "code",
   "execution_count": 56,
   "metadata": {},
   "outputs": [
    {
     "data": {
      "text/plain": [
       "year\n",
       "2010    121.940000\n",
       "2011    119.075472\n",
       "2012    121.294118\n",
       "2013    121.676056\n",
       "2014    123.649123\n",
       "2015    118.869565\n",
       "2016    115.772152\n",
       "2017    116.800000\n",
       "2018    114.593750\n",
       "2019    112.451613\n",
       "Name: beats_per_minute, dtype: float64"
      ]
     },
     "execution_count": 56,
     "metadata": {},
     "output_type": "execute_result"
    }
   ],
   "source": [
    "# beats_per_minute decreased over past decade \n",
    "\n",
    "song_ranks_3.groupby('year')['beats_per_minute'].mean()"
   ]
  },
  {
   "cell_type": "code",
   "execution_count": 57,
   "metadata": {},
   "outputs": [
    {
     "data": {
      "text/plain": [
       "year\n",
       "2010    77.500000\n",
       "2011    74.886792\n",
       "2012    75.000000\n",
       "2013    73.873239\n",
       "2014    67.684211\n",
       "2015    70.489130\n",
       "2016    68.088608\n",
       "2017    69.169231\n",
       "2018    65.468750\n",
       "2019    64.741935\n",
       "Name: energy, dtype: float64"
      ]
     },
     "execution_count": 57,
     "metadata": {},
     "output_type": "execute_result"
    }
   ],
   "source": [
    "# energy decreased over past decade \n",
    "\n",
    "song_ranks_3.groupby('year')['energy'].mean()"
   ]
  },
  {
   "cell_type": "code",
   "execution_count": 58,
   "metadata": {},
   "outputs": [
    {
     "data": {
      "text/plain": [
       "year\n",
       "2010    64.480000\n",
       "2011    63.641509\n",
       "2012    65.882353\n",
       "2013    62.042254\n",
       "2014    62.596491\n",
       "2015    63.586957\n",
       "2016    64.126582\n",
       "2017    65.369231\n",
       "2018    67.203125\n",
       "2019    69.709677\n",
       "Name: danceability, dtype: float64"
      ]
     },
     "execution_count": 58,
     "metadata": {},
     "output_type": "execute_result"
    }
   ],
   "source": [
    "# No discernible pattern for danceability except for recent increase \n",
    "\n",
    "song_ranks_3.groupby('year')['danceability'].mean()"
   ]
  },
  {
   "cell_type": "code",
   "execution_count": 59,
   "metadata": {},
   "outputs": [
    {
     "data": {
      "text/plain": [
       "year\n",
       "2010   -4.940000\n",
       "2011   -5.018868\n",
       "2012   -4.911765\n",
       "2013   -5.140845\n",
       "2014   -5.771930\n",
       "2015   -5.565217\n",
       "2016   -6.037975\n",
       "2017   -5.615385\n",
       "2018   -5.671875\n",
       "2019   -5.774194\n",
       "Name: loudness, dtype: float64"
      ]
     },
     "execution_count": 59,
     "metadata": {},
     "output_type": "execute_result"
    }
   ],
   "source": [
    "# No discernible pattern for loudness \n",
    "\n",
    "song_ranks_3.groupby('year')['loudness'].mean()"
   ]
  },
  {
   "cell_type": "code",
   "execution_count": 60,
   "metadata": {},
   "outputs": [
    {
     "data": {
      "text/plain": [
       "year\n",
       "2010    21.400000\n",
       "2011    20.943396\n",
       "2012    15.558824\n",
       "2013    19.718310\n",
       "2014    16.929825\n",
       "2015    18.423913\n",
       "2016    17.962025\n",
       "2017    15.369231\n",
       "2018    14.750000\n",
       "2019    15.161290\n",
       "Name: liveness, dtype: float64"
      ]
     },
     "execution_count": 60,
     "metadata": {},
     "output_type": "execute_result"
    }
   ],
   "source": [
    "# liveness has had up & down variations but decreased over past decade \n",
    "\n",
    "song_ranks_3.groupby('year')['liveness'].mean()"
   ]
  },
  {
   "cell_type": "code",
   "execution_count": 61,
   "metadata": {},
   "outputs": [
    {
     "data": {
      "text/plain": [
       "year\n",
       "2010    57.240000\n",
       "2011    53.698113\n",
       "2012    63.852941\n",
       "2013    53.183099\n",
       "2014    52.192982\n",
       "2015    52.032609\n",
       "2016    45.721519\n",
       "2017    52.276923\n",
       "2018    48.765625\n",
       "2019    50.806452\n",
       "Name: valence, dtype: float64"
      ]
     },
     "execution_count": 61,
     "metadata": {},
     "output_type": "execute_result"
    }
   ],
   "source": [
    "# valence has had up & down variations but decreased over past decade\n",
    "\n",
    "song_ranks_3.groupby('year')['valence'].mean()"
   ]
  },
  {
   "cell_type": "code",
   "execution_count": 62,
   "metadata": {},
   "outputs": [
    {
     "data": {
      "text/plain": [
       "year\n",
       "2010    230.580000\n",
       "2011    242.566038\n",
       "2012    223.470588\n",
       "2013    234.492958\n",
       "2014    223.421053\n",
       "2015    223.445652\n",
       "2016    220.139241\n",
       "2017    222.169231\n",
       "2018    217.187500\n",
       "2019    200.645161\n",
       "Name: length, dtype: float64"
      ]
     },
     "execution_count": 62,
     "metadata": {},
     "output_type": "execute_result"
    }
   ],
   "source": [
    "# length decreased over past decade overall after initial increases \n",
    "\n",
    "song_ranks_3.groupby('year')['length'].mean()"
   ]
  },
  {
   "cell_type": "code",
   "execution_count": 63,
   "metadata": {},
   "outputs": [
    {
     "data": {
      "text/plain": [
       "year\n",
       "2010    11.840000\n",
       "2011    13.339623\n",
       "2012     5.000000\n",
       "2013    10.323944\n",
       "2014    17.385965\n",
       "2015    16.989130\n",
       "2016    16.075949\n",
       "2017    16.600000\n",
       "2018    12.781250\n",
       "2019    21.741935\n",
       "Name: acousticness, dtype: float64"
      ]
     },
     "execution_count": 63,
     "metadata": {},
     "output_type": "execute_result"
    }
   ],
   "source": [
    "# acoustincness has had up & down variations over past decade \n",
    "\n",
    "song_ranks_3.groupby('year')['acousticness'].mean()"
   ]
  },
  {
   "cell_type": "code",
   "execution_count": 64,
   "metadata": {},
   "outputs": [
    {
     "data": {
      "text/plain": [
       "year\n",
       "2010    9.000000\n",
       "2011    9.660377\n",
       "2012    5.852941\n",
       "2013    8.309859\n",
       "2014    8.719298\n",
       "2015    7.119565\n",
       "2016    8.468354\n",
       "2017    9.784615\n",
       "2018    8.625000\n",
       "2019    8.129032\n",
       "Name: speechiness, dtype: float64"
      ]
     },
     "execution_count": 64,
     "metadata": {},
     "output_type": "execute_result"
    }
   ],
   "source": [
    "# No discernible pattern for speechiness \n",
    "\n",
    "song_ranks_3.groupby('year')['speechiness'].mean()"
   ]
  },
  {
   "cell_type": "code",
   "execution_count": 65,
   "metadata": {},
   "outputs": [
    {
     "data": {
      "text/plain": [
       "Katy Perry           17\n",
       "Justin Bieber        16\n",
       "Rihanna              15\n",
       "Lady Gaga            14\n",
       "Maroon 5             13\n",
       "Bruno Mars           13\n",
       "The Chainsmokers     11\n",
       "Shawn Mendes         11\n",
       "Ed Sheeran           11\n",
       "Pitbull              11\n",
       "Jennifer Lopez       10\n",
       "Calvin Harris        10\n",
       "Ariana Grande         9\n",
       "Kesha                 9\n",
       "Britney Spears        9\n",
       "David Guetta          9\n",
       "OneRepublic           9\n",
       "Adele                 9\n",
       "Selena Gomez          8\n",
       "Justin Timberlake     8\n",
       "Name: artist, dtype: int64"
      ]
     },
     "execution_count": 65,
     "metadata": {},
     "output_type": "execute_result"
    }
   ],
   "source": [
    "# Looking into which artists had the most number of popular songs\n",
    "\n",
    "song_ranks_3['artist'].value_counts().head(20)"
   ]
  },
  {
   "cell_type": "code",
   "execution_count": 66,
   "metadata": {},
   "outputs": [
    {
     "data": {
      "text/plain": [
       "dance pop                    324\n",
       "pop                           58\n",
       "canadian pop                  34\n",
       "barbadian pop                 15\n",
       "boy band                      15\n",
       "electropop                    13\n",
       "british soul                  10\n",
       "big room                       9\n",
       "canadian contemporary r&b      9\n",
       "neo mellow                     9\n",
       "art pop                        8\n",
       "hip pop                        6\n",
       "australian dance               6\n",
       "complextro                     6\n",
       "australian pop                 5\n",
       "edm                            5\n",
       "atl hip hop                    5\n",
       "hip hop                        4\n",
       "latin                          4\n",
       "permanent wave                 4\n",
       "Name: genre, dtype: int64"
      ]
     },
     "execution_count": 66,
     "metadata": {},
     "output_type": "execute_result"
    }
   ],
   "source": [
    "# Seeing which genres had the most number of popular songs\n",
    "# Songs belonging to/associated with the pop genre make up a disproportionate amount of the dataset\n",
    "# Could be difficult to differentiate effect of genre within this dataset due to disproportion\n",
    "\n",
    "song_ranks_3['genre'].value_counts().head(20)"
   ]
  },
  {
   "cell_type": "code",
   "execution_count": 67,
   "metadata": {},
   "outputs": [],
   "source": [
    "# Changing datatype of title to string as certain titles contain numeric & non-letter characters\n",
    "song_ranks_3.title =  song_ranks_3.title.astype(str)"
   ]
  },
  {
   "cell_type": "code",
   "execution_count": 68,
   "metadata": {},
   "outputs": [
    {
     "data": {
      "text/plain": [
       "ID\n",
       "200                                           #Beautiful\n",
       "241                                              #SELFIE\n",
       "174                                           #thatPOWER\n",
       "570                   ...Ready For It? - BloodPop® Remix\n",
       "88                                                   1+1\n",
       "482                                            24K Magic\n",
       "559                             2U (feat. Justin Bieber)\n",
       "31                                                     3\n",
       "298                                                43776\n",
       "373                                              7 Years\n",
       "508                                          A L I E N S\n",
       "179      A Little Party Never Killed Nobody (All We Got)\n",
       "240      A Little Party Never Killed Nobody (All We Got)\n",
       "251                                  A Sky Full of Stars\n",
       "52                                      A Thousand Years\n",
       "227                                            Adore You\n",
       "392                                      Ain't Your Mama\n",
       "19                                             Alejandro\n",
       "336                                                Alive\n",
       "325                                  All About That Bass\n",
       "592                      All Around The World (La La La)\n",
       "474                                            All I Ask\n",
       "399                                            All I Ask\n",
       "25                                   All The Right Moves\n",
       "395                                          All We Know\n",
       "211                                            All of Me\n",
       "333                                      American Oxygen\n",
       "258                                             Anaconda\n",
       "494                                                Angel\n",
       "26                                                Animal\n",
       "289                                              Animals\n",
       "596                       Antisocial (with Travis Scott)\n",
       "197                                Anything Could Happen\n",
       "541                                             Anywhere\n",
       "196                                             Applause\n",
       "193    Atlas - From “The Hunger Games: Catching Fire”...\n",
       "519                                            Attention\n",
       "322                                                 BO$$\n",
       "440                                            BURNITUP!\n",
       "6                                                   Baby\n",
       "348                                       Baby Don't Lie\n",
       "530                                          Bad At Love\n",
       "540                                             Bad Liar\n",
       "4                                            Bad Romance\n",
       "334                                            Bang Bang\n",
       "345                 Bang My Head (feat. Sia & Fetty Wap)\n",
       "437                        Beautiful Birds (feat. Birdy)\n",
       "585                      Beautiful People (feat. Khalid)\n",
       "121                                    Beauty And A Beat\n",
       "338                                             Been You\n",
       "Name: title, dtype: object"
      ]
     },
     "execution_count": 68,
     "metadata": {},
     "output_type": "execute_result"
    }
   ],
   "source": [
    "song_ranks_3.title.sort_values().head(50)"
   ]
  },
  {
   "cell_type": "code",
   "execution_count": 69,
   "metadata": {},
   "outputs": [],
   "source": [
    "# Looking into the most frequently occuring words in popular song titles\n",
    "# Songs with a feature by another artist or songs relating to 'you', 'me', 'love' occur the most within this dataset \n",
    "\n",
    "popular_words = pd.Series(' '.join(song_ranks_3['title']).lower().split()).value_counts()"
   ]
  },
  {
   "cell_type": "code",
   "execution_count": 70,
   "metadata": {},
   "outputs": [
    {
     "data": {
      "text/plain": [
       "(feat.        79\n",
       "the           59\n",
       "you           58\n",
       "-             50\n",
       "me            43\n",
       "love          40\n",
       "i             30\n",
       "&             25\n",
       "it            23\n",
       "of            20\n",
       "like          20\n",
       "to            20\n",
       "my            16\n",
       "we            16\n",
       "(with         16\n",
       "a             15\n",
       "edit          13\n",
       "what          13\n",
       "remix         13\n",
       "from          13\n",
       "in            12\n",
       "radio         12\n",
       "don't         12\n",
       "your          11\n",
       "on            10\n",
       "are            9\n",
       "for            8\n",
       "let            8\n",
       "do             8\n",
       "all            8\n",
       "one            8\n",
       "never          8\n",
       "soundtrack     7\n",
       "up             7\n",
       "night          7\n",
       "version        7\n",
       "go             7\n",
       "this           7\n",
       "heart          6\n",
       "motion         6\n",
       "be             6\n",
       "just           6\n",
       "picture        6\n",
       "la             6\n",
       "way            6\n",
       "young          5\n",
       "want           5\n",
       "again          5\n",
       "how            5\n",
       "song           5\n",
       "dtype: int64"
      ]
     },
     "execution_count": 70,
     "metadata": {},
     "output_type": "execute_result"
    }
   ],
   "source": [
    "popular_words.head(50)"
   ]
  },
  {
   "cell_type": "code",
   "execution_count": null,
   "metadata": {},
   "outputs": [],
   "source": []
  }
 ],
 "metadata": {
  "kernelspec": {
   "display_name": "Python 3",
   "language": "python",
   "name": "python3"
  },
  "language_info": {
   "codemirror_mode": {
    "name": "ipython",
    "version": 3
   },
   "file_extension": ".py",
   "mimetype": "text/x-python",
   "name": "python",
   "nbconvert_exporter": "python",
   "pygments_lexer": "ipython3",
   "version": "3.7.4"
  }
 },
 "nbformat": 4,
 "nbformat_minor": 2
}
